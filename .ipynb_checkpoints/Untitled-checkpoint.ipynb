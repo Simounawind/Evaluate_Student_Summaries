{
 "cells": [
  {
   "cell_type": "markdown",
   "id": "b5b689ed",
   "metadata": {},
   "source": [
    "### Résumé de tâche :\n",
    "\n",
    "**L’objectif** est : pour un prompt et deux réponses données R et R* où R* est une **« bonne réponse »**, est-ce que « R est aussi bonne que R* » ?\n",
    "> ⬆️ Comparaison\n",
    "\n",
    "Plus **précisément** : \n",
    "1. Ont-elles des points communs ?  `analyse`\n",
    "2. Des différences ? `analyse`\n",
    "3. Elles se complètent ? En les combinant, on obtiendrait une réponse encore meilleure ?  `génération+évaluation`\n",
    "\n",
    "\n",
    "\n",
    "> - Analyser le problème, proposer une solution et l’implémenter.\n",
    "> - Pas besoin de chercher à faire le meilleur modèle possible (ni de tester des dizaines de modèles)\n",
    "> - Se Concentrer sur l’analyse du problème, la proposition d’une solution pertinente et la qualité du code Python d’implémentation de la solution.\n"
   ]
  },
  {
   "cell_type": "markdown",
   "id": "8f1cd2f0",
   "metadata": {},
   "source": [
    "Analyser le problème :\n",
    "- Tout d'abord, comment déterminer les critères de R, notamment **R***, autrement dit, comment devrait-on subdiviser les notes de contenu.\n",
    "- Dans quel aspects on peut trouver des sim. et diff.  entre R et R* ?\n",
    "- Comment fusionner R et R* pour générer une nouvelle réponse.\n",
    "- Comment évaluer le(s) nouvelle(s) réponse(s)."
   ]
  },
  {
   "cell_type": "markdown",
   "id": "7960d583",
   "metadata": {},
   "source": [
    "---"
   ]
  },
  {
   "cell_type": "markdown",
   "id": "7d21501c",
   "metadata": {},
   "source": [
    "### 1️⃣ Importation des données"
   ]
  },
  {
   "cell_type": "code",
   "execution_count": 25,
   "id": "e5e3fc60",
   "metadata": {},
   "outputs": [],
   "source": [
    "import pandas as pd\n",
    "import matplotlib.pyplot as plt\n",
    "from transformers import AutoTokenizer\n",
    "import re\n",
    "from nltk.tokenize import word_tokenize\n",
    "from nltk import ngrams\n",
    "from sentence_transformers import SentenceTransformer, util\n",
    "import torch\n",
    "import os\n",
    "from openai import OpenAI\n",
    "from getpass import getpass\n",
    "import json\n",
    "from transformers import RobertaTokenizer, RobertaModel\n",
    "from tqdm import tqdm\n",
    "from sklearn.model_selection import train_test_split\n",
    "from xgboost import XGBRegressor\n",
    "import nltk\n",
    "from nltk.corpus import stopwords\n",
    "from sklearn.feature_extraction.text import TfidfVectorizer\n",
    "from sklearn.linear_model import LinearRegression\n",
    "from sklearn.metrics import mean_squared_error\n",
    "from sklearn.preprocessing import StandardScaler\n",
    "from sklearn.metrics.pairwise import cosine_similarity\n",
    "from sklearn.manifold import TSNE\n"
   ]
  },
  {
   "cell_type": "code",
   "execution_count": 2,
   "id": "93fccf99",
   "metadata": {},
   "outputs": [],
   "source": [
    "# importer les données\n",
    "prompts_train_df = pd.read_csv('data/prompts_train.csv')\n",
    "reponses_train_df = pd.read_csv('data/summaries_train.csv')"
   ]
  },
  {
   "cell_type": "code",
   "execution_count": 3,
   "id": "fbaff27d",
   "metadata": {},
   "outputs": [
    {
     "data": {
      "text/plain": [
       "(7165, 5)"
      ]
     },
     "execution_count": 3,
     "metadata": {},
     "output_type": "execute_result"
    }
   ],
   "source": [
    "# vérifier la taille des données\n",
    "reponses_train_df.shape"
   ]
  },
  {
   "cell_type": "code",
   "execution_count": 4,
   "id": "0a53838c",
   "metadata": {},
   "outputs": [
    {
     "data": {
      "text/html": [
       "<div>\n",
       "<style scoped>\n",
       "    .dataframe tbody tr th:only-of-type {\n",
       "        vertical-align: middle;\n",
       "    }\n",
       "\n",
       "    .dataframe tbody tr th {\n",
       "        vertical-align: top;\n",
       "    }\n",
       "\n",
       "    .dataframe thead th {\n",
       "        text-align: right;\n",
       "    }\n",
       "</style>\n",
       "<table border=\"1\" class=\"dataframe\">\n",
       "  <thead>\n",
       "    <tr style=\"text-align: right;\">\n",
       "      <th></th>\n",
       "      <th>student_id</th>\n",
       "      <th>prompt_id</th>\n",
       "      <th>text</th>\n",
       "      <th>content</th>\n",
       "      <th>wording</th>\n",
       "    </tr>\n",
       "  </thead>\n",
       "  <tbody>\n",
       "    <tr>\n",
       "      <th>0</th>\n",
       "      <td>000e8c3c7ddb</td>\n",
       "      <td>814d6b</td>\n",
       "      <td>The third wave was an experimentto see how peo...</td>\n",
       "      <td>0.205683</td>\n",
       "      <td>0.380538</td>\n",
       "    </tr>\n",
       "    <tr>\n",
       "      <th>1</th>\n",
       "      <td>0020ae56ffbf</td>\n",
       "      <td>ebad26</td>\n",
       "      <td>They would rub it up with soda to make the sme...</td>\n",
       "      <td>-0.548304</td>\n",
       "      <td>0.506755</td>\n",
       "    </tr>\n",
       "    <tr>\n",
       "      <th>2</th>\n",
       "      <td>004e978e639e</td>\n",
       "      <td>3b9047</td>\n",
       "      <td>In Egypt, there were many occupations and soci...</td>\n",
       "      <td>3.128928</td>\n",
       "      <td>4.231226</td>\n",
       "    </tr>\n",
       "    <tr>\n",
       "      <th>3</th>\n",
       "      <td>005ab0199905</td>\n",
       "      <td>3b9047</td>\n",
       "      <td>The highest class was Pharaohs these people we...</td>\n",
       "      <td>-0.210614</td>\n",
       "      <td>-0.471415</td>\n",
       "    </tr>\n",
       "    <tr>\n",
       "      <th>4</th>\n",
       "      <td>0070c9e7af47</td>\n",
       "      <td>814d6b</td>\n",
       "      <td>The Third Wave developed  rapidly because the ...</td>\n",
       "      <td>3.272894</td>\n",
       "      <td>3.219757</td>\n",
       "    </tr>\n",
       "  </tbody>\n",
       "</table>\n",
       "</div>"
      ],
      "text/plain": [
       "     student_id prompt_id                                               text  \\\n",
       "0  000e8c3c7ddb    814d6b  The third wave was an experimentto see how peo...   \n",
       "1  0020ae56ffbf    ebad26  They would rub it up with soda to make the sme...   \n",
       "2  004e978e639e    3b9047  In Egypt, there were many occupations and soci...   \n",
       "3  005ab0199905    3b9047  The highest class was Pharaohs these people we...   \n",
       "4  0070c9e7af47    814d6b  The Third Wave developed  rapidly because the ...   \n",
       "\n",
       "    content   wording  \n",
       "0  0.205683  0.380538  \n",
       "1 -0.548304  0.506755  \n",
       "2  3.128928  4.231226  \n",
       "3 -0.210614 -0.471415  \n",
       "4  3.272894  3.219757  "
      ]
     },
     "execution_count": 4,
     "metadata": {},
     "output_type": "execute_result"
    }
   ],
   "source": [
    "# vérifier les premières lignes des données pour avoir une idée de la structure\n",
    "reponses_train_df.head()"
   ]
  },
  {
   "cell_type": "markdown",
   "id": "6f9f9525",
   "metadata": {},
   "source": [
    "---"
   ]
  },
  {
   "cell_type": "markdown",
   "id": "e50e3539",
   "metadata": {},
   "source": [
    "### 2️⃣ EDA (Exploratory Data Analysis) et Ingénierie des caractéristiques"
   ]
  },
  {
   "cell_type": "code",
   "execution_count": 5,
   "id": "89ddf9d0",
   "metadata": {},
   "outputs": [
    {
     "name": "stdout",
     "output_type": "stream",
     "text": [
      "réponses uniques: 7165\n",
      "prompts uniques: 4\n",
      "******************************************************************************************\n",
      "Statistiques de score de content :\n",
      "count    7165.000000\n",
      "mean       -0.014853\n",
      "std         1.043569\n",
      "min        -1.729859\n",
      "25%        -0.799545\n",
      "50%        -0.093814\n",
      "75%         0.499660\n",
      "max         3.900326\n",
      "Name: content, dtype: float64\n",
      "******************************************************************************************\n"
     ]
    }
   ],
   "source": [
    "# obtenir le nombre de réponses uniques et de prompts uniques\n",
    "unique_reponses = reponses_train_df['student_id'].nunique()\n",
    "unique_prompts = reponses_train_df['prompt_id'].nunique()\n",
    "\n",
    "# obtenir les données statistiques descriptives sur les scores de \"content\".\n",
    "score_stats = reponses_train_df['content'].describe()\n",
    "print('réponses uniques:', unique_reponses)\n",
    "print('prompts uniques:', unique_prompts)\n",
    "print('*'*90)\n",
    "print('Statistiques de score de content :')\n",
    "print(score_stats)\n",
    "print('*'*90)"
   ]
  },
  {
   "cell_type": "markdown",
   "id": "208e206f",
   "metadata": {},
   "source": [
    "🔍 Un grand nombre d'élèves ont des scores négatifs.\n",
    "🔍 Une diversité de réponses en termes de qualité de contenu."
   ]
  },
  {
   "cell_type": "markdown",
   "id": "9573df08",
   "metadata": {},
   "source": [
    "---"
   ]
  },
  {
   "cell_type": "markdown",
   "id": "5ec3e23f",
   "metadata": {},
   "source": [
    "On va ensuite effectuer les opérations suivantes sur les deux DataFrames `prompt_train_df` et `reponses_train_df`:\n",
    "1. Fusionner les 2 dfs et faire certains prétraitement\n",
    "2. Supprimer la colonne \"wording\"\n",
    "3. Ajouter d'autres caractéristiques"
   ]
  },
  {
   "cell_type": "code",
   "execution_count": 6,
   "id": "cc2e7984",
   "metadata": {},
   "outputs": [],
   "source": [
    "# fusionner\n",
    "merged_df = reponses_train_df.merge(prompts_train_df[['prompt_id', 'prompt_text','prompt_question']], on='prompt_id', how='left')\n",
    "\n",
    "\n",
    "# rendre it lower \n",
    "merged_df = merged_df.apply(lambda s: s.lower() if type(s) == str else s)\n",
    "\n",
    "# s'assurer que tout ce qui doit être str soit str\n",
    "merged_df[\"text\"]=[str(data) for data in merged_df.text] \n",
    "merged_df[\"prompt_text\"]=[str(data) for data in merged_df.prompt_text] \n",
    "\n",
    "# éliminer les ponctuations\n",
    "# merged_df[\"text\"]=merged_df.text.apply(lambda x: re.sub('[^A-Za-z0-9 ]+', ' ', x))\n",
    "# merged_df[\"prompt_text\"]=merged_df.prompt_text.apply(lambda x: re.sub('[^A-Za-z0-9 ]+', ' ', x))\n",
    "# Les ponctuations sont parfois utiles pour identifier les citations dans une réponse.\n",
    "\n",
    "\n",
    "# supprimer wording score\n",
    "merged_df = merged_df.drop(columns=['wording'])"
   ]
  },
  {
   "cell_type": "code",
   "execution_count": 14,
   "id": "b60f6ef8",
   "metadata": {},
   "outputs": [
    {
     "data": {
      "text/html": [
       "<div>\n",
       "<style scoped>\n",
       "    .dataframe tbody tr th:only-of-type {\n",
       "        vertical-align: middle;\n",
       "    }\n",
       "\n",
       "    .dataframe tbody tr th {\n",
       "        vertical-align: top;\n",
       "    }\n",
       "\n",
       "    .dataframe thead th {\n",
       "        text-align: right;\n",
       "    }\n",
       "</style>\n",
       "<table border=\"1\" class=\"dataframe\">\n",
       "  <thead>\n",
       "    <tr style=\"text-align: right;\">\n",
       "      <th></th>\n",
       "      <th>student_id</th>\n",
       "      <th>prompt_id</th>\n",
       "      <th>text</th>\n",
       "      <th>content</th>\n",
       "      <th>prompt_text</th>\n",
       "      <th>prompt_question</th>\n",
       "      <th>reponse_longueur</th>\n",
       "      <th>prompt_longueur</th>\n",
       "      <th>rep/prompt_ratio</th>\n",
       "      <th>vocabulaire_taille</th>\n",
       "      <th>unigram_overlap</th>\n",
       "      <th>bigram_overlap</th>\n",
       "      <th>trigram_overlap</th>\n",
       "      <th>citation</th>\n",
       "      <th>jaccard_similarité</th>\n",
       "      <th>similarité_sémantique</th>\n",
       "    </tr>\n",
       "  </thead>\n",
       "  <tbody>\n",
       "    <tr>\n",
       "      <th>0</th>\n",
       "      <td>000e8c3c7ddb</td>\n",
       "      <td>814d6b</td>\n",
       "      <td>The third wave was an experimentto see how peo...</td>\n",
       "      <td>0.205683</td>\n",
       "      <td>Background \\r\\nThe Third Wave experiment took ...</td>\n",
       "      <td>Summarize how the Third Wave developed over su...</td>\n",
       "      <td>71</td>\n",
       "      <td>673</td>\n",
       "      <td>0.105498</td>\n",
       "      <td>51</td>\n",
       "      <td>21</td>\n",
       "      <td>2</td>\n",
       "      <td>0</td>\n",
       "      <td>0</td>\n",
       "      <td>0.076190</td>\n",
       "      <td>0.659943</td>\n",
       "    </tr>\n",
       "    <tr>\n",
       "      <th>1</th>\n",
       "      <td>0020ae56ffbf</td>\n",
       "      <td>ebad26</td>\n",
       "      <td>They would rub it up with soda to make the sme...</td>\n",
       "      <td>-0.548304</td>\n",
       "      <td>With one member trimming beef in a cannery, an...</td>\n",
       "      <td>Summarize the various ways the factory would u...</td>\n",
       "      <td>58</td>\n",
       "      <td>1175</td>\n",
       "      <td>0.049362</td>\n",
       "      <td>38</td>\n",
       "      <td>31</td>\n",
       "      <td>18</td>\n",
       "      <td>8</td>\n",
       "      <td>0</td>\n",
       "      <td>0.085427</td>\n",
       "      <td>0.495908</td>\n",
       "    </tr>\n",
       "    <tr>\n",
       "      <th>2</th>\n",
       "      <td>004e978e639e</td>\n",
       "      <td>3b9047</td>\n",
       "      <td>In Egypt, there were many occupations and soci...</td>\n",
       "      <td>3.128928</td>\n",
       "      <td>Egyptian society was structured like a pyramid...</td>\n",
       "      <td>In complete sentences, summarize the structure...</td>\n",
       "      <td>289</td>\n",
       "      <td>659</td>\n",
       "      <td>0.438543</td>\n",
       "      <td>149</td>\n",
       "      <td>65</td>\n",
       "      <td>30</td>\n",
       "      <td>9</td>\n",
       "      <td>2</td>\n",
       "      <td>0.211640</td>\n",
       "      <td>0.784489</td>\n",
       "    </tr>\n",
       "    <tr>\n",
       "      <th>3</th>\n",
       "      <td>005ab0199905</td>\n",
       "      <td>3b9047</td>\n",
       "      <td>The highest class was Pharaohs these people we...</td>\n",
       "      <td>-0.210614</td>\n",
       "      <td>Egyptian society was structured like a pyramid...</td>\n",
       "      <td>In complete sentences, summarize the structure...</td>\n",
       "      <td>41</td>\n",
       "      <td>659</td>\n",
       "      <td>0.062215</td>\n",
       "      <td>19</td>\n",
       "      <td>13</td>\n",
       "      <td>5</td>\n",
       "      <td>4</td>\n",
       "      <td>0</td>\n",
       "      <td>0.047468</td>\n",
       "      <td>0.575283</td>\n",
       "    </tr>\n",
       "    <tr>\n",
       "      <th>4</th>\n",
       "      <td>0070c9e7af47</td>\n",
       "      <td>814d6b</td>\n",
       "      <td>The Third Wave developed  rapidly because the ...</td>\n",
       "      <td>3.272894</td>\n",
       "      <td>Background \\r\\nThe Third Wave experiment took ...</td>\n",
       "      <td>Summarize how the Third Wave developed over su...</td>\n",
       "      <td>263</td>\n",
       "      <td>673</td>\n",
       "      <td>0.390788</td>\n",
       "      <td>138</td>\n",
       "      <td>46</td>\n",
       "      <td>20</td>\n",
       "      <td>4</td>\n",
       "      <td>4</td>\n",
       "      <td>0.142857</td>\n",
       "      <td>0.752955</td>\n",
       "    </tr>\n",
       "  </tbody>\n",
       "</table>\n",
       "</div>"
      ],
      "text/plain": [
       "     student_id prompt_id                                               text  \\\n",
       "0  000e8c3c7ddb    814d6b  The third wave was an experimentto see how peo...   \n",
       "1  0020ae56ffbf    ebad26  They would rub it up with soda to make the sme...   \n",
       "2  004e978e639e    3b9047  In Egypt, there were many occupations and soci...   \n",
       "3  005ab0199905    3b9047  The highest class was Pharaohs these people we...   \n",
       "4  0070c9e7af47    814d6b  The Third Wave developed  rapidly because the ...   \n",
       "\n",
       "    content                                        prompt_text  \\\n",
       "0  0.205683  Background \\r\\nThe Third Wave experiment took ...   \n",
       "1 -0.548304  With one member trimming beef in a cannery, an...   \n",
       "2  3.128928  Egyptian society was structured like a pyramid...   \n",
       "3 -0.210614  Egyptian society was structured like a pyramid...   \n",
       "4  3.272894  Background \\r\\nThe Third Wave experiment took ...   \n",
       "\n",
       "                                     prompt_question  reponse_longueur  \\\n",
       "0  Summarize how the Third Wave developed over su...                71   \n",
       "1  Summarize the various ways the factory would u...                58   \n",
       "2  In complete sentences, summarize the structure...               289   \n",
       "3  In complete sentences, summarize the structure...                41   \n",
       "4  Summarize how the Third Wave developed over su...               263   \n",
       "\n",
       "   prompt_longueur  rep/prompt_ratio  vocabulaire_taille  unigram_overlap  \\\n",
       "0              673          0.105498                  51               21   \n",
       "1             1175          0.049362                  38               31   \n",
       "2              659          0.438543                 149               65   \n",
       "3              659          0.062215                  19               13   \n",
       "4              673          0.390788                 138               46   \n",
       "\n",
       "   bigram_overlap  trigram_overlap  citation  jaccard_similarité  \\\n",
       "0               2                0         0            0.076190   \n",
       "1              18                8         0            0.085427   \n",
       "2              30                9         2            0.211640   \n",
       "3               5                4         0            0.047468   \n",
       "4              20                4         4            0.142857   \n",
       "\n",
       "   similarité_sémantique  \n",
       "0               0.659943  \n",
       "1               0.495908  \n",
       "2               0.784489  \n",
       "3               0.575283  \n",
       "4               0.752955  "
      ]
     },
     "execution_count": 14,
     "metadata": {},
     "output_type": "execute_result"
    }
   ],
   "source": [
    "merged_df.head()"
   ]
  },
  {
   "cell_type": "code",
   "execution_count": 8,
   "id": "82e82244",
   "metadata": {},
   "outputs": [],
   "source": [
    "# Découvrir d'autres caractéristiques"
   ]
  },
  {
   "cell_type": "code",
   "execution_count": 9,
   "id": "86163b83",
   "metadata": {},
   "outputs": [],
   "source": [
    "# Ajout de nouvelles fonctions pour explorer caractéristiques\n",
    "\n",
    "def feature_engineering(df):\n",
    "    tokenizer = AutoTokenizer.from_pretrained(\"bert-base-uncased\")\n",
    "\n",
    "    # calculer la longueur de chaque réponse\n",
    "    def compte_texte_longueur(df, col, tokenizer):\n",
    "        longueur_col = df[col].apply(lambda x: len(tokenizer.encode(x)))\n",
    "        return longueur_col\n",
    "    \n",
    "    # fonction pour calculer la similarité sémantique entre une réponse et son prompt texte\n",
    "    def sim_semantique(ligne, model, prompt_embeddings):\n",
    "        prompt_vecteur = prompt_embeddings[ligne['prompt_id']]\n",
    "        reponse_vecteur = model.encode(ligne['text'], batch_size=1, show_progress_bar=False)\n",
    "        return util.cos_sim([prompt_vecteur], [reponse_vecteur]).item()\n",
    "    \n",
    "\n",
    "    def citation_count(ligne):\n",
    "        reponse = ligne['text']\n",
    "        text    = ligne['prompt_text']\n",
    "        cite_dans_rep = re.findall(r'\"([^\"]*)\"', reponse)\n",
    "        return [citation in text for citation in cite_dans_rep].count(True)\n",
    "    \n",
    "    \n",
    "    def word_ngram_chevauchement(ligne, n):\n",
    "        prompt_tokens = ligne['prompt_text'].split()\n",
    "        reponse_tokens = ligne['text'].split()\n",
    "\n",
    "        prompt_ngrams = set(ngrams(prompt_tokens, n))\n",
    "        reponse_ngrams = set(ngrams(reponse_tokens, n))\n",
    "        \n",
    "        common_ngrams = prompt_ngrams.intersection(reponse_ngrams)\n",
    "        \n",
    "        return len(common_ngrams) / len(reponse_ngrams) if len(reponse_ngrams) else 0, len(common_ngrams)\n",
    "\n",
    "    \n",
    "    # ensuite, on les exécuter\n",
    "    \n",
    "    df['reponse_longueur'] = compte_texte_longueur(df, 'text',tokenizer)\n",
    "    df['prompt_longueur'] = compte_texte_longueur(df, 'prompt_text',tokenizer)\n",
    "    df['rep/prompt_ratio'] = df['reponse_longueur'] / df['prompt_longueur']\n",
    "    \n",
    "    df['vocabulaire_taille'] = df['text'].apply(lambda x: len(set(x.split())))\n",
    "    df['unigram_overlap'] = df.apply(lambda row: len(set(row['prompt_text'].split()) & set(row['text'].split())), axis=1)\n",
    "    df['bigram_overlap']  = df.apply(lambda x: word_ngram_chevauchement(x,2)[1], axis=1 )\n",
    "    df['trigram_overlap'] = df.apply(lambda x: word_ngram_chevauchement(x,3)[1], axis=1 )\n",
    "    \n",
    "    df['citation'] = df.apply(citation_count, axis=1)    \n",
    "    df['jaccard_similarité'] = df.apply(lambda row: len(set(word_tokenize(row['prompt_text'])) & set(word_tokenize(row['text']))) / len(set(word_tokenize(row['prompt_text'])) | set(word_tokenize(row['text']))), axis=1)\n",
    "    \n",
    "    \n",
    "    device = torch.device('cuda' if torch.cuda.is_available() else 'cpu')\n",
    "    embeddings_model = SentenceTransformer('sentence-transformers/all-distilroberta-v1', device=device)\n",
    "    prompt_to_emb_dict = df.groupby('prompt_id')['prompt_text'].first().transform(lambda x: embeddings_model.encode(x, batch_size=1, show_progress_bar=False)).to_dict()\n",
    "    df['similarité_sémantique'] = df.apply(lambda row: sim_semantique(row, embeddings_model, prompt_to_emb_dict), axis=1)\n",
    "\n",
    "    return df\n"
   ]
  },
  {
   "cell_type": "code",
   "execution_count": 10,
   "id": "275b1705",
   "metadata": {},
   "outputs": [
    {
     "name": "stderr",
     "output_type": "stream",
     "text": [
      "Token indices sequence length is longer than the specified maximum sequence length for this model (559 > 512). Running this sequence through the model will result in indexing errors\n",
      "/Users/xiaohua/opt/anaconda3/envs/macrun/lib/python3.9/site-packages/torch/_utils.py:776: UserWarning: TypedStorage is deprecated. It will be removed in the future and UntypedStorage will be the only storage class. This should only matter to you if you are using storages directly.  To access UntypedStorage directly, use tensor.untyped_storage() instead of tensor.storage()\n",
      "  return self.fget.__get__(instance, owner)()\n",
      "huggingface/tokenizers: The current process just got forked, after parallelism has already been used. Disabling parallelism to avoid deadlocks...\n",
      "To disable this warning, you can either:\n",
      "\t- Avoid using `tokenizers` before the fork if possible\n",
      "\t- Explicitly set the environment variable TOKENIZERS_PARALLELISM=(true | false)\n",
      "/Users/xiaohua/opt/anaconda3/envs/macrun/lib/python3.9/site-packages/sentence_transformers/util.py:37: UserWarning: Creating a tensor from a list of numpy.ndarrays is extremely slow. Please consider converting the list to a single numpy.ndarray with numpy.array() before converting to a tensor. (Triggered internally at /Users/runner/work/pytorch/pytorch/pytorch/torch/csrc/utils/tensor_new.cpp:248.)\n",
      "  a = torch.tensor(a)\n"
     ]
    }
   ],
   "source": [
    "merged_df_featured = feature_engineering(merged_df)"
   ]
  },
  {
   "cell_type": "code",
   "execution_count": 11,
   "id": "45c7328d",
   "metadata": {},
   "outputs": [
    {
     "data": {
      "text/html": [
       "<div>\n",
       "<style scoped>\n",
       "    .dataframe tbody tr th:only-of-type {\n",
       "        vertical-align: middle;\n",
       "    }\n",
       "\n",
       "    .dataframe tbody tr th {\n",
       "        vertical-align: top;\n",
       "    }\n",
       "\n",
       "    .dataframe thead th {\n",
       "        text-align: right;\n",
       "    }\n",
       "</style>\n",
       "<table border=\"1\" class=\"dataframe\">\n",
       "  <thead>\n",
       "    <tr style=\"text-align: right;\">\n",
       "      <th></th>\n",
       "      <th>student_id</th>\n",
       "      <th>prompt_id</th>\n",
       "      <th>text</th>\n",
       "      <th>content</th>\n",
       "      <th>prompt_text</th>\n",
       "      <th>prompt_question</th>\n",
       "      <th>reponse_longueur</th>\n",
       "      <th>prompt_longueur</th>\n",
       "      <th>rep/prompt_ratio</th>\n",
       "      <th>vocabulaire_taille</th>\n",
       "      <th>unigram_overlap</th>\n",
       "      <th>bigram_overlap</th>\n",
       "      <th>trigram_overlap</th>\n",
       "      <th>citation</th>\n",
       "      <th>jaccard_similarité</th>\n",
       "      <th>similarité_sémantique</th>\n",
       "    </tr>\n",
       "  </thead>\n",
       "  <tbody>\n",
       "    <tr>\n",
       "      <th>0</th>\n",
       "      <td>000e8c3c7ddb</td>\n",
       "      <td>814d6b</td>\n",
       "      <td>The third wave was an experimentto see how peo...</td>\n",
       "      <td>0.205683</td>\n",
       "      <td>Background \\r\\nThe Third Wave experiment took ...</td>\n",
       "      <td>Summarize how the Third Wave developed over su...</td>\n",
       "      <td>71</td>\n",
       "      <td>673</td>\n",
       "      <td>0.105498</td>\n",
       "      <td>51</td>\n",
       "      <td>21</td>\n",
       "      <td>2</td>\n",
       "      <td>0</td>\n",
       "      <td>0</td>\n",
       "      <td>0.076190</td>\n",
       "      <td>0.659943</td>\n",
       "    </tr>\n",
       "    <tr>\n",
       "      <th>1</th>\n",
       "      <td>0020ae56ffbf</td>\n",
       "      <td>ebad26</td>\n",
       "      <td>They would rub it up with soda to make the sme...</td>\n",
       "      <td>-0.548304</td>\n",
       "      <td>With one member trimming beef in a cannery, an...</td>\n",
       "      <td>Summarize the various ways the factory would u...</td>\n",
       "      <td>58</td>\n",
       "      <td>1175</td>\n",
       "      <td>0.049362</td>\n",
       "      <td>38</td>\n",
       "      <td>31</td>\n",
       "      <td>18</td>\n",
       "      <td>8</td>\n",
       "      <td>0</td>\n",
       "      <td>0.085427</td>\n",
       "      <td>0.495908</td>\n",
       "    </tr>\n",
       "    <tr>\n",
       "      <th>2</th>\n",
       "      <td>004e978e639e</td>\n",
       "      <td>3b9047</td>\n",
       "      <td>In Egypt, there were many occupations and soci...</td>\n",
       "      <td>3.128928</td>\n",
       "      <td>Egyptian society was structured like a pyramid...</td>\n",
       "      <td>In complete sentences, summarize the structure...</td>\n",
       "      <td>289</td>\n",
       "      <td>659</td>\n",
       "      <td>0.438543</td>\n",
       "      <td>149</td>\n",
       "      <td>65</td>\n",
       "      <td>30</td>\n",
       "      <td>9</td>\n",
       "      <td>2</td>\n",
       "      <td>0.211640</td>\n",
       "      <td>0.784489</td>\n",
       "    </tr>\n",
       "    <tr>\n",
       "      <th>3</th>\n",
       "      <td>005ab0199905</td>\n",
       "      <td>3b9047</td>\n",
       "      <td>The highest class was Pharaohs these people we...</td>\n",
       "      <td>-0.210614</td>\n",
       "      <td>Egyptian society was structured like a pyramid...</td>\n",
       "      <td>In complete sentences, summarize the structure...</td>\n",
       "      <td>41</td>\n",
       "      <td>659</td>\n",
       "      <td>0.062215</td>\n",
       "      <td>19</td>\n",
       "      <td>13</td>\n",
       "      <td>5</td>\n",
       "      <td>4</td>\n",
       "      <td>0</td>\n",
       "      <td>0.047468</td>\n",
       "      <td>0.575283</td>\n",
       "    </tr>\n",
       "    <tr>\n",
       "      <th>4</th>\n",
       "      <td>0070c9e7af47</td>\n",
       "      <td>814d6b</td>\n",
       "      <td>The Third Wave developed  rapidly because the ...</td>\n",
       "      <td>3.272894</td>\n",
       "      <td>Background \\r\\nThe Third Wave experiment took ...</td>\n",
       "      <td>Summarize how the Third Wave developed over su...</td>\n",
       "      <td>263</td>\n",
       "      <td>673</td>\n",
       "      <td>0.390788</td>\n",
       "      <td>138</td>\n",
       "      <td>46</td>\n",
       "      <td>20</td>\n",
       "      <td>4</td>\n",
       "      <td>4</td>\n",
       "      <td>0.142857</td>\n",
       "      <td>0.752955</td>\n",
       "    </tr>\n",
       "  </tbody>\n",
       "</table>\n",
       "</div>"
      ],
      "text/plain": [
       "     student_id prompt_id                                               text  \\\n",
       "0  000e8c3c7ddb    814d6b  The third wave was an experimentto see how peo...   \n",
       "1  0020ae56ffbf    ebad26  They would rub it up with soda to make the sme...   \n",
       "2  004e978e639e    3b9047  In Egypt, there were many occupations and soci...   \n",
       "3  005ab0199905    3b9047  The highest class was Pharaohs these people we...   \n",
       "4  0070c9e7af47    814d6b  The Third Wave developed  rapidly because the ...   \n",
       "\n",
       "    content                                        prompt_text  \\\n",
       "0  0.205683  Background \\r\\nThe Third Wave experiment took ...   \n",
       "1 -0.548304  With one member trimming beef in a cannery, an...   \n",
       "2  3.128928  Egyptian society was structured like a pyramid...   \n",
       "3 -0.210614  Egyptian society was structured like a pyramid...   \n",
       "4  3.272894  Background \\r\\nThe Third Wave experiment took ...   \n",
       "\n",
       "                                     prompt_question  reponse_longueur  \\\n",
       "0  Summarize how the Third Wave developed over su...                71   \n",
       "1  Summarize the various ways the factory would u...                58   \n",
       "2  In complete sentences, summarize the structure...               289   \n",
       "3  In complete sentences, summarize the structure...                41   \n",
       "4  Summarize how the Third Wave developed over su...               263   \n",
       "\n",
       "   prompt_longueur  rep/prompt_ratio  vocabulaire_taille  unigram_overlap  \\\n",
       "0              673          0.105498                  51               21   \n",
       "1             1175          0.049362                  38               31   \n",
       "2              659          0.438543                 149               65   \n",
       "3              659          0.062215                  19               13   \n",
       "4              673          0.390788                 138               46   \n",
       "\n",
       "   bigram_overlap  trigram_overlap  citation  jaccard_similarité  \\\n",
       "0               2                0         0            0.076190   \n",
       "1              18                8         0            0.085427   \n",
       "2              30                9         2            0.211640   \n",
       "3               5                4         0            0.047468   \n",
       "4              20                4         4            0.142857   \n",
       "\n",
       "   similarité_sémantique  \n",
       "0               0.659943  \n",
       "1               0.495908  \n",
       "2               0.784489  \n",
       "3               0.575283  \n",
       "4               0.752955  "
      ]
     },
     "execution_count": 11,
     "metadata": {},
     "output_type": "execute_result"
    }
   ],
   "source": [
    "merged_df_featured.head()"
   ]
  },
  {
   "cell_type": "code",
   "execution_count": 12,
   "id": "a6f770dc",
   "metadata": {},
   "outputs": [],
   "source": [
    "# garder en csv\n",
    "merged_df_featured.to_csv('data/merged_df_featured.csv', index=False)\n"
   ]
  },
  {
   "cell_type": "markdown",
   "id": "cbe49fa6",
   "metadata": {},
   "source": [
    "---"
   ]
  },
  {
   "cell_type": "markdown",
   "id": "73fc9467",
   "metadata": {},
   "source": [
    "## 3️⃣ Étudier les corrélations des features"
   ]
  },
  {
   "cell_type": "code",
   "execution_count": 13,
   "id": "f9d86742",
   "metadata": {},
   "outputs": [
    {
     "data": {
      "image/png": "[encoded data removed]",
      "text/plain": [
       "<Figure size 800x400 with 2 Axes>"
      ]
     },
     "metadata": {},
     "output_type": "display_data"
    },
    {
     "data": {
      "text/plain": [
       "(0.7830246843816084, 0.806766673766287)"
      ]
     },
     "execution_count": 13,
     "metadata": {},
     "output_type": "execute_result"
    }
   ],
   "source": [
    "# Une première visualisation\n",
    "\n",
    "\n",
    "# Configuration de la figure et des axes pour deux sous-graphiques\n",
    "fig, (ax1, ax2) = plt.subplots(1, 2, figsize=(8,4), dpi=100)\n",
    "\n",
    "# Graphique pour le score et la longueur de réponse\n",
    "ax1.scatter(merged_df_featured['reponse_longueur'], merged_df_featured['content'], alpha=0.5, color='blue')\n",
    "ax1.set_title('S_content vs reponse_longueur')\n",
    "ax1.set_xlabel('reponse_longueur')\n",
    "ax1.set_ylabel('Content Score')\n",
    "\n",
    "# Graphique pour le score et le nombre de mots uniques\n",
    "ax2.scatter(merged_df_featured['vocabulaire_taille'], merged_df_featured['content'], alpha=0.5, color='blue')\n",
    "ax2.set_title('S_content vs vocabulaire_longueur')\n",
    "ax2.set_xlabel('vocabulaire_longueur')\n",
    "ax2.set_ylabel('Content Score')\n",
    "\n",
    "\n",
    "plt.tight_layout()\n",
    "plt.show()\n",
    "\n",
    "# Calcul de la corrélation\n",
    "word_count_content_corr = merged_df_featured['reponse_longueur'].corr(merged_df_featured['content'])\n",
    "vocabulary_richness_corr = merged_df_featured['vocabulaire_taille'].corr(merged_df_featured['content'])\n",
    "\n",
    "\n",
    "(word_count_content_corr, vocabulary_richness_corr)"
   ]
  },
  {
   "cell_type": "markdown",
   "id": "63558b4b",
   "metadata": {},
   "source": [
    "1. Une corrélation positive évidente\n",
    "2. La quantité de mots uniques utilisés a un impact plus important sur le score de contenu que la simple longueur du texte"
   ]
  },
  {
   "cell_type": "markdown",
   "id": "440e15a4",
   "metadata": {},
   "source": []
  },
  {
   "cell_type": "code",
   "execution_count": 15,
   "id": "71c5b845",
   "metadata": {},
   "outputs": [
    {
     "data": {
      "image/png": "[encoded data removed]",
      "text/plain": [
       "<Figure size 800x800 with 2 Axes>"
      ]
     },
     "metadata": {},
     "output_type": "display_data"
    }
   ],
   "source": [
    "import seaborn as sns\n",
    "import matplotlib.pyplot as plt\n",
    "selected_vars = ['content', 'reponse_longueur', 'prompt_longueur', 'rep/prompt_ratio', 'vocabulaire_taille', 'unigram_overlap', 'citation', 'bigram_overlap', 'trigram_overlap', 'jaccard_similarité']\n",
    "\n",
    "subset_df = merged_df_featured[selected_vars]\n",
    "\n",
    "# Calculer le correlation matrice\n",
    "correlation_matrice = subset_df.corr()\n",
    "\n",
    "plt.figure(figsize=(8, 8))\n",
    "\n",
    "sns.heatmap(correlation_matrice, annot=True, cmap='coolwarm', center=0)\n",
    "plt.title(\"Correlation Matrice des variables sélectionnées\")\n",
    "plt.show()"
   ]
  },
  {
   "cell_type": "markdown",
   "id": "1b9e571b",
   "metadata": {},
   "source": [
    "---"
   ]
  },
  {
   "cell_type": "markdown",
   "id": "1f9fa259",
   "metadata": {},
   "source": [
    "## 4️⃣ Définir le R et R*"
   ]
  },
  {
   "cell_type": "code",
   "execution_count": 16,
   "id": "655fb337",
   "metadata": {},
   "outputs": [
    {
     "data": {
      "image/png": "[encoded data removed]",
      "text/plain": [
       "<Figure size 800x400 with 2 Axes>"
      ]
     },
     "metadata": {},
     "output_type": "display_data"
    }
   ],
   "source": [
    "# un peu de visualisation pour la distribution des data\n",
    "import matplotlib.pyplot as plt\n",
    "\n",
    "fig, ax = plt.subplots(1, 2, figsize=(8, 4))\n",
    "\n",
    "# Plotting histograms\n",
    "ax[0].hist(reponses_train_df['content'], bins=30, color='green', edgecolor='black')\n",
    "ax[0].set_title('Distribution: Score')\n",
    "ax[0].set_xlabel('Score')\n",
    "ax[0].set_ylabel('Freq')\n",
    "\n",
    "ax[1].hist(merged_df_featured['reponse_longueur'], bins=30, color='blue', edgecolor='black')\n",
    "ax[1].set_title('Distribution: Longueur de réponse')\n",
    "ax[1].set_xlabel('Longueur')\n",
    "ax[1].set_ylabel('Freq')\n",
    "\n",
    "# Adjusting the layout to prevent overlap\n",
    "plt.tight_layout()\n",
    "\n",
    "# Displaying the plots\n",
    "plt.show()"
   ]
  },
  {
   "cell_type": "code",
   "execution_count": null,
   "id": "54d33661",
   "metadata": {},
   "outputs": [],
   "source": []
  },
  {
   "cell_type": "markdown",
   "id": "9bc7e198",
   "metadata": {},
   "source": [
    "**Distribution du score:** légèrement asymétrique à gauche, mais globalement une distribution normale avec un pic légèrement inférieur à zéro.\n",
    "\n",
    "**Distribution du nombre de mots dans les résumés:** Fortement asymétrique. La plupart des résumés contiennent un nombre relativement faible de mots."
   ]
  },
  {
   "cell_type": "markdown",
   "id": "be645d38",
   "metadata": {},
   "source": [
    "---\n",
    "**Pour évaluer la qualité d'une réponse, nous pouvons diviser l'ensemble de données comme suit :**\n",
    "\n",
    "- Réponses de qualité inférieure :             n <= -1\n",
    "- Réponses moyennes          :              -1 < n < 1\n",
    "- Bonnes réponses         :                1 <= n <= 3\n",
    "- Réponses excellentes      :                    n > 3\n"
   ]
  },
  {
   "cell_type": "code",
   "execution_count": 72,
   "id": "46c1c482",
   "metadata": {},
   "outputs": [],
   "source": [
    "def categoriser_score(n):\n",
    "    if n <= 0:\n",
    "        return 'mauvais'\n",
    "    elif n <= 1:\n",
    "        return 'moyen'\n",
    "    elif n <= 3:\n",
    "        return 'bon'\n",
    "    else: # n > 3\n",
    "        return 'excellent'\n",
    "\n",
    "# Appliquer cette fonction et créer une nouvelle colonne 'quality_category'\n",
    "merged_df_featured['cat'] = merged_df_featured['content'].apply(categoriser_score)\n",
    "merged_df_featured.to_csv('data/merged_df_featured_cat.csv', index=False)\n"
   ]
  },
  {
   "cell_type": "code",
   "execution_count": 73,
   "id": "05387b34",
   "metadata": {},
   "outputs": [
    {
     "data": {
      "text/html": [
       "<div>\n",
       "<style scoped>\n",
       "    .dataframe tbody tr th:only-of-type {\n",
       "        vertical-align: middle;\n",
       "    }\n",
       "\n",
       "    .dataframe tbody tr th {\n",
       "        vertical-align: top;\n",
       "    }\n",
       "\n",
       "    .dataframe thead th {\n",
       "        text-align: right;\n",
       "    }\n",
       "</style>\n",
       "<table border=\"1\" class=\"dataframe\">\n",
       "  <thead>\n",
       "    <tr style=\"text-align: right;\">\n",
       "      <th></th>\n",
       "      <th>student_id</th>\n",
       "      <th>prompt_id</th>\n",
       "      <th>text</th>\n",
       "      <th>content</th>\n",
       "      <th>prompt_text</th>\n",
       "      <th>prompt_question</th>\n",
       "      <th>reponse_longueur</th>\n",
       "      <th>prompt_longueur</th>\n",
       "      <th>rep/prompt_ratio</th>\n",
       "      <th>vocabulaire_taille</th>\n",
       "      <th>unigram_overlap</th>\n",
       "      <th>bigram_overlap</th>\n",
       "      <th>trigram_overlap</th>\n",
       "      <th>citation</th>\n",
       "      <th>jaccard_similarité</th>\n",
       "      <th>similarité_sémantique</th>\n",
       "      <th>cat</th>\n",
       "    </tr>\n",
       "  </thead>\n",
       "  <tbody>\n",
       "    <tr>\n",
       "      <th>0</th>\n",
       "      <td>000e8c3c7ddb</td>\n",
       "      <td>814d6b</td>\n",
       "      <td>The third wave was an experimentto see how peo...</td>\n",
       "      <td>0.205683</td>\n",
       "      <td>Background \\r\\nThe Third Wave experiment took ...</td>\n",
       "      <td>Summarize how the Third Wave developed over su...</td>\n",
       "      <td>71</td>\n",
       "      <td>673</td>\n",
       "      <td>0.105498</td>\n",
       "      <td>51</td>\n",
       "      <td>21</td>\n",
       "      <td>2</td>\n",
       "      <td>0</td>\n",
       "      <td>0</td>\n",
       "      <td>0.076190</td>\n",
       "      <td>0.659943</td>\n",
       "      <td>moyen</td>\n",
       "    </tr>\n",
       "    <tr>\n",
       "      <th>1</th>\n",
       "      <td>0020ae56ffbf</td>\n",
       "      <td>ebad26</td>\n",
       "      <td>They would rub it up with soda to make the sme...</td>\n",
       "      <td>-0.548304</td>\n",
       "      <td>With one member trimming beef in a cannery, an...</td>\n",
       "      <td>Summarize the various ways the factory would u...</td>\n",
       "      <td>58</td>\n",
       "      <td>1175</td>\n",
       "      <td>0.049362</td>\n",
       "      <td>38</td>\n",
       "      <td>31</td>\n",
       "      <td>18</td>\n",
       "      <td>8</td>\n",
       "      <td>0</td>\n",
       "      <td>0.085427</td>\n",
       "      <td>0.495908</td>\n",
       "      <td>mauvais</td>\n",
       "    </tr>\n",
       "    <tr>\n",
       "      <th>2</th>\n",
       "      <td>004e978e639e</td>\n",
       "      <td>3b9047</td>\n",
       "      <td>In Egypt, there were many occupations and soci...</td>\n",
       "      <td>3.128928</td>\n",
       "      <td>Egyptian society was structured like a pyramid...</td>\n",
       "      <td>In complete sentences, summarize the structure...</td>\n",
       "      <td>289</td>\n",
       "      <td>659</td>\n",
       "      <td>0.438543</td>\n",
       "      <td>149</td>\n",
       "      <td>65</td>\n",
       "      <td>30</td>\n",
       "      <td>9</td>\n",
       "      <td>2</td>\n",
       "      <td>0.211640</td>\n",
       "      <td>0.784489</td>\n",
       "      <td>excellent</td>\n",
       "    </tr>\n",
       "    <tr>\n",
       "      <th>3</th>\n",
       "      <td>005ab0199905</td>\n",
       "      <td>3b9047</td>\n",
       "      <td>The highest class was Pharaohs these people we...</td>\n",
       "      <td>-0.210614</td>\n",
       "      <td>Egyptian society was structured like a pyramid...</td>\n",
       "      <td>In complete sentences, summarize the structure...</td>\n",
       "      <td>41</td>\n",
       "      <td>659</td>\n",
       "      <td>0.062215</td>\n",
       "      <td>19</td>\n",
       "      <td>13</td>\n",
       "      <td>5</td>\n",
       "      <td>4</td>\n",
       "      <td>0</td>\n",
       "      <td>0.047468</td>\n",
       "      <td>0.575283</td>\n",
       "      <td>mauvais</td>\n",
       "    </tr>\n",
       "    <tr>\n",
       "      <th>4</th>\n",
       "      <td>0070c9e7af47</td>\n",
       "      <td>814d6b</td>\n",
       "      <td>The Third Wave developed  rapidly because the ...</td>\n",
       "      <td>3.272894</td>\n",
       "      <td>Background \\r\\nThe Third Wave experiment took ...</td>\n",
       "      <td>Summarize how the Third Wave developed over su...</td>\n",
       "      <td>263</td>\n",
       "      <td>673</td>\n",
       "      <td>0.390788</td>\n",
       "      <td>138</td>\n",
       "      <td>46</td>\n",
       "      <td>20</td>\n",
       "      <td>4</td>\n",
       "      <td>4</td>\n",
       "      <td>0.142857</td>\n",
       "      <td>0.752955</td>\n",
       "      <td>excellent</td>\n",
       "    </tr>\n",
       "  </tbody>\n",
       "</table>\n",
       "</div>"
      ],
      "text/plain": [
       "     student_id prompt_id                                               text  \\\n",
       "0  000e8c3c7ddb    814d6b  The third wave was an experimentto see how peo...   \n",
       "1  0020ae56ffbf    ebad26  They would rub it up with soda to make the sme...   \n",
       "2  004e978e639e    3b9047  In Egypt, there were many occupations and soci...   \n",
       "3  005ab0199905    3b9047  The highest class was Pharaohs these people we...   \n",
       "4  0070c9e7af47    814d6b  The Third Wave developed  rapidly because the ...   \n",
       "\n",
       "    content                                        prompt_text  \\\n",
       "0  0.205683  Background \\r\\nThe Third Wave experiment took ...   \n",
       "1 -0.548304  With one member trimming beef in a cannery, an...   \n",
       "2  3.128928  Egyptian society was structured like a pyramid...   \n",
       "3 -0.210614  Egyptian society was structured like a pyramid...   \n",
       "4  3.272894  Background \\r\\nThe Third Wave experiment took ...   \n",
       "\n",
       "                                     prompt_question  reponse_longueur  \\\n",
       "0  Summarize how the Third Wave developed over su...                71   \n",
       "1  Summarize the various ways the factory would u...                58   \n",
       "2  In complete sentences, summarize the structure...               289   \n",
       "3  In complete sentences, summarize the structure...                41   \n",
       "4  Summarize how the Third Wave developed over su...               263   \n",
       "\n",
       "   prompt_longueur  rep/prompt_ratio  vocabulaire_taille  unigram_overlap  \\\n",
       "0              673          0.105498                  51               21   \n",
       "1             1175          0.049362                  38               31   \n",
       "2              659          0.438543                 149               65   \n",
       "3              659          0.062215                  19               13   \n",
       "4              673          0.390788                 138               46   \n",
       "\n",
       "   bigram_overlap  trigram_overlap  citation  jaccard_similarité  \\\n",
       "0               2                0         0            0.076190   \n",
       "1              18                8         0            0.085427   \n",
       "2              30                9         2            0.211640   \n",
       "3               5                4         0            0.047468   \n",
       "4              20                4         4            0.142857   \n",
       "\n",
       "   similarité_sémantique        cat  \n",
       "0               0.659943      moyen  \n",
       "1               0.495908    mauvais  \n",
       "2               0.784489  excellent  \n",
       "3               0.575283    mauvais  \n",
       "4               0.752955  excellent  "
      ]
     },
     "execution_count": 73,
     "metadata": {},
     "output_type": "execute_result"
    }
   ],
   "source": [
    "merged_df_featured.head()"
   ]
  },
  {
   "cell_type": "code",
   "execution_count": 74,
   "id": "10882a33",
   "metadata": {},
   "outputs": [
    {
     "data": {
      "text/plain": [
       "cat\n",
       "mauvais      4064\n",
       "moyen        1947\n",
       "bon          1085\n",
       "excellent      67\n",
       "Name: count, dtype: int64"
      ]
     },
     "execution_count": 74,
     "metadata": {},
     "output_type": "execute_result"
    }
   ],
   "source": [
    "# Comptes de chaque cat\n",
    "cat_stats = merged_df_featured['cat'].value_counts()\n",
    "cat_stats"
   ]
  },
  {
   "cell_type": "code",
   "execution_count": 129,
   "id": "327e4788",
   "metadata": {},
   "outputs": [],
   "source": [
    "# Ensuite, extraire!\n",
    "\n",
    "# On va extraire une réponse provenant des catégories \"bon\" ou \"excellent\"\n",
    "# Puis on extrait une réponse d'un élève choisi au hasard, mais sur le même prompt.\n",
    "\n",
    "\n",
    "# Sélection aléatoire un enregistrement parmi les 'bon' ou les 'excellent'\n",
    "good_answers_df = merged_df_featured[merged_df_featured['cat'].isin(['bon', 'excellent'])]\n",
    "r_star = good_answers_df.sample(n=1)\n",
    "\n",
    "# En fonction du prompt_id de la réponse sélectionnée, trouver une autre réponse\n",
    "r_random = merged_df_featured[merged_df_featured['prompt_id'] == r_star['prompt_id'].values[0]].drop(r_star.index).sample(n=1)\n",
    "\n",
    "\n",
    "# # Suppression de ces deux enregistrements du DataFrame original\n",
    "# merged_df_featured = merged_df_featured.drop(r_star.index)\n",
    "# merged_df_featured = merged_df_featured.drop(r_random.index)"
   ]
  },
  {
   "cell_type": "markdown",
   "id": "db7e4e8b",
   "metadata": {},
   "source": [
    "---"
   ]
  },
  {
   "cell_type": "markdown",
   "id": "62fd41fd",
   "metadata": {},
   "source": [
    "## 5️⃣ Comparer les deux réponses"
   ]
  },
  {
   "cell_type": "code",
   "execution_count": 130,
   "id": "59e26573",
   "metadata": {},
   "outputs": [
    {
     "data": {
      "text/html": [
       "<div>\n",
       "<style scoped>\n",
       "    .dataframe tbody tr th:only-of-type {\n",
       "        vertical-align: middle;\n",
       "    }\n",
       "\n",
       "    .dataframe tbody tr th {\n",
       "        vertical-align: top;\n",
       "    }\n",
       "\n",
       "    .dataframe thead th {\n",
       "        text-align: right;\n",
       "    }\n",
       "</style>\n",
       "<table border=\"1\" class=\"dataframe\">\n",
       "  <thead>\n",
       "    <tr style=\"text-align: right;\">\n",
       "      <th></th>\n",
       "      <th>student_id</th>\n",
       "      <th>prompt_id</th>\n",
       "      <th>text</th>\n",
       "      <th>content</th>\n",
       "      <th>prompt_text</th>\n",
       "      <th>prompt_question</th>\n",
       "      <th>reponse_longueur</th>\n",
       "      <th>prompt_longueur</th>\n",
       "      <th>rep/prompt_ratio</th>\n",
       "      <th>vocabulaire_taille</th>\n",
       "      <th>unigram_overlap</th>\n",
       "      <th>bigram_overlap</th>\n",
       "      <th>trigram_overlap</th>\n",
       "      <th>citation</th>\n",
       "      <th>jaccard_similarité</th>\n",
       "      <th>similarité_sémantique</th>\n",
       "      <th>cat</th>\n",
       "    </tr>\n",
       "  </thead>\n",
       "  <tbody>\n",
       "    <tr>\n",
       "      <th>6003</th>\n",
       "      <td>d5c0955a38bf</td>\n",
       "      <td>ebad26</td>\n",
       "      <td>One way they would cover up spoiled mean is by...</td>\n",
       "      <td>1.910893</td>\n",
       "      <td>With one member trimming beef in a cannery, an...</td>\n",
       "      <td>Summarize the various ways the factory would u...</td>\n",
       "      <td>134</td>\n",
       "      <td>1175</td>\n",
       "      <td>0.114043</td>\n",
       "      <td>69</td>\n",
       "      <td>34</td>\n",
       "      <td>18</td>\n",
       "      <td>6</td>\n",
       "      <td>0</td>\n",
       "      <td>0.085847</td>\n",
       "      <td>0.621054</td>\n",
       "      <td>bon</td>\n",
       "    </tr>\n",
       "  </tbody>\n",
       "</table>\n",
       "</div>"
      ],
      "text/plain": [
       "        student_id prompt_id  \\\n",
       "6003  d5c0955a38bf    ebad26   \n",
       "\n",
       "                                                   text   content  \\\n",
       "6003  One way they would cover up spoiled mean is by...  1.910893   \n",
       "\n",
       "                                            prompt_text  \\\n",
       "6003  With one member trimming beef in a cannery, an...   \n",
       "\n",
       "                                        prompt_question  reponse_longueur  \\\n",
       "6003  Summarize the various ways the factory would u...               134   \n",
       "\n",
       "      prompt_longueur  rep/prompt_ratio  vocabulaire_taille  unigram_overlap  \\\n",
       "6003             1175          0.114043                  69               34   \n",
       "\n",
       "      bigram_overlap  trigram_overlap  citation  jaccard_similarité  \\\n",
       "6003              18                6         0            0.085847   \n",
       "\n",
       "      similarité_sémantique  cat  \n",
       "6003               0.621054  bon  "
      ]
     },
     "execution_count": 130,
     "metadata": {},
     "output_type": "execute_result"
    }
   ],
   "source": [
    "# Affichage des résultats\n",
    "r_star"
   ]
  },
  {
   "cell_type": "code",
   "execution_count": 131,
   "id": "2476c59c",
   "metadata": {},
   "outputs": [
    {
     "data": {
      "text/html": [
       "<div>\n",
       "<style scoped>\n",
       "    .dataframe tbody tr th:only-of-type {\n",
       "        vertical-align: middle;\n",
       "    }\n",
       "\n",
       "    .dataframe tbody tr th {\n",
       "        vertical-align: top;\n",
       "    }\n",
       "\n",
       "    .dataframe thead th {\n",
       "        text-align: right;\n",
       "    }\n",
       "</style>\n",
       "<table border=\"1\" class=\"dataframe\">\n",
       "  <thead>\n",
       "    <tr style=\"text-align: right;\">\n",
       "      <th></th>\n",
       "      <th>student_id</th>\n",
       "      <th>prompt_id</th>\n",
       "      <th>text</th>\n",
       "      <th>content</th>\n",
       "      <th>prompt_text</th>\n",
       "      <th>prompt_question</th>\n",
       "      <th>reponse_longueur</th>\n",
       "      <th>prompt_longueur</th>\n",
       "      <th>rep/prompt_ratio</th>\n",
       "      <th>vocabulaire_taille</th>\n",
       "      <th>unigram_overlap</th>\n",
       "      <th>bigram_overlap</th>\n",
       "      <th>trigram_overlap</th>\n",
       "      <th>citation</th>\n",
       "      <th>jaccard_similarité</th>\n",
       "      <th>similarité_sémantique</th>\n",
       "      <th>cat</th>\n",
       "    </tr>\n",
       "  </thead>\n",
       "  <tbody>\n",
       "    <tr>\n",
       "      <th>957</th>\n",
       "      <td>22519d09a5d4</td>\n",
       "      <td>ebad26</td>\n",
       "      <td>They would pickle the spoiled meet to make it ...</td>\n",
       "      <td>0.388379</td>\n",
       "      <td>With one member trimming beef in a cannery, an...</td>\n",
       "      <td>Summarize the various ways the factory would u...</td>\n",
       "      <td>86</td>\n",
       "      <td>1175</td>\n",
       "      <td>0.073191</td>\n",
       "      <td>49</td>\n",
       "      <td>37</td>\n",
       "      <td>42</td>\n",
       "      <td>38</td>\n",
       "      <td>1</td>\n",
       "      <td>0.10396</td>\n",
       "      <td>0.636407</td>\n",
       "      <td>moyen</td>\n",
       "    </tr>\n",
       "  </tbody>\n",
       "</table>\n",
       "</div>"
      ],
      "text/plain": [
       "       student_id prompt_id  \\\n",
       "957  22519d09a5d4    ebad26   \n",
       "\n",
       "                                                  text   content  \\\n",
       "957  They would pickle the spoiled meet to make it ...  0.388379   \n",
       "\n",
       "                                           prompt_text  \\\n",
       "957  With one member trimming beef in a cannery, an...   \n",
       "\n",
       "                                       prompt_question  reponse_longueur  \\\n",
       "957  Summarize the various ways the factory would u...                86   \n",
       "\n",
       "     prompt_longueur  rep/prompt_ratio  vocabulaire_taille  unigram_overlap  \\\n",
       "957             1175          0.073191                  49               37   \n",
       "\n",
       "     bigram_overlap  trigram_overlap  citation  jaccard_similarité  \\\n",
       "957              42               38         1             0.10396   \n",
       "\n",
       "     similarité_sémantique    cat  \n",
       "957               0.636407  moyen  "
      ]
     },
     "execution_count": 131,
     "metadata": {},
     "output_type": "execute_result"
    }
   ],
   "source": [
    "r_random"
   ]
  },
  {
   "cell_type": "code",
   "execution_count": 163,
   "id": "ed526625",
   "metadata": {},
   "outputs": [
    {
     "name": "stdout",
     "output_type": "stream",
     "text": [
      "Top N Keywords for Document 1:\n",
      "paragraph: 0.3418385244544408\n",
      "they: 0.21378036279500556\n",
      "meat: 0.1997211725243894\n",
      "anattractive: 0.19348733703586177\n",
      "combing: 0.19348733703586177\n",
      "\n",
      "Top N Keywords for Document 2:\n",
      "actualy: 0.2847929421780695\n",
      "uo: 0.272219536486327\n",
      "would: 0.24927122693674159\n",
      "sour: 0.23678983350072907\n",
      "to: 0.229527883553944\n"
     ]
    }
   ],
   "source": []
  },
  {
   "cell_type": "code",
   "execution_count": 132,
   "id": "b9fe9d6f",
   "metadata": {},
   "outputs": [],
   "source": [
    "# 可以通过向量 相似度，特征选择自己生成的\n",
    "# 也可以通过词汇展示：通过 word embedding 或者 tfidf 提取关键词进行陈述"
   ]
  },
  {
   "cell_type": "code",
   "execution_count": 133,
   "id": "ea5b9aa2",
   "metadata": {},
   "outputs": [],
   "source": [
    "\n",
    "def extract_features_features(df):\n",
    "    feature_columns = ['reponse_longueur', 'rep/prompt_ratio', 'vocabulaire_taille', 'unigram_overlap', 'bigram_overlap','trigram_overlap','citation','jaccard_similarité','similarité_sémantique']\n",
    "    feature_data = df[feature_columns]\n",
    "    return feature_data\n",
    "    \n",
    "def normalization(feature_data):\n",
    "    scaler = StandardScaler()\n",
    "    scaled_features = scaler.fit_transform(feature_data)\n",
    "    return scaled_features\n",
    "\n",
    "features = extract_features_features(merged_df_featured)\n",
    "features_normalise = normalization(features)\n"
   ]
  },
  {
   "cell_type": "code",
   "execution_count": 134,
   "id": "fba5ded6",
   "metadata": {},
   "outputs": [
    {
     "data": {
      "text/html": [
       "<div>\n",
       "<style scoped>\n",
       "    .dataframe tbody tr th:only-of-type {\n",
       "        vertical-align: middle;\n",
       "    }\n",
       "\n",
       "    .dataframe tbody tr th {\n",
       "        vertical-align: top;\n",
       "    }\n",
       "\n",
       "    .dataframe thead th {\n",
       "        text-align: right;\n",
       "    }\n",
       "</style>\n",
       "<table border=\"1\" class=\"dataframe\">\n",
       "  <thead>\n",
       "    <tr style=\"text-align: right;\">\n",
       "      <th>student_id</th>\n",
       "      <th>000e8c3c7ddb</th>\n",
       "      <th>0020ae56ffbf</th>\n",
       "      <th>004e978e639e</th>\n",
       "      <th>005ab0199905</th>\n",
       "      <th>0070c9e7af47</th>\n",
       "      <th>0071d51dab6d</th>\n",
       "      <th>0072b649a88c</th>\n",
       "      <th>00746c7c79c3</th>\n",
       "      <th>00791789cc1f</th>\n",
       "      <th>0086ef22de8f</th>\n",
       "      <th>...</th>\n",
       "      <th>ff53b94f7ce0</th>\n",
       "      <th>ff5b8d659ca6</th>\n",
       "      <th>ff5e9e6068da</th>\n",
       "      <th>ff66def9f97c</th>\n",
       "      <th>ff78813d4f7b</th>\n",
       "      <th>ff7c7e70df07</th>\n",
       "      <th>ffc34d056498</th>\n",
       "      <th>ffd1576d2e1b</th>\n",
       "      <th>ffe4a98093b2</th>\n",
       "      <th>fffbccfd8a08</th>\n",
       "    </tr>\n",
       "    <tr>\n",
       "      <th>student_id</th>\n",
       "      <th></th>\n",
       "      <th></th>\n",
       "      <th></th>\n",
       "      <th></th>\n",
       "      <th></th>\n",
       "      <th></th>\n",
       "      <th></th>\n",
       "      <th></th>\n",
       "      <th></th>\n",
       "      <th></th>\n",
       "      <th></th>\n",
       "      <th></th>\n",
       "      <th></th>\n",
       "      <th></th>\n",
       "      <th></th>\n",
       "      <th></th>\n",
       "      <th></th>\n",
       "      <th></th>\n",
       "      <th></th>\n",
       "      <th></th>\n",
       "      <th></th>\n",
       "    </tr>\n",
       "  </thead>\n",
       "  <tbody>\n",
       "    <tr>\n",
       "      <th>000e8c3c7ddb</th>\n",
       "      <td>1.000000</td>\n",
       "      <td>0.258334</td>\n",
       "      <td>-0.335766</td>\n",
       "      <td>0.708078</td>\n",
       "      <td>-0.267692</td>\n",
       "      <td>0.661750</td>\n",
       "      <td>0.766250</td>\n",
       "      <td>0.447418</td>\n",
       "      <td>0.410067</td>\n",
       "      <td>0.729409</td>\n",
       "      <td>...</td>\n",
       "      <td>-0.949869</td>\n",
       "      <td>-0.423165</td>\n",
       "      <td>0.786989</td>\n",
       "      <td>0.550892</td>\n",
       "      <td>-0.146979</td>\n",
       "      <td>-0.377341</td>\n",
       "      <td>0.341716</td>\n",
       "      <td>0.897729</td>\n",
       "      <td>0.622325</td>\n",
       "      <td>-0.447462</td>\n",
       "    </tr>\n",
       "    <tr>\n",
       "      <th>0020ae56ffbf</th>\n",
       "      <td>0.258334</td>\n",
       "      <td>1.000000</td>\n",
       "      <td>-0.897180</td>\n",
       "      <td>0.724489</td>\n",
       "      <td>-0.798577</td>\n",
       "      <td>0.818707</td>\n",
       "      <td>0.364278</td>\n",
       "      <td>0.907890</td>\n",
       "      <td>0.911107</td>\n",
       "      <td>0.757807</td>\n",
       "      <td>...</td>\n",
       "      <td>-0.254078</td>\n",
       "      <td>-0.932141</td>\n",
       "      <td>0.600173</td>\n",
       "      <td>-0.252238</td>\n",
       "      <td>-0.495978</td>\n",
       "      <td>0.082284</td>\n",
       "      <td>0.825240</td>\n",
       "      <td>0.548305</td>\n",
       "      <td>0.789775</td>\n",
       "      <td>-0.372908</td>\n",
       "    </tr>\n",
       "    <tr>\n",
       "      <th>004e978e639e</th>\n",
       "      <td>-0.335766</td>\n",
       "      <td>-0.897180</td>\n",
       "      <td>1.000000</td>\n",
       "      <td>-0.832436</td>\n",
       "      <td>0.894786</td>\n",
       "      <td>-0.810581</td>\n",
       "      <td>-0.232123</td>\n",
       "      <td>-0.877618</td>\n",
       "      <td>-0.814205</td>\n",
       "      <td>-0.828861</td>\n",
       "      <td>...</td>\n",
       "      <td>0.394025</td>\n",
       "      <td>0.925593</td>\n",
       "      <td>-0.792920</td>\n",
       "      <td>0.325090</td>\n",
       "      <td>0.487872</td>\n",
       "      <td>-0.153939</td>\n",
       "      <td>-0.713526</td>\n",
       "      <td>-0.584992</td>\n",
       "      <td>-0.688271</td>\n",
       "      <td>0.564857</td>\n",
       "    </tr>\n",
       "    <tr>\n",
       "      <th>005ab0199905</th>\n",
       "      <td>0.708078</td>\n",
       "      <td>0.724489</td>\n",
       "      <td>-0.832436</td>\n",
       "      <td>1.000000</td>\n",
       "      <td>-0.632888</td>\n",
       "      <td>0.946626</td>\n",
       "      <td>0.590486</td>\n",
       "      <td>0.875128</td>\n",
       "      <td>0.800808</td>\n",
       "      <td>0.979814</td>\n",
       "      <td>...</td>\n",
       "      <td>-0.737865</td>\n",
       "      <td>-0.875094</td>\n",
       "      <td>0.941399</td>\n",
       "      <td>0.096355</td>\n",
       "      <td>-0.228855</td>\n",
       "      <td>0.018678</td>\n",
       "      <td>0.760730</td>\n",
       "      <td>0.904316</td>\n",
       "      <td>0.828322</td>\n",
       "      <td>-0.512327</td>\n",
       "    </tr>\n",
       "    <tr>\n",
       "      <th>0070c9e7af47</th>\n",
       "      <td>-0.267692</td>\n",
       "      <td>-0.798577</td>\n",
       "      <td>0.894786</td>\n",
       "      <td>-0.632888</td>\n",
       "      <td>1.000000</td>\n",
       "      <td>-0.601311</td>\n",
       "      <td>-0.207654</td>\n",
       "      <td>-0.692194</td>\n",
       "      <td>-0.711733</td>\n",
       "      <td>-0.642357</td>\n",
       "      <td>...</td>\n",
       "      <td>0.381358</td>\n",
       "      <td>0.762608</td>\n",
       "      <td>-0.678571</td>\n",
       "      <td>0.185929</td>\n",
       "      <td>0.784881</td>\n",
       "      <td>0.189972</td>\n",
       "      <td>-0.548960</td>\n",
       "      <td>-0.439618</td>\n",
       "      <td>-0.556677</td>\n",
       "      <td>0.782235</td>\n",
       "    </tr>\n",
       "  </tbody>\n",
       "</table>\n",
       "<p>5 rows × 7163 columns</p>\n",
       "</div>"
      ],
      "text/plain": [
       "student_id    000e8c3c7ddb  0020ae56ffbf  004e978e639e  005ab0199905  \\\n",
       "student_id                                                             \n",
       "000e8c3c7ddb      1.000000      0.258334     -0.335766      0.708078   \n",
       "0020ae56ffbf      0.258334      1.000000     -0.897180      0.724489   \n",
       "004e978e639e     -0.335766     -0.897180      1.000000     -0.832436   \n",
       "005ab0199905      0.708078      0.724489     -0.832436      1.000000   \n",
       "0070c9e7af47     -0.267692     -0.798577      0.894786     -0.632888   \n",
       "\n",
       "student_id    0070c9e7af47  0071d51dab6d  0072b649a88c  00746c7c79c3  \\\n",
       "student_id                                                             \n",
       "000e8c3c7ddb     -0.267692      0.661750      0.766250      0.447418   \n",
       "0020ae56ffbf     -0.798577      0.818707      0.364278      0.907890   \n",
       "004e978e639e      0.894786     -0.810581     -0.232123     -0.877618   \n",
       "005ab0199905     -0.632888      0.946626      0.590486      0.875128   \n",
       "0070c9e7af47      1.000000     -0.601311     -0.207654     -0.692194   \n",
       "\n",
       "student_id    00791789cc1f  0086ef22de8f  ...  ff53b94f7ce0  ff5b8d659ca6  \\\n",
       "student_id                                ...                               \n",
       "000e8c3c7ddb      0.410067      0.729409  ...     -0.949869     -0.423165   \n",
       "0020ae56ffbf      0.911107      0.757807  ...     -0.254078     -0.932141   \n",
       "004e978e639e     -0.814205     -0.828861  ...      0.394025      0.925593   \n",
       "005ab0199905      0.800808      0.979814  ...     -0.737865     -0.875094   \n",
       "0070c9e7af47     -0.711733     -0.642357  ...      0.381358      0.762608   \n",
       "\n",
       "student_id    ff5e9e6068da  ff66def9f97c  ff78813d4f7b  ff7c7e70df07  \\\n",
       "student_id                                                             \n",
       "000e8c3c7ddb      0.786989      0.550892     -0.146979     -0.377341   \n",
       "0020ae56ffbf      0.600173     -0.252238     -0.495978      0.082284   \n",
       "004e978e639e     -0.792920      0.325090      0.487872     -0.153939   \n",
       "005ab0199905      0.941399      0.096355     -0.228855      0.018678   \n",
       "0070c9e7af47     -0.678571      0.185929      0.784881      0.189972   \n",
       "\n",
       "student_id    ffc34d056498  ffd1576d2e1b  ffe4a98093b2  fffbccfd8a08  \n",
       "student_id                                                            \n",
       "000e8c3c7ddb      0.341716      0.897729      0.622325     -0.447462  \n",
       "0020ae56ffbf      0.825240      0.548305      0.789775     -0.372908  \n",
       "004e978e639e     -0.713526     -0.584992     -0.688271      0.564857  \n",
       "005ab0199905      0.760730      0.904316      0.828322     -0.512327  \n",
       "0070c9e7af47     -0.548960     -0.439618     -0.556677      0.782235  \n",
       "\n",
       "[5 rows x 7163 columns]"
      ]
     },
     "execution_count": 134,
     "metadata": {},
     "output_type": "execute_result"
    }
   ],
   "source": [
    "import numpy as np\n",
    "\n",
    "cosine_sim = cosine_similarity(features_normalise)\n",
    "cosine_sim_df = pd.DataFrame(cosine_sim, index=merged_df_featured['student_id'], columns=merged_df_featured['student_id'])\n",
    "cosine_sim_df.head()"
   ]
  },
  {
   "cell_type": "code",
   "execution_count": 138,
   "id": "e6bd3b16",
   "metadata": {},
   "outputs": [
    {
     "name": "stdout",
     "output_type": "stream",
     "text": [
      "-1.54716321678788 0.205682506482641\n",
      "-0.39770800800870365\n"
     ]
    }
   ],
   "source": [
    "# reponse_id\n",
    "R_id = r_random['student_id'].iloc[0]\n",
    "R_star_id = r_star['student_id'].iloc[0]\n",
    "\n",
    "\n",
    "# obtenir la similarite cosinus entre R et R*\n",
    "cos_sim_value = cosine_sim_df.loc[R_id, R_star_id]\n",
    "\n",
    "# Vérifier leur score et leur similarité cosinus\n",
    "content_1 = merged_df_featured.loc[merged_df_featured['student_id'] == student_id_1, 'content'].values[0]\n",
    "content_2 = merged_df_featured.loc[merged_df_featured['student_id'] == student_id_2, 'content'].values[0]\n",
    "print(content_1,content_2)\n",
    "print(cos_sim_value)"
   ]
  },
  {
   "cell_type": "code",
   "execution_count": 146,
   "id": "85b4a951",
   "metadata": {},
   "outputs": [
    {
     "name": "stderr",
     "output_type": "stream",
     "text": [
      "/var/folders/sl/dmcfd6sn2xz848jw02554ty40000gn/T/ipykernel_46518/3554557130.py:19: FutureWarning: The behavior of DataFrame concatenation with empty or all-NA entries is deprecated. In a future version, this will no longer exclude empty or all-NA columns when determining the result dtypes. To retain the old behavior, exclude the relevant entries before the concat operation.\n",
      "  results_df = pd.concat([results_df, pd.DataFrame([{\n"
     ]
    }
   ],
   "source": [
    "sample_size = 500\n",
    "\n",
    "\n",
    "# Init d'un Dataframe\n",
    "results_df = pd.DataFrame(columns=['student_id_1', 'student_id_2', 'content_diff', 'cosine_similarity'])\n",
    "\n",
    "sampled_pairs = merged_df_featured.sample(n=sample_size, replace=False)\n",
    "\n",
    "for _, row in sampled_pairs.iterrows():\n",
    "    student_id_1 = row['student_id']\n",
    "    student_id_2 = merged_df_featured[merged_df_featured['student_id'] != student_id_1].sample(n=1)['student_id'].values[0]\n",
    "    \n",
    "    content_1 = row['content']\n",
    "    content_2 = merged_df_featured[merged_df_featured['student_id'] == student_id_2]['content'].values[0]\n",
    "    content_diff = abs(content_1 - content_2)\n",
    "    \n",
    "    cos_sim_value = cosine_sim_df.loc[student_id_1, student_id_2]\n",
    "    \n",
    "    results_df = pd.concat([results_df, pd.DataFrame([{\n",
    "        'student_id_1': student_id_1,\n",
    "        'student_id_2': student_id_2,\n",
    "        'content_diff': content_diff,\n",
    "        'cosine_similarity': cos_sim_value\n",
    "    }])], ignore_index=True)\n",
    "\n",
    "# Maintenant, results_df contient les différences de contenu et les similarités cosinus des paires d'échantillons sélectionnées au hasard.\n",
    "\n",
    "\n"
   ]
  },
  {
   "cell_type": "code",
   "execution_count": 147,
   "id": "d7aa49aa",
   "metadata": {},
   "outputs": [
    {
     "data": {
      "text/html": [
       "<div>\n",
       "<style scoped>\n",
       "    .dataframe tbody tr th:only-of-type {\n",
       "        vertical-align: middle;\n",
       "    }\n",
       "\n",
       "    .dataframe tbody tr th {\n",
       "        vertical-align: top;\n",
       "    }\n",
       "\n",
       "    .dataframe thead th {\n",
       "        text-align: right;\n",
       "    }\n",
       "</style>\n",
       "<table border=\"1\" class=\"dataframe\">\n",
       "  <thead>\n",
       "    <tr style=\"text-align: right;\">\n",
       "      <th></th>\n",
       "      <th>student_id_1</th>\n",
       "      <th>student_id_2</th>\n",
       "      <th>content_diff</th>\n",
       "      <th>cosine_similarity</th>\n",
       "    </tr>\n",
       "  </thead>\n",
       "  <tbody>\n",
       "    <tr>\n",
       "      <th>0</th>\n",
       "      <td>c22fd810f96e</td>\n",
       "      <td>f832f992df2b</td>\n",
       "      <td>0.518493</td>\n",
       "      <td>0.860950</td>\n",
       "    </tr>\n",
       "    <tr>\n",
       "      <th>1</th>\n",
       "      <td>5269870fb076</td>\n",
       "      <td>37046f6ae1e1</td>\n",
       "      <td>0.214634</td>\n",
       "      <td>-0.408728</td>\n",
       "    </tr>\n",
       "    <tr>\n",
       "      <th>2</th>\n",
       "      <td>65ca97463883</td>\n",
       "      <td>7a063f3c91cf</td>\n",
       "      <td>0.162017</td>\n",
       "      <td>0.946131</td>\n",
       "    </tr>\n",
       "    <tr>\n",
       "      <th>3</th>\n",
       "      <td>283e9a79445b</td>\n",
       "      <td>56d9a67c9d09</td>\n",
       "      <td>0.469651</td>\n",
       "      <td>0.285351</td>\n",
       "    </tr>\n",
       "    <tr>\n",
       "      <th>4</th>\n",
       "      <td>b2b2d47f0578</td>\n",
       "      <td>f604527b68fc</td>\n",
       "      <td>0.059640</td>\n",
       "      <td>0.788109</td>\n",
       "    </tr>\n",
       "    <tr>\n",
       "      <th>5</th>\n",
       "      <td>f39e6f19d803</td>\n",
       "      <td>d7d69636baae</td>\n",
       "      <td>0.482193</td>\n",
       "      <td>-0.403507</td>\n",
       "    </tr>\n",
       "    <tr>\n",
       "      <th>6</th>\n",
       "      <td>3ef6aeedc27c</td>\n",
       "      <td>212a0bd31d9f</td>\n",
       "      <td>0.353618</td>\n",
       "      <td>0.199340</td>\n",
       "    </tr>\n",
       "    <tr>\n",
       "      <th>7</th>\n",
       "      <td>dcc134eef9a7</td>\n",
       "      <td>dd82a39366a5</td>\n",
       "      <td>1.127307</td>\n",
       "      <td>-0.327149</td>\n",
       "    </tr>\n",
       "    <tr>\n",
       "      <th>8</th>\n",
       "      <td>256da0a11fcd</td>\n",
       "      <td>f40761526604</td>\n",
       "      <td>0.625182</td>\n",
       "      <td>-0.951353</td>\n",
       "    </tr>\n",
       "    <tr>\n",
       "      <th>9</th>\n",
       "      <td>e1a722750558</td>\n",
       "      <td>1151f6230943</td>\n",
       "      <td>0.438480</td>\n",
       "      <td>0.510582</td>\n",
       "    </tr>\n",
       "  </tbody>\n",
       "</table>\n",
       "</div>"
      ],
      "text/plain": [
       "   student_id_1  student_id_2  content_diff  cosine_similarity\n",
       "0  c22fd810f96e  f832f992df2b      0.518493           0.860950\n",
       "1  5269870fb076  37046f6ae1e1      0.214634          -0.408728\n",
       "2  65ca97463883  7a063f3c91cf      0.162017           0.946131\n",
       "3  283e9a79445b  56d9a67c9d09      0.469651           0.285351\n",
       "4  b2b2d47f0578  f604527b68fc      0.059640           0.788109\n",
       "5  f39e6f19d803  d7d69636baae      0.482193          -0.403507\n",
       "6  3ef6aeedc27c  212a0bd31d9f      0.353618           0.199340\n",
       "7  dcc134eef9a7  dd82a39366a5      1.127307          -0.327149\n",
       "8  256da0a11fcd  f40761526604      0.625182          -0.951353\n",
       "9  e1a722750558  1151f6230943      0.438480           0.510582"
      ]
     },
     "execution_count": 147,
     "metadata": {},
     "output_type": "execute_result"
    }
   ],
   "source": [
    "results_df.head(10)"
   ]
  },
  {
   "cell_type": "code",
   "execution_count": 148,
   "id": "4d1e4935",
   "metadata": {},
   "outputs": [
    {
     "data": {
      "image/png": "[encoded data removed]",
      "text/plain": [
       "<Figure size 1000x600 with 1 Axes>"
      ]
     },
     "metadata": {},
     "output_type": "display_data"
    }
   ],
   "source": [
    "# Visualisation des rapport entre scores_diff et cos_sim\n",
    "import matplotlib.pyplot as plt\n",
    "import seaborn as sns\n",
    "\n",
    "correlation = results_df['content_diff'].corr(results_df['cosine_similarity'])\n",
    "\n",
    "\n",
    "plt.figure(figsize=(10, 6))\n",
    "sns.scatterplot(x='content_diff', y='cosine_similarity', data=results_df)\n",
    "\n",
    "plt.title(f'Score Difference vs. Cosinus Similarity (Correlation: {correlation:.2f})')\n",
    "plt.xlabel('Score Difference')\n",
    "plt.ylabel('Cosinus Similarity')\n",
    "\n",
    "plt.show()\n"
   ]
  },
  {
   "cell_type": "code",
   "execution_count": null,
   "id": "a5616c64",
   "metadata": {},
   "outputs": [],
   "source": [
    "# Suppression de ces deux enregistrements du DataFrame original\n",
    "merged_df_featured = merged_df_featured.drop(r_star.index)\n",
    "merged_df_featured = merged_df_featured.drop(r_random.index)"
   ]
  },
  {
   "cell_type": "markdown",
   "id": "725d6168",
   "metadata": {},
   "source": []
  },
  {
   "cell_type": "code",
   "execution_count": 126,
   "id": "c940db1c",
   "metadata": {},
   "outputs": [
    {
     "data": {
      "text/plain": [
       "(7111, 17)"
      ]
     },
     "execution_count": 126,
     "metadata": {},
     "output_type": "execute_result"
    }
   ],
   "source": [
    "merged_df.shape"
   ]
  },
  {
   "cell_type": "markdown",
   "id": "fe1ad8a1",
   "metadata": {},
   "source": [
    "## 6️⃣ Combiner les deux réponses"
   ]
  },
  {
   "cell_type": "code",
   "execution_count": 131,
   "id": "e5a3e33d",
   "metadata": {},
   "outputs": [],
   "source": [
    "# Extraire les textes de R et R*, les convertir en format JSON\n",
    "\n",
    "# Extraction\n",
    "good_answer_text = r_star['text'].iloc[0]\n",
    "random_answer_text = r_random['text'].iloc[0]\n",
    "\n",
    "# Conversion des textes en format JSON\n",
    "combined_Rs = f'''{{\n",
    "    \"A\": \"{good_answer_text}\",\n",
    "    \"B\": \"{random_answer_text}\"\n",
    "}}'''\n"
   ]
  },
  {
   "cell_type": "code",
   "execution_count": 132,
   "id": "460a780d",
   "metadata": {},
   "outputs": [
    {
     "data": {
      "text/plain": [
       "'{\\n    \"A\": \"The third wave developed over such a short period of time because the students all very quickly began to follow each other,  and did what jones had thought that they would do. The experiment was ended quickly because on the fourth day it began to quickly began to get out of hand, so jones lied and told them to attend a rally because this was a national wide rally. The rally is when jones revealed that they had been apart of an experiment to show how people willingly create leaders over others, that went to show how this can lead to people doing horrible things.  \",\\n    \"B\": \"When Ron Jones found it difficult to teach his students how people throughout history followed the crowd even when terrible things were happening, he decided to do an experiment. He created a sort of authoritarian class, even creating a salute similar to the nazis. The students got out of control incredibly quickly,  believing fully in the class and gaining an air of superiority over other students. In only four days the experiment had amassed 200 students and Jones felt it was slipping out of control. The next day, Jones stopped the experiment, telling the students what they had been a part of and how they had proven his point.\"\\n}'"
      ]
     },
     "execution_count": 132,
     "metadata": {},
     "output_type": "execute_result"
    }
   ],
   "source": [
    "combined_Rs"
   ]
  },
  {
   "cell_type": "code",
   "execution_count": 142,
   "id": "0da98285",
   "metadata": {},
   "outputs": [
    {
     "name": "stdout",
     "output_type": "stream",
     "text": [
      "OpenAI API key: ········\n"
     ]
    }
   ],
   "source": [
    "api_key = getpass('OpenAI API key: ')"
   ]
  },
  {
   "cell_type": "code",
   "execution_count": 143,
   "id": "7e86b5b9",
   "metadata": {},
   "outputs": [],
   "source": [
    "os.environ[\"OPENAI_API_KEY\"] = api_key\n",
    "\n",
    "client = OpenAI()"
   ]
  },
  {
   "cell_type": "code",
   "execution_count": 160,
   "id": "f02eda22",
   "metadata": {},
   "outputs": [],
   "source": [
    "\n",
    "# utiliser json pour former le prompt\n",
    "texts = combined_Rs\n",
    "\n",
    "completion = client.chat.completions.create(\n",
    "  model=\"gpt-3.5-turbo-0301\",\n",
    "  messages=[\n",
    "    {\"role\": \"system\", \"content\": \n",
    "     \"Given 2 texts: A and B in a json format . You need to intergrate the key points of A into B without changing too much B's content, in order to return a new text.\"},\n",
    "    {\"role\": \"system\", \"content\": \n",
    "     \"The length of the new text created should be less than the sum of the lengths of two texts. Your output should be in a correct json format, with the key 'combined_text' and the value as the new text.\"},\n",
    "    {\"role\": \"system\", \"content\": \n",
    "     \"You should focus on the contenu\"},\n",
    "    {\"role\": \"user\", \n",
    "     \"content\": texts}\n",
    "  ],\n",
    "    temperature=0.3\n",
    "    )\n",
    "# print(completion.choices[0].message)\n",
    "# print(dict(completion).get('usage'))\n",
    "\n",
    "retour = completion.model_dump_json(indent=2)\n",
    "retour_json = json.loads(data)\n",
    "retour_texte = json.loads(json_data['choices'][0]['message']['content'])[\"combined_text\"]"
   ]
  },
  {
   "cell_type": "code",
   "execution_count": 161,
   "id": "bb37a31d",
   "metadata": {},
   "outputs": [
    {
     "name": "stdout",
     "output_type": "stream",
     "text": [
      "When Ron Jones found it difficult to teach his students how people throughout history followed the crowd even when terrible things were happening, he decided to do an experiment. He created a sort of authoritarian class, even creating a salute similar to the nazis. The third wave developed over such a short period of time because the students all very quickly began to follow each other, and did what Jones had thought that they would do. The experiment was ended quickly because on the fourth day it began to quickly began to get out of hand, so Jones lied and told them to attend a rally because this was a national wide rally. The rally is when Jones revealed that they had been apart of an experiment to show how people willingly create leaders over others, that went to show how this can lead to people doing horrible things. In only four days the experiment had amassed 200 students and Jones felt it was slipping out of control. The next day, Jones stopped the experiment, telling the students what they had been a part of and how they had proven his point.\n"
     ]
    }
   ],
   "source": [
    "print(retour_texte)"
   ]
  },
  {
   "cell_type": "code",
   "execution_count": 162,
   "id": "e853658d",
   "metadata": {},
   "outputs": [
    {
     "name": "stdout",
     "output_type": "stream",
     "text": [
      "1066\n",
      "1233\n"
     ]
    }
   ],
   "source": [
    "print(len(retour_texte))\n",
    "print(len(texts))\n"
   ]
  },
  {
   "cell_type": "code",
   "execution_count": 168,
   "id": "9128e677",
   "metadata": {},
   "outputs": [
    {
     "data": {
      "text/html": [
       "<div>\n",
       "<style scoped>\n",
       "    .dataframe tbody tr th:only-of-type {\n",
       "        vertical-align: middle;\n",
       "    }\n",
       "\n",
       "    .dataframe tbody tr th {\n",
       "        vertical-align: top;\n",
       "    }\n",
       "\n",
       "    .dataframe thead th {\n",
       "        text-align: right;\n",
       "    }\n",
       "</style>\n",
       "<table border=\"1\" class=\"dataframe\">\n",
       "  <thead>\n",
       "    <tr style=\"text-align: right;\">\n",
       "      <th></th>\n",
       "      <th>student_id</th>\n",
       "      <th>prompt_id</th>\n",
       "      <th>text</th>\n",
       "    </tr>\n",
       "  </thead>\n",
       "  <tbody>\n",
       "    <tr>\n",
       "      <th>0</th>\n",
       "      <td>000000ffffff</td>\n",
       "      <td>def789</td>\n",
       "      <td>When Ron Jones found it difficult to teach his...</td>\n",
       "    </tr>\n",
       "  </tbody>\n",
       "</table>\n",
       "</div>"
      ],
      "text/plain": [
       "     student_id prompt_id                                               text\n",
       "0  000000ffffff    def789  When Ron Jones found it difficult to teach his..."
      ]
     },
     "execution_count": 168,
     "metadata": {},
     "output_type": "execute_result"
    }
   ],
   "source": [
    "# créer un enregistrement\n",
    "\n",
    "stu_id= '000000ffffff'\n",
    "prompt_id = 'def789'\n",
    "text_test = retour_texte\n",
    "\n",
    "data_4_test = {\n",
    "    'student_id': [stu_id],\n",
    "    'prompt_id': [prompt_id],\n",
    "    'text': [text_test]\n",
    "}\n",
    "\n",
    "test_data = pd.DataFrame(data_4_test)\n",
    "# Jusqu'à ici, on a combiné les deux réponses.\n",
    "\n",
    "test_data"
   ]
  },
  {
   "cell_type": "markdown",
   "id": "238d4b00",
   "metadata": {},
   "source": [
    "---"
   ]
  },
  {
   "cell_type": "markdown",
   "id": "6809284a",
   "metadata": {},
   "source": [
    "## 7️⃣ Modélisation et prédiction"
   ]
  },
  {
   "cell_type": "code",
   "execution_count": null,
   "id": "4a70f1b3",
   "metadata": {},
   "outputs": [],
   "source": [
    "\n",
    "print(f'prompts_train shape: {prompts_train_df.shape}')\n",
    "print(f'summaries_train shape: {merged_df.shape}')\n",
    "print('-'*90)\n",
    "print(f'prompts_train missing values: {prompts_train_df.isnull().sum().sum()}')\n",
    "print(f'summaries_train missing values: {merged_df.isnull().sum().sum()}')\n",
    "print('-'*90)\n",
    "merged_df.head()"
   ]
  },
  {
   "cell_type": "code",
   "execution_count": 174,
   "id": "a92ee187",
   "metadata": {},
   "outputs": [],
   "source": [
    "import pickle\n",
    "\n",
    "\n",
    "def preprocess_text(text):\n",
    "    tokens = nltk.word_tokenize(text)\n",
    "    \n",
    "    tokens = [token.lower() for token in tokens]\n",
    "    \n",
    "    tokens = [token for token in tokens if token.isalnum()]\n",
    "    \n",
    "    stop_words = set(stopwords.words('english'))\n",
    "    tokens = [token for token in tokens if token not in stop_words]\n",
    "    \n",
    "    preprocessed_text = ' '.join(tokens)\n",
    "    \n",
    "    return preprocessed_text\n"
   ]
  },
  {
   "cell_type": "code",
   "execution_count": 175,
   "id": "bffe6b69",
   "metadata": {},
   "outputs": [
    {
     "data": {
      "text/plain": [
       "0       The third wave was an experimentto see how peo...\n",
       "1       They would rub it up with soda to make the sme...\n",
       "2       In Egypt, there were many occupations and soci...\n",
       "3       The highest class was Pharaohs these people we...\n",
       "4       The Third Wave developed  rapidly because the ...\n",
       "                              ...                        \n",
       "7160    They used all sorts of chemical concoctions to...\n",
       "7161    The lowest classes are slaves and farmers slav...\n",
       "7162               they sorta made people start workin...\n",
       "7163    An ideal tragety has three elements that make ...\n",
       "7164    The meat would smell sour but the would \"rub i...\n",
       "Name: text, Length: 7111, dtype: object"
      ]
     },
     "execution_count": 175,
     "metadata": {},
     "output_type": "execute_result"
    }
   ],
   "source": [
    "# importer les données\n",
    "train_text = merged_df.text\n",
    "test_text = test_data.text\n",
    "train_text"
   ]
  },
  {
   "cell_type": "code",
   "execution_count": 176,
   "id": "10d5469d",
   "metadata": {},
   "outputs": [],
   "source": [
    "# pretraitement\n",
    "pretraite_train_text = [preprocess_text(reponse) for reponse in train_text]\n",
    "pretraite_text_text = [preprocess_text(reponse) for reponse in test_text]"
   ]
  },
  {
   "cell_type": "code",
   "execution_count": 196,
   "id": "9cfc778b",
   "metadata": {},
   "outputs": [],
   "source": [
    "train_tfidf_features = extract_features_tfidf(pretraite_train_text)\n",
    "\n",
    "with open('tfidf_vectorizer.pkl', 'rb') as f:\n",
    "    loaded_tfidf_vectorizer = pickle.load(f)\n",
    "\n",
    "test_tfidf_features = loaded_tfidf_vectorizer.transform(pretraite_text_text)"
   ]
  },
  {
   "cell_type": "code",
   "execution_count": 197,
   "id": "1fccbd50",
   "metadata": {},
   "outputs": [
    {
     "data": {
      "text/plain": [
       "(7111, 11914)"
      ]
     },
     "execution_count": 197,
     "metadata": {},
     "output_type": "execute_result"
    }
   ],
   "source": [
    "train_tfidf_features.shape"
   ]
  },
  {
   "cell_type": "code",
   "execution_count": 198,
   "id": "ba1f6094",
   "metadata": {},
   "outputs": [
    {
     "data": {
      "text/plain": [
       "(1, 11914)"
      ]
     },
     "execution_count": 198,
     "metadata": {},
     "output_type": "execute_result"
    }
   ],
   "source": [
    "test_tfidf_features.shape\n"
   ]
  },
  {
   "cell_type": "code",
   "execution_count": 211,
   "id": "44b34997",
   "metadata": {},
   "outputs": [],
   "source": [
    "target_labels = merged_df[['content']]\n",
    "X_train, X_test, y_train, y_test = train_test_split(train_tfidf_features, target_labels, test_size=0.1, random_state=42)\n",
    "\n",
    "# X_train = train_tfidf_features\n",
    "# y_train = target_labels"
   ]
  },
  {
   "cell_type": "code",
   "execution_count": 212,
   "id": "86c993f2",
   "metadata": {},
   "outputs": [],
   "source": [
    "# entraînement\n",
    "regressor = XGBRegressor()\n",
    "regressor.fit(X_train, y_train)\n",
    "predictions = regressor.predict(X_test)"
   ]
  },
  {
   "cell_type": "code",
   "execution_count": 213,
   "id": "c40a94f5",
   "metadata": {},
   "outputs": [
    {
     "name": "stdout",
     "output_type": "stream",
     "text": [
      "mse: 0.3272186260452266\n"
     ]
    }
   ],
   "source": [
    "mse = mean_squared_error(y_test, predictions)\n",
    "print(f\"mse: {mse}\")"
   ]
  },
  {
   "cell_type": "code",
   "execution_count": 214,
   "id": "57186df2",
   "metadata": {},
   "outputs": [
    {
     "name": "stdout",
     "output_type": "stream",
     "text": [
      "Predictions on new data: [2.1543388]\n"
     ]
    }
   ],
   "source": [
    "# 对单独的测试集使用训练好的模型进行预测\n",
    "new_predictions = regressor.predict(test_tfidf_features)\n",
    "print(f\"Predictions on new data: {new_predictions}\")"
   ]
  },
  {
   "cell_type": "code",
   "execution_count": null,
   "id": "7532e4a8",
   "metadata": {},
   "outputs": [],
   "source": []
  },
  {
   "cell_type": "code",
   "execution_count": null,
   "id": "36e1795e",
   "metadata": {},
   "outputs": [],
   "source": []
  },
  {
   "cell_type": "markdown",
   "id": "30b0c4a5",
   "metadata": {},
   "source": [
    "---"
   ]
  },
  {
   "cell_type": "code",
   "execution_count": null,
   "id": "5f1c74c6",
   "metadata": {},
   "outputs": [],
   "source": []
  },
  {
   "cell_type": "code",
   "execution_count": null,
   "id": "499966c6",
   "metadata": {},
   "outputs": [],
   "source": []
  }
 ],
 "metadata": {
  "kernelspec": {
   "display_name": "Python 3 (ipykernel)",
   "language": "python",
   "name": "python3"
  },
  "language_info": {
   "codemirror_mode": {
    "name": "ipython",
    "version": 3
   },
   "file_extension": ".py",
   "mimetype": "text/x-python",
   "name": "python",
   "nbconvert_exporter": "python",
   "pygments_lexer": "ipython3",
   "version": "3.9.16"
  }
 },
 "nbformat": 4,
 "nbformat_minor": 5
}
