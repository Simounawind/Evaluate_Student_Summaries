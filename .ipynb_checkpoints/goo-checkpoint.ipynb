{
 "cells": [
  {
   "cell_type": "code",
   "execution_count": null,
   "metadata": {},
   "outputs": [],
   "source": []
  },
  {
   "cell_type": "markdown",
   "metadata": {},
   "source": [
    "# Évaluation de réponses d'étudiant pour un prompt"
   ]
  },
  {
   "cell_type": "markdown",
   "metadata": {},
   "source": [
    "#### charger des données"
   ]
  },
  {
   "cell_type": "code",
   "execution_count": null,
   "metadata": {},
   "outputs": [],
   "source": [
    "import pandas as pd"
   ]
  },
  {
   "cell_type": "code",
   "execution_count": null,
   "metadata": {},
   "outputs": [],
   "source": [
    "pd.set_option('display.max_columns', None)"
   ]
  },
  {
   "cell_type": "code",
   "execution_count": null,
   "metadata": {},
   "outputs": [],
   "source": [
    "# Load the provided CSV files\n",
    "prompts_path = 'prompts_train.csv'\n",
    "summaries_path = 'summaries_train.csv'\n",
    "\n",
    "prompts_df = pd.read_csv(prompts_path)\n",
    "summaries_df = pd.read_csv(summaries_path)"
   ]
  },
  {
   "cell_type": "code",
   "execution_count": null,
   "metadata": {},
   "outputs": [],
   "source": [
    "prompts_head = prompts_df.head()\n",
    "summaries_head = summaries_df.head()  #取出前几行"
   ]
  },
  {
   "cell_type": "code",
   "execution_count": null,
   "metadata": {},
   "outputs": [
    {
     "data": {
      "text/html": [
       "<div>\n",
       "<style scoped>\n",
       "    .dataframe tbody tr th:only-of-type {\n",
       "        vertical-align: middle;\n",
       "    }\n",
       "\n",
       "    .dataframe tbody tr th {\n",
       "        vertical-align: top;\n",
       "    }\n",
       "\n",
       "    .dataframe thead th {\n",
       "        text-align: right;\n",
       "    }\n",
       "</style>\n",
       "<table border=\"1\" class=\"dataframe\">\n",
       "  <thead>\n",
       "    <tr style=\"text-align: right;\">\n",
       "      <th></th>\n",
       "      <th>prompt_id</th>\n",
       "      <th>prompt_question</th>\n",
       "      <th>prompt_title</th>\n",
       "      <th>prompt_text</th>\n",
       "    </tr>\n",
       "  </thead>\n",
       "  <tbody>\n",
       "    <tr>\n",
       "      <th>0</th>\n",
       "      <td>39c16e</td>\n",
       "      <td>Summarize at least 3 elements of an ideal trag...</td>\n",
       "      <td>On Tragedy</td>\n",
       "      <td>Chapter 13 \\r\\nAs the sequel to what has alrea...</td>\n",
       "    </tr>\n",
       "    <tr>\n",
       "      <th>1</th>\n",
       "      <td>3b9047</td>\n",
       "      <td>In complete sentences, summarize the structure...</td>\n",
       "      <td>Egyptian Social Structure</td>\n",
       "      <td>Egyptian society was structured like a pyramid...</td>\n",
       "    </tr>\n",
       "    <tr>\n",
       "      <th>2</th>\n",
       "      <td>814d6b</td>\n",
       "      <td>Summarize how the Third Wave developed over su...</td>\n",
       "      <td>The Third Wave</td>\n",
       "      <td>Background \\r\\nThe Third Wave experiment took ...</td>\n",
       "    </tr>\n",
       "    <tr>\n",
       "      <th>3</th>\n",
       "      <td>ebad26</td>\n",
       "      <td>Summarize the various ways the factory would u...</td>\n",
       "      <td>Excerpt from The Jungle</td>\n",
       "      <td>With one member trimming beef in a cannery, an...</td>\n",
       "    </tr>\n",
       "  </tbody>\n",
       "</table>\n",
       "</div>"
      ],
      "text/plain": [
       "  prompt_id                                    prompt_question  \\\n",
       "0    39c16e  Summarize at least 3 elements of an ideal trag...   \n",
       "1    3b9047  In complete sentences, summarize the structure...   \n",
       "2    814d6b  Summarize how the Third Wave developed over su...   \n",
       "3    ebad26  Summarize the various ways the factory would u...   \n",
       "\n",
       "                prompt_title  \\\n",
       "0                 On Tragedy   \n",
       "1  Egyptian Social Structure   \n",
       "2             The Third Wave   \n",
       "3    Excerpt from The Jungle   \n",
       "\n",
       "                                         prompt_text  \n",
       "0  Chapter 13 \\r\\nAs the sequel to what has alrea...  \n",
       "1  Egyptian society was structured like a pyramid...  \n",
       "2  Background \\r\\nThe Third Wave experiment took ...  \n",
       "3  With one member trimming beef in a cannery, an...  "
      ]
     },
     "metadata": {},
     "output_type": "display_data"
    }
   ],
   "source": [
    "prompts_head"
   ]
  },
  {
   "cell_type": "code",
   "execution_count": null,
   "metadata": {},
   "outputs": [
    {
     "data": {
      "text/html": [
       "<div>\n",
       "<style scoped>\n",
       "    .dataframe tbody tr th:only-of-type {\n",
       "        vertical-align: middle;\n",
       "    }\n",
       "\n",
       "    .dataframe tbody tr th {\n",
       "        vertical-align: top;\n",
       "    }\n",
       "\n",
       "    .dataframe thead th {\n",
       "        text-align: right;\n",
       "    }\n",
       "</style>\n",
       "<table border=\"1\" class=\"dataframe\">\n",
       "  <thead>\n",
       "    <tr style=\"text-align: right;\">\n",
       "      <th></th>\n",
       "      <th>student_id</th>\n",
       "      <th>prompt_id</th>\n",
       "      <th>text</th>\n",
       "      <th>content</th>\n",
       "      <th>wording</th>\n",
       "    </tr>\n",
       "  </thead>\n",
       "  <tbody>\n",
       "    <tr>\n",
       "      <th>0</th>\n",
       "      <td>000e8c3c7ddb</td>\n",
       "      <td>814d6b</td>\n",
       "      <td>The third wave was an experimentto see how peo...</td>\n",
       "      <td>0.205683</td>\n",
       "      <td>0.380538</td>\n",
       "    </tr>\n",
       "    <tr>\n",
       "      <th>1</th>\n",
       "      <td>0020ae56ffbf</td>\n",
       "      <td>ebad26</td>\n",
       "      <td>They would rub it up with soda to make the sme...</td>\n",
       "      <td>-0.548304</td>\n",
       "      <td>0.506755</td>\n",
       "    </tr>\n",
       "    <tr>\n",
       "      <th>2</th>\n",
       "      <td>004e978e639e</td>\n",
       "      <td>3b9047</td>\n",
       "      <td>In Egypt, there were many occupations and soci...</td>\n",
       "      <td>3.128928</td>\n",
       "      <td>4.231226</td>\n",
       "    </tr>\n",
       "    <tr>\n",
       "      <th>3</th>\n",
       "      <td>005ab0199905</td>\n",
       "      <td>3b9047</td>\n",
       "      <td>The highest class was Pharaohs these people we...</td>\n",
       "      <td>-0.210614</td>\n",
       "      <td>-0.471415</td>\n",
       "    </tr>\n",
       "    <tr>\n",
       "      <th>4</th>\n",
       "      <td>0070c9e7af47</td>\n",
       "      <td>814d6b</td>\n",
       "      <td>The Third Wave developed  rapidly because the ...</td>\n",
       "      <td>3.272894</td>\n",
       "      <td>3.219757</td>\n",
       "    </tr>\n",
       "  </tbody>\n",
       "</table>\n",
       "</div>"
      ],
      "text/plain": [
       "     student_id prompt_id                                               text  \\\n",
       "0  000e8c3c7ddb    814d6b  The third wave was an experimentto see how peo...   \n",
       "1  0020ae56ffbf    ebad26  They would rub it up with soda to make the sme...   \n",
       "2  004e978e639e    3b9047  In Egypt, there were many occupations and soci...   \n",
       "3  005ab0199905    3b9047  The highest class was Pharaohs these people we...   \n",
       "4  0070c9e7af47    814d6b  The Third Wave developed  rapidly because the ...   \n",
       "\n",
       "    content   wording  \n",
       "0  0.205683  0.380538  \n",
       "1 -0.548304  0.506755  \n",
       "2  3.128928  4.231226  \n",
       "3 -0.210614 -0.471415  \n",
       "4  3.272894  3.219757  "
      ]
     },
     "metadata": {},
     "output_type": "display_data"
    }
   ],
   "source": [
    "summaries_head"
   ]
  },
  {
   "cell_type": "code",
   "execution_count": null,
   "metadata": {},
   "outputs": [],
   "source": [
    "pd.set_option('display.max_colwidth', None)"
   ]
  },
  {
   "cell_type": "code",
   "execution_count": null,
   "metadata": {},
   "outputs": [
    {
     "data": {
      "text/plain": [
       "(3852.75, 418.776971388695)"
      ]
     },
     "metadata": {},
     "output_type": "display_data"
    }
   ],
   "source": [
    "# 计算原文本和学生答案的长度平均值\n",
    "prompts_avg_length = prompts_df['prompt_text'].apply(len).mean()\n",
    "summaries_avg_length = summaries_df['text'].apply(len).mean()\n",
    "\n",
    "prompts_avg_length, summaries_avg_length    #这表示：原文本的长度约为 3852 个字符；而学生们的总结文本平均长度为 418 个字符"
   ]
  },
  {
   "cell_type": "markdown",
   "metadata": {},
   "source": [
    "---"
   ]
  },
  {
   "cell_type": "markdown",
   "metadata": {},
   "source": [
    "#### prétraitement"
   ]
  },
  {
   "cell_type": "code",
   "execution_count": null,
   "metadata": {},
   "outputs": [],
   "source": [
    "from nltk.tokenize import word_tokenize\n",
    "from nltk.corpus import stopwords\n",
    "import nltk"
   ]
  },
  {
   "cell_type": "code",
   "execution_count": null,
   "metadata": {},
   "outputs": [],
   "source": [
    "# 获取英文停用词集\n",
    "stop_words = set(stopwords.words('english'))\n",
    "\n",
    "\n",
    "# 文本预处理函数：小写化、分词、去除停用词\n",
    "def preprocess_text(text):\n",
    "    # 转换为小写\n",
    "    text = text.lower()\n",
    "    # 分词\n",
    "    words = word_tokenize(text)\n",
    "    # 去除停用词\n",
    "    filtered_words = [word for word in words if word not in stop_words and word.isalpha()]\n",
    "    return \" \".join(filtered_words)\n",
    "\n",
    "# 预处理两个数据框中指定的文本列\n",
    "prompts_df['prompt_text'] = prompts_df['prompt_text'].apply(preprocess_text)\n",
    "summaries_df['text'] = summaries_df['text'].apply(preprocess_text)"
   ]
  },
  {
   "cell_type": "code",
   "execution_count": null,
   "metadata": {},
   "outputs": [
    {
     "data": {
      "text/html": [
       "<div>\n",
       "<style scoped>\n",
       "    .dataframe tbody tr th:only-of-type {\n",
       "        vertical-align: middle;\n",
       "    }\n",
       "\n",
       "    .dataframe tbody tr th {\n",
       "        vertical-align: top;\n",
       "    }\n",
       "\n",
       "    .dataframe thead th {\n",
       "        text-align: right;\n",
       "    }\n",
       "</style>\n",
       "<table border=\"1\" class=\"dataframe\">\n",
       "  <thead>\n",
       "    <tr style=\"text-align: right;\">\n",
       "      <th></th>\n",
       "      <th>student_id</th>\n",
       "      <th>prompt_id</th>\n",
       "      <th>text</th>\n",
       "      <th>content</th>\n",
       "      <th>wording</th>\n",
       "    </tr>\n",
       "  </thead>\n",
       "  <tbody>\n",
       "    <tr>\n",
       "      <th>0</th>\n",
       "      <td>000e8c3c7ddb</td>\n",
       "      <td>814d6b</td>\n",
       "      <td>third wave experimentto see people reacted new one leader government gained popularity people wanted try new things students follow anything said start turning eachother gain higher power stop experement many people got radical blindly following leader</td>\n",
       "      <td>0.205683</td>\n",
       "      <td>0.380538</td>\n",
       "    </tr>\n",
       "    <tr>\n",
       "      <th>1</th>\n",
       "      <td>0020ae56ffbf</td>\n",
       "      <td>ebad26</td>\n",
       "      <td>would rub soda make smell go away wouldnt bad smell meat would tossed floor sawdust spit workers would make meat things</td>\n",
       "      <td>-0.548304</td>\n",
       "      <td>0.506755</td>\n",
       "    </tr>\n",
       "    <tr>\n",
       "      <th>2</th>\n",
       "      <td>004e978e639e</td>\n",
       "      <td>3b9047</td>\n",
       "      <td>egypt many occupations social classes involved living many instances bottom social ladder could climb stay peasant could work bring status everyone worshipped gods ra osiris isis also would worship pharaohs like gods well pharaohs priests responsibility entertain please said god chain command placed keep everyone check one person could handle civilians treasures without aid like tax collector called vizier like stated charge collecting peoples tax also one rare instances able read write granted vizier also soldiers many things would fight wars quelled domestic uprisings charge getting slaves farmers peasants build palaces famous ancient pyramids skilled hardworking workers occupations craftsmen women physicians would mostly make people creative craftsmen would often make jewelry papyrus products pottery tools many useful things people may need course would need merchants sell goods people would pay</td>\n",
       "      <td>3.128928</td>\n",
       "      <td>4.231226</td>\n",
       "    </tr>\n",
       "    <tr>\n",
       "      <th>3</th>\n",
       "      <td>005ab0199905</td>\n",
       "      <td>3b9047</td>\n",
       "      <td>highest class pharaohs people highest class minister called vizier supervisor</td>\n",
       "      <td>-0.210614</td>\n",
       "      <td>-0.471415</td>\n",
       "    </tr>\n",
       "    <tr>\n",
       "      <th>4</th>\n",
       "      <td>0070c9e7af47</td>\n",
       "      <td>814d6b</td>\n",
       "      <td>third wave developed rapidly students genuinly believed best course action grades acomplishments behavior improved dramatically since experiment began seem consiquenses students eyes became extremely engaged third wave activites inside outside tha classroom experiment ended students patriotic movement history class thirty rapidly grew three days means students joined school movement two days thats people per day fifth final day students completley believed third wave movement would expell democracy believed candidate movement would anounce existance television five days success creater ron jones believed gone far everyone safety shut fake organization would grown something controll third wave lasted week could spiralled american version nazi party opposite america stands</td>\n",
       "      <td>3.272894</td>\n",
       "      <td>3.219757</td>\n",
       "    </tr>\n",
       "  </tbody>\n",
       "</table>\n",
       "</div>"
      ],
      "text/plain": [
       "     student_id prompt_id  \\\n",
       "0  000e8c3c7ddb    814d6b   \n",
       "1  0020ae56ffbf    ebad26   \n",
       "2  004e978e639e    3b9047   \n",
       "3  005ab0199905    3b9047   \n",
       "4  0070c9e7af47    814d6b   \n",
       "\n",
       "                                                                                                                                                                                                                                                                                                                                                                                                                                                                                                                                                                                                                                                                                                                                                                                                                                                                                                                                              text  \\\n",
       "0                                                                                                                                                                                                                                                                                                                                                                                                                                                                                                                                                                                                                                                                                     third wave experimentto see people reacted new one leader government gained popularity people wanted try new things students follow anything said start turning eachother gain higher power stop experement many people got radical blindly following leader   \n",
       "1                                                                                                                                                                                                                                                                                                                                                                                                                                                                                                                                                                                                                                                                                                                                                                                                                          would rub soda make smell go away wouldnt bad smell meat would tossed floor sawdust spit workers would make meat things   \n",
       "2  egypt many occupations social classes involved living many instances bottom social ladder could climb stay peasant could work bring status everyone worshipped gods ra osiris isis also would worship pharaohs like gods well pharaohs priests responsibility entertain please said god chain command placed keep everyone check one person could handle civilians treasures without aid like tax collector called vizier like stated charge collecting peoples tax also one rare instances able read write granted vizier also soldiers many things would fight wars quelled domestic uprisings charge getting slaves farmers peasants build palaces famous ancient pyramids skilled hardworking workers occupations craftsmen women physicians would mostly make people creative craftsmen would often make jewelry papyrus products pottery tools many useful things people may need course would need merchants sell goods people would pay   \n",
       "3                                                                                                                                                                                                                                                                                                                                                                                                                                                                                                                                                                                                                                                                                                                                                                                                                                                                    highest class pharaohs people highest class minister called vizier supervisor   \n",
       "4                                                                                                                                    third wave developed rapidly students genuinly believed best course action grades acomplishments behavior improved dramatically since experiment began seem consiquenses students eyes became extremely engaged third wave activites inside outside tha classroom experiment ended students patriotic movement history class thirty rapidly grew three days means students joined school movement two days thats people per day fifth final day students completley believed third wave movement would expell democracy believed candidate movement would anounce existance television five days success creater ron jones believed gone far everyone safety shut fake organization would grown something controll third wave lasted week could spiralled american version nazi party opposite america stands   \n",
       "\n",
       "    content   wording  \n",
       "0  0.205683  0.380538  \n",
       "1 -0.548304  0.506755  \n",
       "2  3.128928  4.231226  \n",
       "3 -0.210614 -0.471415  \n",
       "4  3.272894  3.219757  "
      ]
     },
     "metadata": {},
     "output_type": "display_data"
    }
   ],
   "source": [
    "summaries_df.head()"
   ]
  },
  {
   "cell_type": "markdown",
   "metadata": {},
   "source": [
    "## caractéristiques"
   ]
  },
  {
   "cell_type": "code",
   "execution_count": null,
   "metadata": {},
   "outputs": [
    {
     "data": {
      "text/plain": [
       "0.01316257844962666"
      ]
     },
     "metadata": {},
     "output_type": "display_data"
    }
   ],
   "source": [
    "# sim_cosinus 结合 TF-IDF，其中 TF-IDF 仅仅基于 2 个 response 创建。\n",
    "\n",
    "from sklearn.feature_extraction.text import TfidfVectorizer\n",
    "from sklearn.metrics.pairwise import cosine_similarity\n",
    "import numpy as np\n",
    "\n",
    "# Function to calculate cosine similarity between two texts\n",
    "def calculate_cosine_similarity(text1, text2):\n",
    "    vectorizer = TfidfVectorizer()\n",
    "    tfidf_matrix = vectorizer.fit_transform([text1, text2])\n",
    "    similarity = cosine_similarity(tfidf_matrix[0:1], tfidf_matrix[1:2])\n",
    "    return similarity[0][0]\n",
    "\n",
    "# Example calculation of cosine similarity between two texts\n",
    "# Selecting two sample responses from the summaries data\n",
    "sample_text1 = summaries_df['text'][0]\n",
    "sample_text2 = summaries_df['text'][1]\n",
    "\n",
    "# Calculate cosine similarity between these two texts\n",
    "similarity_score = calculate_cosine_similarity(sample_text1, sample_text2)\n",
    "\n",
    "similarity_score\n",
    "\n",
    "\n",
    "\n"
   ]
  },
  {
   "cell_type": "code",
   "execution_count": null,
   "metadata": {},
   "outputs": [
    {
     "data": {
      "text/plain": [
       "(7165, 11902)"
      ]
     },
     "metadata": {},
     "output_type": "display_data"
    }
   ],
   "source": [
    "######################### 1 ###########################\n",
    "# 构建基于全部文档的 tf-idf 矩阵\n",
    "from sklearn.feature_extraction.text import TfidfVectorizer\n",
    "tfidf_vectorizer = TfidfVectorizer()\n",
    "tfidf_matrix = tfidf_vectorizer.fit_transform(summaries_df['text'])\n",
    "tfidf_matrix.shape"
   ]
  },
  {
   "cell_type": "code",
   "execution_count": null,
   "metadata": {},
   "outputs": [],
   "source": [
    "######################### 2 ###########################\n",
    "# 计算一个指定的 R*  和任意一个 R 之间的余弦相似度\n",
    "from sklearn.metrics.pairwise import cosine_similarity\n",
    "\n",
    "def get_cosine_similarity(ind1, ind2, tfidf_matrix):\n",
    "    cs = cosine_similarity(tfidf_matrix[ind1:ind1+1], tfidf_matrix[ind2:ind2+1])[0][0]\n",
    "    return cs"
   ]
  },
  {
   "cell_type": "code",
   "execution_count": null,
   "metadata": {},
   "outputs": [],
   "source": [
    "######################### 3 ###########################\n",
    "\n",
    "from sklearn.feature_extraction.text import TfidfVectorizer\n",
    "from sklearn.metrics.pairwise import cosine_similarity\n",
    "\n",
    "\n",
    "def cos_for2(R_star_index):\n",
    "    # 从 prompts 中随机选择一个\n",
    "    random_prompt_id = 'ebad26'\n",
    "\n",
    "    # 从该 prompt 下,随机选择一个学生的回答，视为R；选择第 4 行，作为 R*\n",
    "    selected_R = summaries_df[summaries_df['prompt_id'] == random_prompt_id].sample(1)\n",
    "    selected_R_star = summaries_df.loc[R_star_index:R_star_index]\n",
    "\n",
    "\n",
    "\n",
    "\n",
    "    # 确保 R 和 R* 不是同一行\n",
    "    while selected_R.index == selected_R_star.index:\n",
    "        selected_R = summaries_df[summaries_df['prompt_id'] == random_prompt_id].sample(1)\n",
    "\n",
    "\n",
    "\n",
    "    R_index = summaries_df.index[summaries_df.index == selected_R.index[0]][0]\n",
    "    R_star_index = summaries_df.index[summaries_df.index == selected_R_star.index[0]][0]\n",
    "\n",
    "    similarity_example = get_cosine_similarity(R_index,R_star_index, tfidf_matrix)\n",
    "    return selected_R, selected_R_star, similarity_example"
   ]
  },
  {
   "cell_type": "code",
   "execution_count": null,
   "metadata": {},
   "outputs": [],
   "source": [
    "selected_R, selected_R_star, similarity_example = cos_for2(20)"
   ]
  },
  {
   "cell_type": "code",
   "execution_count": null,
   "metadata": {},
   "outputs": [
    {
     "data": {
      "text/plain": [
       "(5368    meat packers would use various chemicals including borax soda coloring flavoring methods cover bad taste smell spoiled meat machine hollow needle injected pickling brine hams pickling would mask problems spoiled meat\n",
       " Name: text, dtype: object,\n",
       " 5368    0.205683\n",
       " Name: content, dtype: float64,\n",
       " 20    third wave developed quickly due students particip thos experiment quickly took new life grew contro\n",
       " Name: text, dtype: object,\n",
       " 20   -0.910596\n",
       " Name: content, dtype: float64,\n",
       " 0.0)"
      ]
     },
     "metadata": {},
     "output_type": "display_data"
    }
   ],
   "source": [
    "(selected_R['text'],selected_R['content'],selected_R_star['text'],selected_R_star['content'],similarity_example)"
   ]
  },
  {
   "cell_type": "code",
   "execution_count": null,
   "metadata": {},
   "outputs": [
    {
     "data": {
      "text/html": [
       "<div>\n",
       "<style scoped>\n",
       "    .dataframe tbody tr th:only-of-type {\n",
       "        vertical-align: middle;\n",
       "    }\n",
       "\n",
       "    .dataframe tbody tr th {\n",
       "        vertical-align: top;\n",
       "    }\n",
       "\n",
       "    .dataframe thead th {\n",
       "        text-align: right;\n",
       "    }\n",
       "</style>\n",
       "<table border=\"1\" class=\"dataframe\">\n",
       "  <thead>\n",
       "    <tr style=\"text-align: right;\">\n",
       "      <th></th>\n",
       "      <th>similarity</th>\n",
       "      <th>content_score_diff</th>\n",
       "    </tr>\n",
       "  </thead>\n",
       "  <tbody>\n",
       "    <tr>\n",
       "      <th>0</th>\n",
       "      <td>0.000000</td>\n",
       "      <td>1.067667</td>\n",
       "    </tr>\n",
       "    <tr>\n",
       "      <th>1</th>\n",
       "      <td>0.088940</td>\n",
       "      <td>0.454490</td>\n",
       "    </tr>\n",
       "    <tr>\n",
       "      <th>2</th>\n",
       "      <td>0.069761</td>\n",
       "      <td>2.768252</td>\n",
       "    </tr>\n",
       "    <tr>\n",
       "      <th>3</th>\n",
       "      <td>0.000000</td>\n",
       "      <td>1.053600</td>\n",
       "    </tr>\n",
       "    <tr>\n",
       "      <th>4</th>\n",
       "      <td>0.008176</td>\n",
       "      <td>4.628456</td>\n",
       "    </tr>\n",
       "  </tbody>\n",
       "</table>\n",
       "</div>"
      ],
      "text/plain": [
       "   similarity  content_score_diff\n",
       "0    0.000000            1.067667\n",
       "1    0.088940            0.454490\n",
       "2    0.069761            2.768252\n",
       "3    0.000000            1.053600\n",
       "4    0.008176            4.628456"
      ]
     },
     "metadata": {},
     "output_type": "display_data"
    }
   ],
   "source": [
    "# 创建一个新的 DataFrame，记录每对 R 和 R*  TF-IDF 余弦相似度以及它们各自的 content 分数的差值\n",
    "similarity_scores = []\n",
    "content_score_diffs = []\n",
    "for i in range(len(summaries_df)):\n",
    "    selected_R, selected_R_star, similarity = cos_for2(i)\n",
    "    similarity_scores.append(similarity)\n",
    "    content_score_diffs.append(abs(selected_R['content'].values[0] - selected_R_star['content'].values[0]))\n",
    "\n",
    "# 创建一个新的 DataFrame，记录每对 R 和 R*  TF-IDF 余弦相似度以及它们各自的 content 分数的差值\n",
    "df = pd.DataFrame({\n",
    "    'similarity': similarity_scores,\n",
    "    'content_score_diff': content_score_diffs\n",
    "})\n",
    "\n",
    "df.head()"
   ]
  },
  {
   "cell_type": "code",
   "execution_count": null,
   "metadata": {},
   "outputs": [
    {
     "name": "stdout",
     "output_type": "stream",
     "text": [
      "        similarity  content_score_diff\n",
      "count  7165.000000         7165.000000\n",
      "mean      0.051387            1.130903\n",
      "std       0.087423            0.875908\n",
      "min       0.000000            0.000000\n",
      "25%       0.000000            0.442485\n",
      "50%       0.012290            0.955766\n",
      "75%       0.059791            1.613862\n",
      "max       0.737708            5.027976\n"
     ]
    }
   ],
   "source": [
    "print(df.describe())"
   ]
  },
  {
   "cell_type": "code",
   "execution_count": null,
   "metadata": {},
   "outputs": [
    {
     "name": "stdout",
     "output_type": "stream",
     "text": [
      "Pearson correlation:  -0.013111405866601832\n"
     ]
    }
   ],
   "source": [
    "from scipy.stats import pearsonr\n",
    "correlation, p_value = pearsonr(df['similarity'], df['content_score_diff'])\n",
    "print(\"Pearson correlation: \", correlation)\n",
    "\n"
   ]
  },
  {
   "cell_type": "code",
   "execution_count": null,
   "metadata": {},
   "outputs": [
    {
     "data": {
      "image/png": "[encoded data removed]",
      "text/plain": [
       "<Figure size 640x480 with 1 Axes>"
      ]
     },
     "metadata": {},
     "output_type": "display_data"
    }
   ],
   "source": [
    "import matplotlib.pyplot as plt\n",
    "# 绘制散点图\n",
    "plt.scatter(df['similarity'], df['content_score_diff'])\n",
    "plt.xlabel('Cosine Similarity')\n",
    "plt.ylabel('Content Score Difference')\n",
    "plt.title('Similarity vs Score Difference')\n",
    "plt.show()"
   ]
  },
  {
   "cell_type": "markdown",
   "metadata": {},
   "source": [
    "> 这说明 tfidf+cos 不能够良好表示出 content 分的差异"
   ]
  },
  {
   "cell_type": "markdown",
   "metadata": {},
   "source": [
    "---"
   ]
  },
  {
   "cell_type": "code",
   "execution_count": null,
   "metadata": {},
   "outputs": [
    {
     "ename": "KeyError",
     "evalue": "'role'",
     "output_type": "error",
     "traceback": [
      "\u001b[0;31m---------------------------------------------------------------------------\u001b[0m\n",
      "\u001b[0;31mKeyError\u001b[0m                                  Traceback (most recent call last)\n",
      "File \u001b[0;32m~/opt/anaconda3/lib/python3.9/site-packages/pandas/core/indexes/base.py:3629\u001b[0m, in \u001b[0;36mIndex.get_loc\u001b[0;34m(self, key, method, tolerance)\u001b[0m\n",
      "\u001b[1;32m   3628\u001b[0m \u001b[38;5;28;01mtry\u001b[39;00m:\n",
      "\u001b[0;32m-> 3629\u001b[0m     \u001b[38;5;28;01mreturn\u001b[39;00m \u001b[38;5;28;43mself\u001b[39;49m\u001b[38;5;241;43m.\u001b[39;49m\u001b[43m_engine\u001b[49m\u001b[38;5;241;43m.\u001b[39;49m\u001b[43mget_loc\u001b[49m\u001b[43m(\u001b[49m\u001b[43mcasted_key\u001b[49m\u001b[43m)\u001b[49m\n",
      "\u001b[1;32m   3630\u001b[0m \u001b[38;5;28;01mexcept\u001b[39;00m \u001b[38;5;167;01mKeyError\u001b[39;00m \u001b[38;5;28;01mas\u001b[39;00m err:\n",
      "\n",
      "File \u001b[0;32m~/opt/anaconda3/lib/python3.9/site-packages/pandas/_libs/index.pyx:136\u001b[0m, in \u001b[0;36mpandas._libs.index.IndexEngine.get_loc\u001b[0;34m()\u001b[0m\n",
      "\n",
      "File \u001b[0;32m~/opt/anaconda3/lib/python3.9/site-packages/pandas/_libs/index.pyx:163\u001b[0m, in \u001b[0;36mpandas._libs.index.IndexEngine.get_loc\u001b[0;34m()\u001b[0m\n",
      "\n",
      "File \u001b[0;32mpandas/_libs/hashtable_class_helper.pxi:5198\u001b[0m, in \u001b[0;36mpandas._libs.hashtable.PyObjectHashTable.get_item\u001b[0;34m()\u001b[0m\n",
      "\n",
      "File \u001b[0;32mpandas/_libs/hashtable_class_helper.pxi:5206\u001b[0m, in \u001b[0;36mpandas._libs.hashtable.PyObjectHashTable.get_item\u001b[0;34m()\u001b[0m\n",
      "\n",
      "\u001b[0;31mKeyError\u001b[0m: 'role'\n",
      "\n",
      "The above exception was the direct cause of the following exception:\n",
      "\n",
      "\u001b[0;31mKeyError\u001b[0m                                  Traceback (most recent call last)\n",
      "Input \u001b[0;32mIn [45]\u001b[0m, in \u001b[0;36m<cell line: 6>\u001b[0;34m()\u001b[0m\n",
      "\u001b[1;32m      2\u001b[0m summaries_df[\u001b[38;5;124m'\u001b[39m\u001b[38;5;124mword_count\u001b[39m\u001b[38;5;124m'\u001b[39m] \u001b[38;5;241m=\u001b[39m summaries_df[\u001b[38;5;124m'\u001b[39m\u001b[38;5;124mtext\u001b[39m\u001b[38;5;124m'\u001b[39m]\u001b[38;5;241m.\u001b[39mapply(\u001b[38;5;28;01mlambda\u001b[39;00m x: \u001b[38;5;28mlen\u001b[39m(x\u001b[38;5;241m.\u001b[39msplit()))\n",
      "\u001b[1;32m      4\u001b[0m \u001b[38;5;66;03m# 添加长度到新 DataFrame\u001b[39;00m\n",
      "\u001b[1;32m      5\u001b[0m \u001b[38;5;66;03m# 假设 similarity_scores 和 content_score_diffs 是您已有的列表\u001b[39;00m\n",
      "\u001b[1;32m      6\u001b[0m df \u001b[38;5;241m=\u001b[39m pd\u001b[38;5;241m.\u001b[39mDataFrame({\n",
      "\u001b[1;32m      7\u001b[0m     \u001b[38;5;124m'\u001b[39m\u001b[38;5;124msimilarity\u001b[39m\u001b[38;5;124m'\u001b[39m: similarity_scores,\n",
      "\u001b[1;32m      8\u001b[0m     \u001b[38;5;124m'\u001b[39m\u001b[38;5;124mcontent_score_diff\u001b[39m\u001b[38;5;124m'\u001b[39m: content_score_diffs,\n",
      "\u001b[0;32m----> 9\u001b[0m     \u001b[38;5;124m'\u001b[39m\u001b[38;5;124mword_count_R\u001b[39m\u001b[38;5;124m'\u001b[39m: summaries_df\u001b[38;5;241m.\u001b[39mloc[\u001b[43msummaries_df\u001b[49m\u001b[43m[\u001b[49m\u001b[38;5;124;43m'\u001b[39;49m\u001b[38;5;124;43mrole\u001b[39;49m\u001b[38;5;124;43m'\u001b[39;49m\u001b[43m]\u001b[49m \u001b[38;5;241m==\u001b[39m \u001b[38;5;124m'\u001b[39m\u001b[38;5;124mR\u001b[39m\u001b[38;5;124m'\u001b[39m, \u001b[38;5;124m'\u001b[39m\u001b[38;5;124mword_count\u001b[39m\u001b[38;5;124m'\u001b[39m]\u001b[38;5;241m.\u001b[39mvalues,\n",
      "\u001b[1;32m     10\u001b[0m     \u001b[38;5;124m'\u001b[39m\u001b[38;5;124mword_count_R_star\u001b[39m\u001b[38;5;124m'\u001b[39m: summaries_df\u001b[38;5;241m.\u001b[39mloc[summaries_df[\u001b[38;5;124m'\u001b[39m\u001b[38;5;124mrole\u001b[39m\u001b[38;5;124m'\u001b[39m] \u001b[38;5;241m==\u001b[39m \u001b[38;5;124m'\u001b[39m\u001b[38;5;124mR_star\u001b[39m\u001b[38;5;124m'\u001b[39m, \u001b[38;5;124m'\u001b[39m\u001b[38;5;124mword_count\u001b[39m\u001b[38;5;124m'\u001b[39m]\u001b[38;5;241m.\u001b[39mvalues\n",
      "\u001b[1;32m     11\u001b[0m })\n",
      "\u001b[1;32m     13\u001b[0m \u001b[38;5;66;03m# 计算单词数与评分差的相关性\u001b[39;00m\n",
      "\u001b[1;32m     14\u001b[0m correlation, p_value \u001b[38;5;241m=\u001b[39m pearsonr(df[\u001b[38;5;124m'\u001b[39m\u001b[38;5;124mword_count_R\u001b[39m\u001b[38;5;124m'\u001b[39m], df[\u001b[38;5;124m'\u001b[39m\u001b[38;5;124mcontent_score_diff\u001b[39m\u001b[38;5;124m'\u001b[39m])\n",
      "\n",
      "File \u001b[0;32m~/opt/anaconda3/lib/python3.9/site-packages/pandas/core/frame.py:3505\u001b[0m, in \u001b[0;36mDataFrame.__getitem__\u001b[0;34m(self, key)\u001b[0m\n",
      "\u001b[1;32m   3503\u001b[0m \u001b[38;5;28;01mif\u001b[39;00m \u001b[38;5;28mself\u001b[39m\u001b[38;5;241m.\u001b[39mcolumns\u001b[38;5;241m.\u001b[39mnlevels \u001b[38;5;241m>\u001b[39m \u001b[38;5;241m1\u001b[39m:\n",
      "\u001b[1;32m   3504\u001b[0m     \u001b[38;5;28;01mreturn\u001b[39;00m \u001b[38;5;28mself\u001b[39m\u001b[38;5;241m.\u001b[39m_getitem_multilevel(key)\n",
      "\u001b[0;32m-> 3505\u001b[0m indexer \u001b[38;5;241m=\u001b[39m \u001b[38;5;28;43mself\u001b[39;49m\u001b[38;5;241;43m.\u001b[39;49m\u001b[43mcolumns\u001b[49m\u001b[38;5;241;43m.\u001b[39;49m\u001b[43mget_loc\u001b[49m\u001b[43m(\u001b[49m\u001b[43mkey\u001b[49m\u001b[43m)\u001b[49m\n",
      "\u001b[1;32m   3506\u001b[0m \u001b[38;5;28;01mif\u001b[39;00m is_integer(indexer):\n",
      "\u001b[1;32m   3507\u001b[0m     indexer \u001b[38;5;241m=\u001b[39m [indexer]\n",
      "\n",
      "File \u001b[0;32m~/opt/anaconda3/lib/python3.9/site-packages/pandas/core/indexes/base.py:3631\u001b[0m, in \u001b[0;36mIndex.get_loc\u001b[0;34m(self, key, method, tolerance)\u001b[0m\n",
      "\u001b[1;32m   3629\u001b[0m     \u001b[38;5;28;01mreturn\u001b[39;00m \u001b[38;5;28mself\u001b[39m\u001b[38;5;241m.\u001b[39m_engine\u001b[38;5;241m.\u001b[39mget_loc(casted_key)\n",
      "\u001b[1;32m   3630\u001b[0m \u001b[38;5;28;01mexcept\u001b[39;00m \u001b[38;5;167;01mKeyError\u001b[39;00m \u001b[38;5;28;01mas\u001b[39;00m err:\n",
      "\u001b[0;32m-> 3631\u001b[0m     \u001b[38;5;28;01mraise\u001b[39;00m \u001b[38;5;167;01mKeyError\u001b[39;00m(key) \u001b[38;5;28;01mfrom\u001b[39;00m \u001b[38;5;21;01merr\u001b[39;00m\n",
      "\u001b[1;32m   3632\u001b[0m \u001b[38;5;28;01mexcept\u001b[39;00m \u001b[38;5;167;01mTypeError\u001b[39;00m:\n",
      "\u001b[1;32m   3633\u001b[0m     \u001b[38;5;66;03m# If we have a listlike key, _check_indexing_error will raise\u001b[39;00m\n",
      "\u001b[1;32m   3634\u001b[0m     \u001b[38;5;66;03m#  InvalidIndexError. Otherwise we fall through and re-raise\u001b[39;00m\n",
      "\u001b[1;32m   3635\u001b[0m     \u001b[38;5;66;03m#  the TypeError.\u001b[39;00m\n",
      "\u001b[1;32m   3636\u001b[0m     \u001b[38;5;28mself\u001b[39m\u001b[38;5;241m.\u001b[39m_check_indexing_error(key)\n",
      "\n",
      "\u001b[0;31mKeyError\u001b[0m: 'role'"
     ]
    }
   ],
   "source": [
    "# 计算文本长度（以单词数为例）\n",
    "summaries_df['word_count'] = summaries_df['text'].apply(lambda x: len(x.split()))\n",
    "\n",
    "# 添加长度到新 DataFrame\n",
    "# 假设 similarity_scores 和 content_score_diffs 是您已有的列表\n",
    "df = pd.DataFrame({\n",
    "    'similarity': similarity_scores,\n",
    "    'content_score_diff': content_score_diffs,\n",
    "    'word_count_R': summaries_df.loc[summaries_df['role'] == 'R', 'word_count'].values,\n",
    "    'word_count_R_star': summaries_df.loc[summaries_df['role'] == 'R_star', 'word_count'].values\n",
    "})\n",
    "\n",
    "# 计算单词数与评分差的相关性\n",
    "correlation, p_value = pearsonr(df['word_count_R'], df['content_score_diff'])\n",
    "print(\"Word Count R Correlation with Score Difference: \", correlation)\n",
    "\n",
    "correlation, p_value = pearsonr(df['word_count_R_star'], df['content_score_diff'])\n",
    "print(\"Word Count R* Correlation with Score Difference: \", correlation)\n",
    "\n",
    "# 可视化\n",
    "plt.figure(figsize=(10, 5))\n",
    "\n",
    "# 绘制文本长度与评分差的关系\n",
    "plt.subplot(1, 2, 1)\n",
    "plt.scatter(df['word_count_R'], df['content_score_diff'], alpha=0.5)\n",
    "plt.title('Word Count R vs Score Difference')\n",
    "plt.xlabel('Word Count of R')\n",
    "plt.ylabel('Content Score Difference')\n",
    "\n",
    "plt.subplot(1, 2, 2)\n",
    "plt.scatter(df['word_count_R_star'], df['content_score_diff'], alpha=0.5)\n",
    "plt.title('Word Count R* vs Score Difference')\n",
    "plt.xlabel('Word Count of R*')\n",
    "\n",
    "plt.tight_layout()\n",
    "plt.show()"
   ]
  },
  {
   "cell_type": "code",
   "execution_count": null,
   "metadata": {},
   "outputs": [],
   "source": [
    "# 获取英文停用词集\n",
    "stop_words = set(stopwords.words('english'))\n",
    "\n",
    "# 文本预处理函数：小写化、分词、去除停用词\n",
    "def preprocess_text(text):\n",
    "    # 转换为小写\n",
    "    text = text.lower()\n",
    "    # 分词\n",
    "    words = word_tokenize(text)\n",
    "    # 去除停用词\n",
    "    filtered_words = [word for word in words if word not in stop_words and word.isalpha()]\n",
    "    return \" \".join(filtered_words)\n",
    "\n",
    "# 对 R 和 R* 应用预处理\n",
    "R_processed = preprocess_text(R)\n",
    "R_star_processed = preprocess_text(R_star)"
   ]
  },
  {
   "cell_type": "code",
   "execution_count": null,
   "metadata": {},
   "outputs": [],
   "source": [
    "from sklearn.feature_extraction.text import CountVectorizer\n",
    "import numpy as np\n",
    "\n",
    "# 初始化计数向量器，用于关键词提取\n",
    "count_vectorizer = CountVectorizer(max_features=10)\n",
    "\n",
    "# 仅针对 R 和 R* 进行关键词提取\n",
    "count_matrix = count_vectorizer.fit_transform([R_processed, R_star_processed])\n",
    "feature_array = np.array(count_vectorizer.get_feature_names_out())\n",
    "\n",
    "# 提取每个文本的前 10 个关键词\n",
    "top_keywords_R = feature_array[np.argsort(count_matrix.toarray()[0])][::-1][:10]\n",
    "top_keywords_R_star = feature_array[np.argsort(count_matrix.toarray()[1])][::-1][:10]\n",
    "\n",
    "top_keywords_R, top_keywords_R_star\n"
   ]
  },
  {
   "cell_type": "markdown",
   "metadata": {},
   "source": [
    "#### model building"
   ]
  },
  {
   "cell_type": "code",
   "execution_count": null,
   "metadata": {},
   "outputs": [],
   "source": []
  },
  {
   "cell_type": "code",
   "execution_count": null,
   "metadata": {},
   "outputs": [],
   "source": []
  },
  {
   "cell_type": "code",
   "execution_count": null,
   "metadata": {},
   "outputs": [],
   "source": []
  },
  {
   "cell_type": "code",
   "execution_count": null,
   "metadata": {},
   "outputs": [],
   "source": []
  },
  {
   "cell_type": "code",
   "execution_count": null,
   "metadata": {},
   "outputs": [],
   "source": []
  },
  {
   "cell_type": "code",
   "execution_count": null,
   "metadata": {},
   "outputs": [],
   "source": []
  },
  {
   "cell_type": "markdown",
   "metadata": {},
   "source": [
    "#### évaluation"
   ]
  },
  {
   "cell_type": "code",
   "execution_count": null,
   "metadata": {},
   "outputs": [],
   "source": []
  },
  {
   "cell_type": "code",
   "execution_count": null,
   "metadata": {},
   "outputs": [],
   "source": []
  },
  {
   "cell_type": "code",
   "execution_count": null,
   "metadata": {},
   "outputs": [],
   "source": []
  },
  {
   "cell_type": "code",
   "execution_count": null,
   "metadata": {},
   "outputs": [],
   "source": []
  },
  {
   "cell_type": "code",
   "execution_count": null,
   "metadata": {},
   "outputs": [],
   "source": []
  }
 ],
 "metadata": {
  "kernelspec": {
   "display_name": "Python 3 (ipykernel)",
   "language": "python",
   "name": "python3"
  },
  "language_info": {
   "codemirror_mode": {
    "name": "ipython",
    "version": 3
   },
   "file_extension": ".py",
   "mimetype": "text/x-python",
   "name": "python",
   "nbconvert_exporter": "python",
   "pygments_lexer": "ipython3",
   "version": "3.9.16"
  }
 },
 "nbformat": 4,
 "nbformat_minor": 2
}
