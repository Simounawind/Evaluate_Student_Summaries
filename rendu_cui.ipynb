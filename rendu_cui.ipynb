{
 "cells": [
  {
   "cell_type": "markdown",
   "id": "1c1800d1",
   "metadata": {},
   "source": [
    "### Résumé de tâche :\n",
    "\n",
    "**L’objectif** est : pour un prompt et deux réponses données R et R* où R* est une **« bonne réponse »**, est-ce que « R est aussi bonne que R* » ?\n",
    "> ⬆️ Comparaison\n",
    "\n",
    "Plus **précisément** : \n",
    "1. Ont-elles des points communs ?  `analyse`\n",
    "2. Des différences ? `analyse`\n",
    "3. Elles se complètent ? En les combinant, on obtiendrait une réponse encore meilleure ?  `génération+évaluation`\n",
    "\n",
    "\n",
    "\n",
    "> - Analyser le problème, proposer une solution et l’implémenter.\n",
    "> - Pas besoin de chercher à faire le meilleur modèle possible (ni de tester des dizaines de modèles)\n",
    "> - Se Concentrer sur l’analyse du problème, la proposition d’une solution pertinente et la qualité du code Python d’implémentation de la solution.\n"
   ]
  },
  {
   "cell_type": "markdown",
   "id": "74872caf",
   "metadata": {},
   "source": [
    "Analyser le problème :\n",
    "- Tout d'abord, comment déterminer les critères de R, notamment **R***, autrement dit, comment devrait-on subdiviser les notes de contenu.\n",
    "- Dans quel aspects on peut trouver des sim. et diff.  entre R et R* ?\n",
    "- Comment fusionner R et R* pour générer une nouvelle réponse.\n",
    "- Comment évaluer le(s) nouvelle(s) réponse(s)."
   ]
  },
  {
   "cell_type": "markdown",
   "id": "07be196b",
   "metadata": {},
   "source": [
    "---"
   ]
  },
  {
   "cell_type": "markdown",
   "id": "0385bbd9",
   "metadata": {},
   "source": [
    "### 1️⃣ Importation des données"
   ]
  },
  {
   "cell_type": "code",
   "execution_count": 1,
   "id": "648b7ed3",
   "metadata": {},
   "outputs": [],
   "source": [
    "import pandas as pd\n",
    "import matplotlib.pyplot as plt\n",
    "from transformers import AutoTokenizer\n",
    "import re\n",
    "from nltk.tokenize import word_tokenize\n",
    "from nltk import ngrams\n",
    "from sentence_transformers import SentenceTransformer, util\n",
    "import torch\n",
    "import os\n",
    "from openai import OpenAI\n",
    "from getpass import getpass\n",
    "import json\n",
    "from transformers import RobertaTokenizer, RobertaModel\n",
    "from tqdm import tqdm\n",
    "from sklearn.model_selection import train_test_split\n",
    "from xgboost import XGBRegressor\n",
    "import nltk\n",
    "from nltk.corpus import stopwords\n",
    "from sklearn.feature_extraction.text import TfidfVectorizer\n",
    "from sklearn.linear_model import LinearRegression\n",
    "from sklearn.metrics import mean_squared_error\n",
    "from sklearn.preprocessing import StandardScaler\n",
    "from sklearn.metrics.pairwise import cosine_similarity\n",
    "from sklearn.manifold import TSNE\n"
   ]
  },
  {
   "cell_type": "code",
   "execution_count": 2,
   "id": "e1a5697d",
   "metadata": {},
   "outputs": [],
   "source": [
    "# importer les données\n",
    "prompts_train_df = pd.read_csv('data/prompts_train.csv')\n",
    "reponses_train_df = pd.read_csv('data/summaries_train.csv')"
   ]
  },
  {
   "cell_type": "code",
   "execution_count": 3,
   "id": "d88d6ae8",
   "metadata": {},
   "outputs": [
    {
     "data": {
      "text/plain": [
       "(7165, 5)"
      ]
     },
     "execution_count": 3,
     "metadata": {},
     "output_type": "execute_result"
    }
   ],
   "source": [
    "# vérifier la taille des données\n",
    "reponses_train_df.shape"
   ]
  },
  {
   "cell_type": "code",
   "execution_count": 4,
   "id": "3c950e5d",
   "metadata": {},
   "outputs": [
    {
     "data": {
      "text/html": [
       "<div>\n",
       "<style scoped>\n",
       "    .dataframe tbody tr th:only-of-type {\n",
       "        vertical-align: middle;\n",
       "    }\n",
       "\n",
       "    .dataframe tbody tr th {\n",
       "        vertical-align: top;\n",
       "    }\n",
       "\n",
       "    .dataframe thead th {\n",
       "        text-align: right;\n",
       "    }\n",
       "</style>\n",
       "<table border=\"1\" class=\"dataframe\">\n",
       "  <thead>\n",
       "    <tr style=\"text-align: right;\">\n",
       "      <th></th>\n",
       "      <th>student_id</th>\n",
       "      <th>prompt_id</th>\n",
       "      <th>text</th>\n",
       "      <th>content</th>\n",
       "      <th>wording</th>\n",
       "    </tr>\n",
       "  </thead>\n",
       "  <tbody>\n",
       "    <tr>\n",
       "      <th>0</th>\n",
       "      <td>000e8c3c7ddb</td>\n",
       "      <td>814d6b</td>\n",
       "      <td>The third wave was an experimentto see how peo...</td>\n",
       "      <td>0.205683</td>\n",
       "      <td>0.380538</td>\n",
       "    </tr>\n",
       "    <tr>\n",
       "      <th>1</th>\n",
       "      <td>0020ae56ffbf</td>\n",
       "      <td>ebad26</td>\n",
       "      <td>They would rub it up with soda to make the sme...</td>\n",
       "      <td>-0.548304</td>\n",
       "      <td>0.506755</td>\n",
       "    </tr>\n",
       "    <tr>\n",
       "      <th>2</th>\n",
       "      <td>004e978e639e</td>\n",
       "      <td>3b9047</td>\n",
       "      <td>In Egypt, there were many occupations and soci...</td>\n",
       "      <td>3.128928</td>\n",
       "      <td>4.231226</td>\n",
       "    </tr>\n",
       "    <tr>\n",
       "      <th>3</th>\n",
       "      <td>005ab0199905</td>\n",
       "      <td>3b9047</td>\n",
       "      <td>The highest class was Pharaohs these people we...</td>\n",
       "      <td>-0.210614</td>\n",
       "      <td>-0.471415</td>\n",
       "    </tr>\n",
       "    <tr>\n",
       "      <th>4</th>\n",
       "      <td>0070c9e7af47</td>\n",
       "      <td>814d6b</td>\n",
       "      <td>The Third Wave developed  rapidly because the ...</td>\n",
       "      <td>3.272894</td>\n",
       "      <td>3.219757</td>\n",
       "    </tr>\n",
       "  </tbody>\n",
       "</table>\n",
       "</div>"
      ],
      "text/plain": [
       "     student_id prompt_id                                               text  \\\n",
       "0  000e8c3c7ddb    814d6b  The third wave was an experimentto see how peo...   \n",
       "1  0020ae56ffbf    ebad26  They would rub it up with soda to make the sme...   \n",
       "2  004e978e639e    3b9047  In Egypt, there were many occupations and soci...   \n",
       "3  005ab0199905    3b9047  The highest class was Pharaohs these people we...   \n",
       "4  0070c9e7af47    814d6b  The Third Wave developed  rapidly because the ...   \n",
       "\n",
       "    content   wording  \n",
       "0  0.205683  0.380538  \n",
       "1 -0.548304  0.506755  \n",
       "2  3.128928  4.231226  \n",
       "3 -0.210614 -0.471415  \n",
       "4  3.272894  3.219757  "
      ]
     },
     "execution_count": 4,
     "metadata": {},
     "output_type": "execute_result"
    }
   ],
   "source": [
    "# vérifier les premières lignes des données pour avoir une idée de la structure\n",
    "reponses_train_df.head()"
   ]
  },
  {
   "cell_type": "markdown",
   "id": "ecaf0803",
   "metadata": {},
   "source": [
    "---"
   ]
  },
  {
   "cell_type": "markdown",
   "id": "893ef216",
   "metadata": {},
   "source": [
    "### 2️⃣ EDA (Exploratory Data Analysis) et Ingénierie des caractéristiques"
   ]
  },
  {
   "cell_type": "code",
   "execution_count": 5,
   "id": "96716a0e",
   "metadata": {},
   "outputs": [
    {
     "name": "stdout",
     "output_type": "stream",
     "text": [
      "réponses uniques: 7165\n",
      "prompts uniques: 4\n",
      "******************************************************************************************\n",
      "Statistiques de score de content :\n",
      "count    7165.000000\n",
      "mean       -0.014853\n",
      "std         1.043569\n",
      "min        -1.729859\n",
      "25%        -0.799545\n",
      "50%        -0.093814\n",
      "75%         0.499660\n",
      "max         3.900326\n",
      "Name: content, dtype: float64\n",
      "******************************************************************************************\n"
     ]
    }
   ],
   "source": [
    "# obtenir le nombre de réponses uniques et de prompts uniques\n",
    "unique_reponses = reponses_train_df['student_id'].nunique()\n",
    "unique_prompts = reponses_train_df['prompt_id'].nunique()\n",
    "\n",
    "# obtenir les données statistiques descriptives sur les scores de \"content\".\n",
    "score_stats = reponses_train_df['content'].describe()\n",
    "print('réponses uniques:', unique_reponses)\n",
    "print('prompts uniques:', unique_prompts)\n",
    "print('*'*90)\n",
    "print('Statistiques de score de content :')\n",
    "print(score_stats)\n",
    "print('*'*90)"
   ]
  },
  {
   "cell_type": "markdown",
   "id": "0b427f55",
   "metadata": {},
   "source": [
    "🔍 Un grand nombre d'élèves ont des scores négatifs.\n",
    "🔍 Une diversité de réponses en termes de qualité de contenu."
   ]
  },
  {
   "cell_type": "markdown",
   "id": "c4bd714f",
   "metadata": {},
   "source": [
    "---"
   ]
  },
  {
   "cell_type": "markdown",
   "id": "17a47825",
   "metadata": {},
   "source": [
    "On va ensuite effectuer les opérations suivantes sur les deux DataFrames `prompt_train_df` et `reponses_train_df`:\n",
    "1. Fusionner les 2 dfs et faire certains prétraitement\n",
    "2. Supprimer la colonne \"wording\"\n",
    "3. Ajouter d'autres caractéristiques"
   ]
  },
  {
   "cell_type": "code",
   "execution_count": 6,
   "id": "a13d0e2f",
   "metadata": {},
   "outputs": [],
   "source": [
    "# fusionner\n",
    "merged_df = reponses_train_df.merge(prompts_train_df[['prompt_id', 'prompt_text','prompt_question']], on='prompt_id', how='left')\n",
    "\n",
    "\n",
    "# rendre it lower \n",
    "merged_df = merged_df.apply(lambda s: s.lower() if type(s) == str else s)\n",
    "\n",
    "# s'assurer que tout ce qui doit être str soit str\n",
    "merged_df[\"text\"]=[str(data) for data in merged_df.text] \n",
    "merged_df[\"prompt_text\"]=[str(data) for data in merged_df.prompt_text] \n",
    "\n",
    "# éliminer les ponctuations\n",
    "# merged_df[\"text\"]=merged_df.text.apply(lambda x: re.sub('[^A-Za-z0-9 ]+', ' ', x))\n",
    "# merged_df[\"prompt_text\"]=merged_df.prompt_text.apply(lambda x: re.sub('[^A-Za-z0-9 ]+', ' ', x))\n",
    "# Les ponctuations sont parfois utiles pour identifier les citations dans une réponse.\n",
    "\n",
    "\n",
    "# supprimer wording score\n",
    "merged_df = merged_df.drop(columns=['wording'])"
   ]
  },
  {
   "cell_type": "code",
   "execution_count": 7,
   "id": "83ff2f3d",
   "metadata": {},
   "outputs": [
    {
     "data": {
      "text/html": [
       "<div>\n",
       "<style scoped>\n",
       "    .dataframe tbody tr th:only-of-type {\n",
       "        vertical-align: middle;\n",
       "    }\n",
       "\n",
       "    .dataframe tbody tr th {\n",
       "        vertical-align: top;\n",
       "    }\n",
       "\n",
       "    .dataframe thead th {\n",
       "        text-align: right;\n",
       "    }\n",
       "</style>\n",
       "<table border=\"1\" class=\"dataframe\">\n",
       "  <thead>\n",
       "    <tr style=\"text-align: right;\">\n",
       "      <th></th>\n",
       "      <th>student_id</th>\n",
       "      <th>prompt_id</th>\n",
       "      <th>text</th>\n",
       "      <th>content</th>\n",
       "      <th>prompt_text</th>\n",
       "      <th>prompt_question</th>\n",
       "    </tr>\n",
       "  </thead>\n",
       "  <tbody>\n",
       "    <tr>\n",
       "      <th>0</th>\n",
       "      <td>000e8c3c7ddb</td>\n",
       "      <td>814d6b</td>\n",
       "      <td>The third wave was an experimentto see how peo...</td>\n",
       "      <td>0.205683</td>\n",
       "      <td>Background \\r\\nThe Third Wave experiment took ...</td>\n",
       "      <td>Summarize how the Third Wave developed over su...</td>\n",
       "    </tr>\n",
       "    <tr>\n",
       "      <th>1</th>\n",
       "      <td>0020ae56ffbf</td>\n",
       "      <td>ebad26</td>\n",
       "      <td>They would rub it up with soda to make the sme...</td>\n",
       "      <td>-0.548304</td>\n",
       "      <td>With one member trimming beef in a cannery, an...</td>\n",
       "      <td>Summarize the various ways the factory would u...</td>\n",
       "    </tr>\n",
       "    <tr>\n",
       "      <th>2</th>\n",
       "      <td>004e978e639e</td>\n",
       "      <td>3b9047</td>\n",
       "      <td>In Egypt, there were many occupations and soci...</td>\n",
       "      <td>3.128928</td>\n",
       "      <td>Egyptian society was structured like a pyramid...</td>\n",
       "      <td>In complete sentences, summarize the structure...</td>\n",
       "    </tr>\n",
       "    <tr>\n",
       "      <th>3</th>\n",
       "      <td>005ab0199905</td>\n",
       "      <td>3b9047</td>\n",
       "      <td>The highest class was Pharaohs these people we...</td>\n",
       "      <td>-0.210614</td>\n",
       "      <td>Egyptian society was structured like a pyramid...</td>\n",
       "      <td>In complete sentences, summarize the structure...</td>\n",
       "    </tr>\n",
       "    <tr>\n",
       "      <th>4</th>\n",
       "      <td>0070c9e7af47</td>\n",
       "      <td>814d6b</td>\n",
       "      <td>The Third Wave developed  rapidly because the ...</td>\n",
       "      <td>3.272894</td>\n",
       "      <td>Background \\r\\nThe Third Wave experiment took ...</td>\n",
       "      <td>Summarize how the Third Wave developed over su...</td>\n",
       "    </tr>\n",
       "  </tbody>\n",
       "</table>\n",
       "</div>"
      ],
      "text/plain": [
       "     student_id prompt_id                                               text  \\\n",
       "0  000e8c3c7ddb    814d6b  The third wave was an experimentto see how peo...   \n",
       "1  0020ae56ffbf    ebad26  They would rub it up with soda to make the sme...   \n",
       "2  004e978e639e    3b9047  In Egypt, there were many occupations and soci...   \n",
       "3  005ab0199905    3b9047  The highest class was Pharaohs these people we...   \n",
       "4  0070c9e7af47    814d6b  The Third Wave developed  rapidly because the ...   \n",
       "\n",
       "    content                                        prompt_text  \\\n",
       "0  0.205683  Background \\r\\nThe Third Wave experiment took ...   \n",
       "1 -0.548304  With one member trimming beef in a cannery, an...   \n",
       "2  3.128928  Egyptian society was structured like a pyramid...   \n",
       "3 -0.210614  Egyptian society was structured like a pyramid...   \n",
       "4  3.272894  Background \\r\\nThe Third Wave experiment took ...   \n",
       "\n",
       "                                     prompt_question  \n",
       "0  Summarize how the Third Wave developed over su...  \n",
       "1  Summarize the various ways the factory would u...  \n",
       "2  In complete sentences, summarize the structure...  \n",
       "3  In complete sentences, summarize the structure...  \n",
       "4  Summarize how the Third Wave developed over su...  "
      ]
     },
     "execution_count": 7,
     "metadata": {},
     "output_type": "execute_result"
    }
   ],
   "source": [
    "merged_df.head()"
   ]
  },
  {
   "cell_type": "code",
   "execution_count": 8,
   "id": "eb81e363",
   "metadata": {},
   "outputs": [],
   "source": [
    "# Découvrir d'autres caractéristiques"
   ]
  },
  {
   "cell_type": "code",
   "execution_count": 9,
   "id": "c19cd501",
   "metadata": {},
   "outputs": [],
   "source": [
    "# Ajout de nouvelles fonctions pour explorer caractéristiques\n",
    "\n",
    "def feature_engineering(df):\n",
    "    tokenizer = AutoTokenizer.from_pretrained(\"bert-base-uncased\")\n",
    "\n",
    "    # calculer la longueur de chaque réponse\n",
    "    def compte_texte_longueur(df, col, tokenizer):\n",
    "        longueur_col = df[col].apply(lambda x: len(tokenizer.encode(x)))\n",
    "        return longueur_col\n",
    "    \n",
    "    # fonction pour calculer la similarité sémantique entre une réponse et son prompt texte\n",
    "    def sim_semantique(ligne, model, prompt_embeddings):\n",
    "        prompt_vecteur = prompt_embeddings[ligne['prompt_id']]\n",
    "        reponse_vecteur = model.encode(ligne['text'], batch_size=1, show_progress_bar=False)\n",
    "        return util.cos_sim([prompt_vecteur], [reponse_vecteur]).item()\n",
    "    \n",
    "\n",
    "    def citation_count(ligne):\n",
    "        reponse = ligne['text']\n",
    "        text    = ligne['prompt_text']\n",
    "        cite_dans_rep = re.findall(r'\"([^\"]*)\"', reponse)\n",
    "        return [citation in text for citation in cite_dans_rep].count(True)\n",
    "    \n",
    "    \n",
    "    def word_ngram_chevauchement(ligne, n):\n",
    "        prompt_tokens = ligne['prompt_text'].split()\n",
    "        reponse_tokens = ligne['text'].split()\n",
    "\n",
    "        prompt_ngrams = set(ngrams(prompt_tokens, n))\n",
    "        reponse_ngrams = set(ngrams(reponse_tokens, n))\n",
    "        \n",
    "        common_ngrams = prompt_ngrams.intersection(reponse_ngrams)\n",
    "        \n",
    "        return len(common_ngrams) / len(reponse_ngrams) if len(reponse_ngrams) else 0, len(common_ngrams)\n",
    "\n",
    "    \n",
    "    # ensuite, on les exécuter\n",
    "    \n",
    "    df['reponse_longueur'] = compte_texte_longueur(df, 'text',tokenizer)\n",
    "    df['prompt_longueur'] = compte_texte_longueur(df, 'prompt_text',tokenizer)\n",
    "    df['rep/prompt_ratio'] = df['reponse_longueur'] / df['prompt_longueur']\n",
    "    \n",
    "    df['vocabulaire_taille'] = df['text'].apply(lambda x: len(set(x.split())))\n",
    "    df['unigram_overlap'] = df.apply(lambda row: len(set(row['prompt_text'].split()) & set(row['text'].split())), axis=1)\n",
    "    df['bigram_overlap']  = df.apply(lambda x: word_ngram_chevauchement(x,2)[1], axis=1 )\n",
    "    df['trigram_overlap'] = df.apply(lambda x: word_ngram_chevauchement(x,3)[1], axis=1 )\n",
    "    \n",
    "    df['citation'] = df.apply(citation_count, axis=1)    \n",
    "    df['jaccard_similarité'] = df.apply(lambda row: len(set(word_tokenize(row['prompt_text'])) & set(word_tokenize(row['text']))) / len(set(word_tokenize(row['prompt_text'])) | set(word_tokenize(row['text']))), axis=1)\n",
    "    \n",
    "    \n",
    "    device = torch.device('cuda' if torch.cuda.is_available() else 'cpu')\n",
    "    embeddings_model = SentenceTransformer('sentence-transformers/all-distilroberta-v1', device=device)\n",
    "    prompt_to_emb_dict = df.groupby('prompt_id')['prompt_text'].first().transform(lambda x: embeddings_model.encode(x, batch_size=1, show_progress_bar=False)).to_dict()\n",
    "    df['similarité_sémantique'] = df.apply(lambda row: sim_semantique(row, embeddings_model, prompt_to_emb_dict), axis=1)\n",
    "\n",
    "    return df\n"
   ]
  },
  {
   "cell_type": "code",
   "execution_count": 10,
   "id": "7b478cf2",
   "metadata": {},
   "outputs": [
    {
     "name": "stderr",
     "output_type": "stream",
     "text": [
      "Token indices sequence length is longer than the specified maximum sequence length for this model (559 > 512). Running this sequence through the model will result in indexing errors\n",
      "/Users/xiaohua/opt/anaconda3/envs/macrun/lib/python3.9/site-packages/torch/_utils.py:776: UserWarning: TypedStorage is deprecated. It will be removed in the future and UntypedStorage will be the only storage class. This should only matter to you if you are using storages directly.  To access UntypedStorage directly, use tensor.untyped_storage() instead of tensor.storage()\n",
      "  return self.fget.__get__(instance, owner)()\n",
      "huggingface/tokenizers: The current process just got forked, after parallelism has already been used. Disabling parallelism to avoid deadlocks...\n",
      "To disable this warning, you can either:\n",
      "\t- Avoid using `tokenizers` before the fork if possible\n",
      "\t- Explicitly set the environment variable TOKENIZERS_PARALLELISM=(true | false)\n",
      "/Users/xiaohua/opt/anaconda3/envs/macrun/lib/python3.9/site-packages/sentence_transformers/util.py:37: UserWarning: Creating a tensor from a list of numpy.ndarrays is extremely slow. Please consider converting the list to a single numpy.ndarray with numpy.array() before converting to a tensor. (Triggered internally at /Users/runner/work/pytorch/pytorch/pytorch/torch/csrc/utils/tensor_new.cpp:248.)\n",
      "  a = torch.tensor(a)\n"
     ]
    }
   ],
   "source": [
    "merged_df_featured = feature_engineering(merged_df)"
   ]
  },
  {
   "cell_type": "code",
   "execution_count": 11,
   "id": "25610f83",
   "metadata": {},
   "outputs": [
    {
     "data": {
      "text/html": [
       "<div>\n",
       "<style scoped>\n",
       "    .dataframe tbody tr th:only-of-type {\n",
       "        vertical-align: middle;\n",
       "    }\n",
       "\n",
       "    .dataframe tbody tr th {\n",
       "        vertical-align: top;\n",
       "    }\n",
       "\n",
       "    .dataframe thead th {\n",
       "        text-align: right;\n",
       "    }\n",
       "</style>\n",
       "<table border=\"1\" class=\"dataframe\">\n",
       "  <thead>\n",
       "    <tr style=\"text-align: right;\">\n",
       "      <th></th>\n",
       "      <th>student_id</th>\n",
       "      <th>prompt_id</th>\n",
       "      <th>text</th>\n",
       "      <th>content</th>\n",
       "      <th>prompt_text</th>\n",
       "      <th>prompt_question</th>\n",
       "      <th>reponse_longueur</th>\n",
       "      <th>prompt_longueur</th>\n",
       "      <th>rep/prompt_ratio</th>\n",
       "      <th>vocabulaire_taille</th>\n",
       "      <th>unigram_overlap</th>\n",
       "      <th>bigram_overlap</th>\n",
       "      <th>trigram_overlap</th>\n",
       "      <th>citation</th>\n",
       "      <th>jaccard_similarité</th>\n",
       "      <th>similarité_sémantique</th>\n",
       "    </tr>\n",
       "  </thead>\n",
       "  <tbody>\n",
       "    <tr>\n",
       "      <th>0</th>\n",
       "      <td>000e8c3c7ddb</td>\n",
       "      <td>814d6b</td>\n",
       "      <td>The third wave was an experimentto see how peo...</td>\n",
       "      <td>0.205683</td>\n",
       "      <td>Background \\r\\nThe Third Wave experiment took ...</td>\n",
       "      <td>Summarize how the Third Wave developed over su...</td>\n",
       "      <td>71</td>\n",
       "      <td>673</td>\n",
       "      <td>0.105498</td>\n",
       "      <td>51</td>\n",
       "      <td>21</td>\n",
       "      <td>2</td>\n",
       "      <td>0</td>\n",
       "      <td>0</td>\n",
       "      <td>0.076190</td>\n",
       "      <td>0.659943</td>\n",
       "    </tr>\n",
       "    <tr>\n",
       "      <th>1</th>\n",
       "      <td>0020ae56ffbf</td>\n",
       "      <td>ebad26</td>\n",
       "      <td>They would rub it up with soda to make the sme...</td>\n",
       "      <td>-0.548304</td>\n",
       "      <td>With one member trimming beef in a cannery, an...</td>\n",
       "      <td>Summarize the various ways the factory would u...</td>\n",
       "      <td>58</td>\n",
       "      <td>1175</td>\n",
       "      <td>0.049362</td>\n",
       "      <td>38</td>\n",
       "      <td>31</td>\n",
       "      <td>18</td>\n",
       "      <td>8</td>\n",
       "      <td>0</td>\n",
       "      <td>0.085427</td>\n",
       "      <td>0.495908</td>\n",
       "    </tr>\n",
       "    <tr>\n",
       "      <th>2</th>\n",
       "      <td>004e978e639e</td>\n",
       "      <td>3b9047</td>\n",
       "      <td>In Egypt, there were many occupations and soci...</td>\n",
       "      <td>3.128928</td>\n",
       "      <td>Egyptian society was structured like a pyramid...</td>\n",
       "      <td>In complete sentences, summarize the structure...</td>\n",
       "      <td>289</td>\n",
       "      <td>659</td>\n",
       "      <td>0.438543</td>\n",
       "      <td>149</td>\n",
       "      <td>65</td>\n",
       "      <td>30</td>\n",
       "      <td>9</td>\n",
       "      <td>2</td>\n",
       "      <td>0.211640</td>\n",
       "      <td>0.784489</td>\n",
       "    </tr>\n",
       "    <tr>\n",
       "      <th>3</th>\n",
       "      <td>005ab0199905</td>\n",
       "      <td>3b9047</td>\n",
       "      <td>The highest class was Pharaohs these people we...</td>\n",
       "      <td>-0.210614</td>\n",
       "      <td>Egyptian society was structured like a pyramid...</td>\n",
       "      <td>In complete sentences, summarize the structure...</td>\n",
       "      <td>41</td>\n",
       "      <td>659</td>\n",
       "      <td>0.062215</td>\n",
       "      <td>19</td>\n",
       "      <td>13</td>\n",
       "      <td>5</td>\n",
       "      <td>4</td>\n",
       "      <td>0</td>\n",
       "      <td>0.047468</td>\n",
       "      <td>0.575283</td>\n",
       "    </tr>\n",
       "    <tr>\n",
       "      <th>4</th>\n",
       "      <td>0070c9e7af47</td>\n",
       "      <td>814d6b</td>\n",
       "      <td>The Third Wave developed  rapidly because the ...</td>\n",
       "      <td>3.272894</td>\n",
       "      <td>Background \\r\\nThe Third Wave experiment took ...</td>\n",
       "      <td>Summarize how the Third Wave developed over su...</td>\n",
       "      <td>263</td>\n",
       "      <td>673</td>\n",
       "      <td>0.390788</td>\n",
       "      <td>138</td>\n",
       "      <td>46</td>\n",
       "      <td>20</td>\n",
       "      <td>4</td>\n",
       "      <td>4</td>\n",
       "      <td>0.142857</td>\n",
       "      <td>0.752955</td>\n",
       "    </tr>\n",
       "  </tbody>\n",
       "</table>\n",
       "</div>"
      ],
      "text/plain": [
       "     student_id prompt_id                                               text  \\\n",
       "0  000e8c3c7ddb    814d6b  The third wave was an experimentto see how peo...   \n",
       "1  0020ae56ffbf    ebad26  They would rub it up with soda to make the sme...   \n",
       "2  004e978e639e    3b9047  In Egypt, there were many occupations and soci...   \n",
       "3  005ab0199905    3b9047  The highest class was Pharaohs these people we...   \n",
       "4  0070c9e7af47    814d6b  The Third Wave developed  rapidly because the ...   \n",
       "\n",
       "    content                                        prompt_text  \\\n",
       "0  0.205683  Background \\r\\nThe Third Wave experiment took ...   \n",
       "1 -0.548304  With one member trimming beef in a cannery, an...   \n",
       "2  3.128928  Egyptian society was structured like a pyramid...   \n",
       "3 -0.210614  Egyptian society was structured like a pyramid...   \n",
       "4  3.272894  Background \\r\\nThe Third Wave experiment took ...   \n",
       "\n",
       "                                     prompt_question  reponse_longueur  \\\n",
       "0  Summarize how the Third Wave developed over su...                71   \n",
       "1  Summarize the various ways the factory would u...                58   \n",
       "2  In complete sentences, summarize the structure...               289   \n",
       "3  In complete sentences, summarize the structure...                41   \n",
       "4  Summarize how the Third Wave developed over su...               263   \n",
       "\n",
       "   prompt_longueur  rep/prompt_ratio  vocabulaire_taille  unigram_overlap  \\\n",
       "0              673          0.105498                  51               21   \n",
       "1             1175          0.049362                  38               31   \n",
       "2              659          0.438543                 149               65   \n",
       "3              659          0.062215                  19               13   \n",
       "4              673          0.390788                 138               46   \n",
       "\n",
       "   bigram_overlap  trigram_overlap  citation  jaccard_similarité  \\\n",
       "0               2                0         0            0.076190   \n",
       "1              18                8         0            0.085427   \n",
       "2              30                9         2            0.211640   \n",
       "3               5                4         0            0.047468   \n",
       "4              20                4         4            0.142857   \n",
       "\n",
       "   similarité_sémantique  \n",
       "0               0.659943  \n",
       "1               0.495908  \n",
       "2               0.784489  \n",
       "3               0.575283  \n",
       "4               0.752955  "
      ]
     },
     "execution_count": 11,
     "metadata": {},
     "output_type": "execute_result"
    }
   ],
   "source": [
    "merged_df_featured.head()"
   ]
  },
  {
   "cell_type": "code",
   "execution_count": 12,
   "id": "3db377f6",
   "metadata": {},
   "outputs": [],
   "source": [
    "# garder en csv\n",
    "merged_df_featured.to_csv('data/merged_df_featured.csv', index=False)\n"
   ]
  },
  {
   "cell_type": "markdown",
   "id": "ab6d5f13",
   "metadata": {},
   "source": [
    "---"
   ]
  },
  {
   "cell_type": "markdown",
   "id": "c44f3a38",
   "metadata": {},
   "source": [
    "## 3️⃣ Étudier les corrélations des features"
   ]
  },
  {
   "cell_type": "code",
   "execution_count": 13,
   "id": "e3de23fc",
   "metadata": {},
   "outputs": [
    {
     "data": {
      "image/png": "[encoded data removed]",
      "text/plain": [
       "<Figure size 800x400 with 2 Axes>"
      ]
     },
     "metadata": {},
     "output_type": "display_data"
    },
    {
     "data": {
      "text/plain": [
       "(0.7830246843816084, 0.806766673766287)"
      ]
     },
     "execution_count": 13,
     "metadata": {},
     "output_type": "execute_result"
    }
   ],
   "source": [
    "# Une première visualisation\n",
    "\n",
    "\n",
    "# Configuration de la figure et des axes pour deux sous-graphiques\n",
    "fig, (ax1, ax2) = plt.subplots(1, 2, figsize=(8,4), dpi=100)\n",
    "\n",
    "# Graphique pour le score et la longueur de réponse\n",
    "ax1.scatter(merged_df_featured['reponse_longueur'], merged_df_featured['content'], alpha=0.5, color='blue')\n",
    "ax1.set_title('S_content vs reponse_longueur')\n",
    "ax1.set_xlabel('reponse_longueur')\n",
    "ax1.set_ylabel('Content Score')\n",
    "\n",
    "# Graphique pour le score et le nombre de mots uniques\n",
    "ax2.scatter(merged_df_featured['vocabulaire_taille'], merged_df_featured['content'], alpha=0.5, color='blue')\n",
    "ax2.set_title('S_content vs vocabulaire_longueur')\n",
    "ax2.set_xlabel('vocabulaire_longueur')\n",
    "ax2.set_ylabel('Content Score')\n",
    "\n",
    "\n",
    "plt.tight_layout()\n",
    "plt.show()\n",
    "\n",
    "# Calcul de la corrélation\n",
    "word_count_content_corr = merged_df_featured['reponse_longueur'].corr(merged_df_featured['content'])\n",
    "vocabulary_richness_corr = merged_df_featured['vocabulaire_taille'].corr(merged_df_featured['content'])\n",
    "\n",
    "\n",
    "(word_count_content_corr, vocabulary_richness_corr)"
   ]
  },
  {
   "cell_type": "markdown",
   "id": "74eb6513",
   "metadata": {},
   "source": [
    "1. Une corrélation positive évidente\n",
    "2. La quantité de mots uniques utilisés a un impact plus important sur le score de contenu que la simple longueur du texte"
   ]
  },
  {
   "cell_type": "markdown",
   "id": "a7640eb7",
   "metadata": {},
   "source": []
  },
  {
   "cell_type": "code",
   "execution_count": 14,
   "id": "0a08927a",
   "metadata": {},
   "outputs": [
    {
     "data": {
      "image/png": "[encoded data removed]",
      "text/plain": [
       "<Figure size 800x800 with 2 Axes>"
      ]
     },
     "metadata": {},
     "output_type": "display_data"
    }
   ],
   "source": [
    "import seaborn as sns\n",
    "import matplotlib.pyplot as plt\n",
    "selected_vars = ['content', 'reponse_longueur', 'prompt_longueur', 'rep/prompt_ratio', 'vocabulaire_taille', 'unigram_overlap', 'citation', 'bigram_overlap', 'trigram_overlap', 'jaccard_similarité']\n",
    "\n",
    "subset_df = merged_df_featured[selected_vars]\n",
    "\n",
    "# Calculer le correlation matrice\n",
    "correlation_matrice = subset_df.corr()\n",
    "\n",
    "plt.figure(figsize=(8, 8))\n",
    "\n",
    "sns.heatmap(correlation_matrice, annot=True, cmap='coolwarm', center=0)\n",
    "plt.title(\"Correlation Matrice des variables sélectionnées\")\n",
    "plt.show()"
   ]
  },
  {
   "cell_type": "markdown",
   "id": "64068086",
   "metadata": {},
   "source": [
    "---"
   ]
  },
  {
   "cell_type": "markdown",
   "id": "b68cafb9",
   "metadata": {},
   "source": [
    "## 4️⃣ Définir le R et R*"
   ]
  },
  {
   "cell_type": "code",
   "execution_count": 15,
   "id": "2c3f69b4",
   "metadata": {},
   "outputs": [
    {
     "data": {
      "image/png": "[encoded data removed]",
      "text/plain": [
       "<Figure size 800x400 with 2 Axes>"
      ]
     },
     "metadata": {},
     "output_type": "display_data"
    }
   ],
   "source": [
    "# un peu de visualisation pour la distribution des data\n",
    "import matplotlib.pyplot as plt\n",
    "\n",
    "fig, ax = plt.subplots(1, 2, figsize=(8, 4))\n",
    "\n",
    "# Plotting histograms\n",
    "ax[0].hist(reponses_train_df['content'], bins=30, color='green', edgecolor='black')\n",
    "ax[0].set_title('Distribution: Score')\n",
    "ax[0].set_xlabel('Score')\n",
    "ax[0].set_ylabel('Freq')\n",
    "\n",
    "ax[1].hist(merged_df_featured['reponse_longueur'], bins=30, color='blue', edgecolor='black')\n",
    "ax[1].set_title('Distribution: Longueur de réponse')\n",
    "ax[1].set_xlabel('Longueur')\n",
    "ax[1].set_ylabel('Freq')\n",
    "\n",
    "# Adjusting the layout to prevent overlap\n",
    "plt.tight_layout()\n",
    "\n",
    "# Displaying the plots\n",
    "plt.show()"
   ]
  },
  {
   "cell_type": "code",
   "execution_count": null,
   "id": "a08e859e",
   "metadata": {},
   "outputs": [],
   "source": []
  },
  {
   "cell_type": "markdown",
   "id": "6e6ee4d4",
   "metadata": {},
   "source": [
    "**Distribution du score:** légèrement asymétrique à gauche, mais globalement une distribution normale avec un pic légèrement inférieur à zéro.\n",
    "\n",
    "**Distribution du nombre de mots dans les résumés:** Fortement asymétrique. La plupart des résumés contiennent un nombre relativement faible de mots."
   ]
  },
  {
   "cell_type": "markdown",
   "id": "3263f41a",
   "metadata": {},
   "source": [
    "---\n",
    "**Pour évaluer la qualité d'une réponse, nous pouvons diviser l'ensemble de données comme suit :**\n",
    "\n",
    "- Réponses de qualité inférieure :             n <= -1\n",
    "- Réponses moyennes          :              -1 < n < 1\n",
    "- Bonnes réponses         :                1 <= n <= 3\n",
    "- Réponses excellentes      :                    n > 3\n"
   ]
  },
  {
   "cell_type": "code",
   "execution_count": 16,
   "id": "f88c82e3",
   "metadata": {},
   "outputs": [],
   "source": [
    "def categoriser_score(n):\n",
    "    if n <= 0:\n",
    "        return 'mauvais'\n",
    "    elif n <= 1:\n",
    "        return 'moyen'\n",
    "    elif n <= 3:\n",
    "        return 'bon'\n",
    "    else: # n > 3\n",
    "        return 'excellent'\n",
    "\n",
    "# Appliquer cette fonction et créer une nouvelle colonne 'quality_category'\n",
    "merged_df_featured['cat'] = merged_df_featured['content'].apply(categoriser_score)\n",
    "merged_df_featured.to_csv('data/merged_df_featured_cat.csv', index=False)\n"
   ]
  },
  {
   "cell_type": "code",
   "execution_count": 19,
   "id": "e29d7c07",
   "metadata": {},
   "outputs": [
    {
     "data": {
      "text/html": [
       "<div>\n",
       "<style scoped>\n",
       "    .dataframe tbody tr th:only-of-type {\n",
       "        vertical-align: middle;\n",
       "    }\n",
       "\n",
       "    .dataframe tbody tr th {\n",
       "        vertical-align: top;\n",
       "    }\n",
       "\n",
       "    .dataframe thead th {\n",
       "        text-align: right;\n",
       "    }\n",
       "</style>\n",
       "<table border=\"1\" class=\"dataframe\">\n",
       "  <thead>\n",
       "    <tr style=\"text-align: right;\">\n",
       "      <th></th>\n",
       "      <th>student_id</th>\n",
       "      <th>prompt_id</th>\n",
       "      <th>text</th>\n",
       "      <th>content</th>\n",
       "      <th>prompt_text</th>\n",
       "      <th>prompt_question</th>\n",
       "      <th>reponse_longueur</th>\n",
       "      <th>prompt_longueur</th>\n",
       "      <th>rep/prompt_ratio</th>\n",
       "      <th>vocabulaire_taille</th>\n",
       "      <th>unigram_overlap</th>\n",
       "      <th>bigram_overlap</th>\n",
       "      <th>trigram_overlap</th>\n",
       "      <th>citation</th>\n",
       "      <th>jaccard_similarité</th>\n",
       "      <th>similarité_sémantique</th>\n",
       "      <th>cat</th>\n",
       "    </tr>\n",
       "  </thead>\n",
       "  <tbody>\n",
       "    <tr>\n",
       "      <th>0</th>\n",
       "      <td>000e8c3c7ddb</td>\n",
       "      <td>814d6b</td>\n",
       "      <td>The third wave was an experimentto see how peo...</td>\n",
       "      <td>0.205683</td>\n",
       "      <td>Background \\r\\nThe Third Wave experiment took ...</td>\n",
       "      <td>Summarize how the Third Wave developed over su...</td>\n",
       "      <td>71</td>\n",
       "      <td>673</td>\n",
       "      <td>0.105498</td>\n",
       "      <td>51</td>\n",
       "      <td>21</td>\n",
       "      <td>2</td>\n",
       "      <td>0</td>\n",
       "      <td>0</td>\n",
       "      <td>0.076190</td>\n",
       "      <td>0.659943</td>\n",
       "      <td>moyen</td>\n",
       "    </tr>\n",
       "    <tr>\n",
       "      <th>1</th>\n",
       "      <td>0020ae56ffbf</td>\n",
       "      <td>ebad26</td>\n",
       "      <td>They would rub it up with soda to make the sme...</td>\n",
       "      <td>-0.548304</td>\n",
       "      <td>With one member trimming beef in a cannery, an...</td>\n",
       "      <td>Summarize the various ways the factory would u...</td>\n",
       "      <td>58</td>\n",
       "      <td>1175</td>\n",
       "      <td>0.049362</td>\n",
       "      <td>38</td>\n",
       "      <td>31</td>\n",
       "      <td>18</td>\n",
       "      <td>8</td>\n",
       "      <td>0</td>\n",
       "      <td>0.085427</td>\n",
       "      <td>0.495908</td>\n",
       "      <td>mauvais</td>\n",
       "    </tr>\n",
       "    <tr>\n",
       "      <th>2</th>\n",
       "      <td>004e978e639e</td>\n",
       "      <td>3b9047</td>\n",
       "      <td>In Egypt, there were many occupations and soci...</td>\n",
       "      <td>3.128928</td>\n",
       "      <td>Egyptian society was structured like a pyramid...</td>\n",
       "      <td>In complete sentences, summarize the structure...</td>\n",
       "      <td>289</td>\n",
       "      <td>659</td>\n",
       "      <td>0.438543</td>\n",
       "      <td>149</td>\n",
       "      <td>65</td>\n",
       "      <td>30</td>\n",
       "      <td>9</td>\n",
       "      <td>2</td>\n",
       "      <td>0.211640</td>\n",
       "      <td>0.784489</td>\n",
       "      <td>excellent</td>\n",
       "    </tr>\n",
       "    <tr>\n",
       "      <th>3</th>\n",
       "      <td>005ab0199905</td>\n",
       "      <td>3b9047</td>\n",
       "      <td>The highest class was Pharaohs these people we...</td>\n",
       "      <td>-0.210614</td>\n",
       "      <td>Egyptian society was structured like a pyramid...</td>\n",
       "      <td>In complete sentences, summarize the structure...</td>\n",
       "      <td>41</td>\n",
       "      <td>659</td>\n",
       "      <td>0.062215</td>\n",
       "      <td>19</td>\n",
       "      <td>13</td>\n",
       "      <td>5</td>\n",
       "      <td>4</td>\n",
       "      <td>0</td>\n",
       "      <td>0.047468</td>\n",
       "      <td>0.575283</td>\n",
       "      <td>mauvais</td>\n",
       "    </tr>\n",
       "    <tr>\n",
       "      <th>4</th>\n",
       "      <td>0070c9e7af47</td>\n",
       "      <td>814d6b</td>\n",
       "      <td>The Third Wave developed  rapidly because the ...</td>\n",
       "      <td>3.272894</td>\n",
       "      <td>Background \\r\\nThe Third Wave experiment took ...</td>\n",
       "      <td>Summarize how the Third Wave developed over su...</td>\n",
       "      <td>263</td>\n",
       "      <td>673</td>\n",
       "      <td>0.390788</td>\n",
       "      <td>138</td>\n",
       "      <td>46</td>\n",
       "      <td>20</td>\n",
       "      <td>4</td>\n",
       "      <td>4</td>\n",
       "      <td>0.142857</td>\n",
       "      <td>0.752955</td>\n",
       "      <td>excellent</td>\n",
       "    </tr>\n",
       "  </tbody>\n",
       "</table>\n",
       "</div>"
      ],
      "text/plain": [
       "     student_id prompt_id                                               text  \\\n",
       "0  000e8c3c7ddb    814d6b  The third wave was an experimentto see how peo...   \n",
       "1  0020ae56ffbf    ebad26  They would rub it up with soda to make the sme...   \n",
       "2  004e978e639e    3b9047  In Egypt, there were many occupations and soci...   \n",
       "3  005ab0199905    3b9047  The highest class was Pharaohs these people we...   \n",
       "4  0070c9e7af47    814d6b  The Third Wave developed  rapidly because the ...   \n",
       "\n",
       "    content                                        prompt_text  \\\n",
       "0  0.205683  Background \\r\\nThe Third Wave experiment took ...   \n",
       "1 -0.548304  With one member trimming beef in a cannery, an...   \n",
       "2  3.128928  Egyptian society was structured like a pyramid...   \n",
       "3 -0.210614  Egyptian society was structured like a pyramid...   \n",
       "4  3.272894  Background \\r\\nThe Third Wave experiment took ...   \n",
       "\n",
       "                                     prompt_question  reponse_longueur  \\\n",
       "0  Summarize how the Third Wave developed over su...                71   \n",
       "1  Summarize the various ways the factory would u...                58   \n",
       "2  In complete sentences, summarize the structure...               289   \n",
       "3  In complete sentences, summarize the structure...                41   \n",
       "4  Summarize how the Third Wave developed over su...               263   \n",
       "\n",
       "   prompt_longueur  rep/prompt_ratio  vocabulaire_taille  unigram_overlap  \\\n",
       "0              673          0.105498                  51               21   \n",
       "1             1175          0.049362                  38               31   \n",
       "2              659          0.438543                 149               65   \n",
       "3              659          0.062215                  19               13   \n",
       "4              673          0.390788                 138               46   \n",
       "\n",
       "   bigram_overlap  trigram_overlap  citation  jaccard_similarité  \\\n",
       "0               2                0         0            0.076190   \n",
       "1              18                8         0            0.085427   \n",
       "2              30                9         2            0.211640   \n",
       "3               5                4         0            0.047468   \n",
       "4              20                4         4            0.142857   \n",
       "\n",
       "   similarité_sémantique        cat  \n",
       "0               0.659943      moyen  \n",
       "1               0.495908    mauvais  \n",
       "2               0.784489  excellent  \n",
       "3               0.575283    mauvais  \n",
       "4               0.752955  excellent  "
      ]
     },
     "execution_count": 19,
     "metadata": {},
     "output_type": "execute_result"
    }
   ],
   "source": [
    "merged_df_featured.head()"
   ]
  },
  {
   "cell_type": "code",
   "execution_count": 21,
   "id": "f53752cf",
   "metadata": {},
   "outputs": [
    {
     "data": {
      "text/plain": [
       "cat\n",
       "mauvais      4064\n",
       "moyen        1948\n",
       "bon          1086\n",
       "excellent      67\n",
       "Name: count, dtype: int64"
      ]
     },
     "execution_count": 21,
     "metadata": {},
     "output_type": "execute_result"
    }
   ],
   "source": [
    "# Comptes de chaque cat\n",
    "cat_stats = merged_df_featured['cat'].value_counts()\n",
    "cat_stats"
   ]
  },
  {
   "cell_type": "code",
   "execution_count": 23,
   "id": "53ecbaf8",
   "metadata": {},
   "outputs": [],
   "source": [
    "# Ensuite, extraire!\n",
    "\n",
    "# On va extraire une réponse provenant des catégories \"bon\" ou \"excellent\"\n",
    "# Puis on extrait une réponse d'un élève choisi au hasard, mais sur le même prompt.\n",
    "\n",
    "\n",
    "# Sélection aléatoire un enregistrement parmi les 'bon' ou les 'excellent'\n",
    "good_answers_df = merged_df_featured[merged_df_featured['cat'].isin(['bon', 'excellent'])]\n",
    "r_star = good_answers_df.sample(n=1)\n",
    "\n",
    "# En fonction du prompt_id de la réponse sélectionnée, trouver une autre réponse\n",
    "r_random = merged_df_featured[merged_df_featured['prompt_id'] == r_star['prompt_id'].values[0]].drop(r_star.index).sample(n=1)\n",
    "\n",
    "\n",
    "# # Suppression de ces deux enregistrements du DataFrame original\n",
    "# merged_df_featured = merged_df_featured.drop(r_star.index)\n",
    "# merged_df_featured = merged_df_featured.drop(r_random.index)"
   ]
  },
  {
   "cell_type": "markdown",
   "id": "1e938069",
   "metadata": {},
   "source": [
    "---"
   ]
  },
  {
   "cell_type": "markdown",
   "id": "658d02c7",
   "metadata": {},
   "source": [
    "## 5️⃣ Comparer les deux réponses"
   ]
  },
  {
   "cell_type": "code",
   "execution_count": 24,
   "id": "2087a4eb",
   "metadata": {},
   "outputs": [
    {
     "data": {
      "text/html": [
       "<div>\n",
       "<style scoped>\n",
       "    .dataframe tbody tr th:only-of-type {\n",
       "        vertical-align: middle;\n",
       "    }\n",
       "\n",
       "    .dataframe tbody tr th {\n",
       "        vertical-align: top;\n",
       "    }\n",
       "\n",
       "    .dataframe thead th {\n",
       "        text-align: right;\n",
       "    }\n",
       "</style>\n",
       "<table border=\"1\" class=\"dataframe\">\n",
       "  <thead>\n",
       "    <tr style=\"text-align: right;\">\n",
       "      <th></th>\n",
       "      <th>student_id</th>\n",
       "      <th>prompt_id</th>\n",
       "      <th>text</th>\n",
       "      <th>content</th>\n",
       "      <th>prompt_text</th>\n",
       "      <th>prompt_question</th>\n",
       "      <th>reponse_longueur</th>\n",
       "      <th>prompt_longueur</th>\n",
       "      <th>rep/prompt_ratio</th>\n",
       "      <th>vocabulaire_taille</th>\n",
       "      <th>unigram_overlap</th>\n",
       "      <th>bigram_overlap</th>\n",
       "      <th>trigram_overlap</th>\n",
       "      <th>citation</th>\n",
       "      <th>jaccard_similarité</th>\n",
       "      <th>similarité_sémantique</th>\n",
       "      <th>cat</th>\n",
       "    </tr>\n",
       "  </thead>\n",
       "  <tbody>\n",
       "    <tr>\n",
       "      <th>3969</th>\n",
       "      <td>8c30d85ca17f</td>\n",
       "      <td>814d6b</td>\n",
       "      <td>The third wave was an experiment that Ron Jone...</td>\n",
       "      <td>2.507522</td>\n",
       "      <td>Background \\r\\nThe Third Wave experiment took ...</td>\n",
       "      <td>Summarize how the Third Wave developed over su...</td>\n",
       "      <td>293</td>\n",
       "      <td>673</td>\n",
       "      <td>0.435364</td>\n",
       "      <td>146</td>\n",
       "      <td>92</td>\n",
       "      <td>90</td>\n",
       "      <td>75</td>\n",
       "      <td>1</td>\n",
       "      <td>0.299094</td>\n",
       "      <td>0.776892</td>\n",
       "      <td>bon</td>\n",
       "    </tr>\n",
       "  </tbody>\n",
       "</table>\n",
       "</div>"
      ],
      "text/plain": [
       "        student_id prompt_id  \\\n",
       "3969  8c30d85ca17f    814d6b   \n",
       "\n",
       "                                                   text   content  \\\n",
       "3969  The third wave was an experiment that Ron Jone...  2.507522   \n",
       "\n",
       "                                            prompt_text  \\\n",
       "3969  Background \\r\\nThe Third Wave experiment took ...   \n",
       "\n",
       "                                        prompt_question  reponse_longueur  \\\n",
       "3969  Summarize how the Third Wave developed over su...               293   \n",
       "\n",
       "      prompt_longueur  rep/prompt_ratio  vocabulaire_taille  unigram_overlap  \\\n",
       "3969              673          0.435364                 146               92   \n",
       "\n",
       "      bigram_overlap  trigram_overlap  citation  jaccard_similarité  \\\n",
       "3969              90               75         1            0.299094   \n",
       "\n",
       "      similarité_sémantique  cat  \n",
       "3969               0.776892  bon  "
      ]
     },
     "execution_count": 24,
     "metadata": {},
     "output_type": "execute_result"
    }
   ],
   "source": [
    "# Affichage des résultats\n",
    "r_star"
   ]
  },
  {
   "cell_type": "code",
   "execution_count": 25,
   "id": "d74f167f",
   "metadata": {},
   "outputs": [
    {
     "data": {
      "text/html": [
       "<div>\n",
       "<style scoped>\n",
       "    .dataframe tbody tr th:only-of-type {\n",
       "        vertical-align: middle;\n",
       "    }\n",
       "\n",
       "    .dataframe tbody tr th {\n",
       "        vertical-align: top;\n",
       "    }\n",
       "\n",
       "    .dataframe thead th {\n",
       "        text-align: right;\n",
       "    }\n",
       "</style>\n",
       "<table border=\"1\" class=\"dataframe\">\n",
       "  <thead>\n",
       "    <tr style=\"text-align: right;\">\n",
       "      <th></th>\n",
       "      <th>student_id</th>\n",
       "      <th>prompt_id</th>\n",
       "      <th>text</th>\n",
       "      <th>content</th>\n",
       "      <th>prompt_text</th>\n",
       "      <th>prompt_question</th>\n",
       "      <th>reponse_longueur</th>\n",
       "      <th>prompt_longueur</th>\n",
       "      <th>rep/prompt_ratio</th>\n",
       "      <th>vocabulaire_taille</th>\n",
       "      <th>unigram_overlap</th>\n",
       "      <th>bigram_overlap</th>\n",
       "      <th>trigram_overlap</th>\n",
       "      <th>citation</th>\n",
       "      <th>jaccard_similarité</th>\n",
       "      <th>similarité_sémantique</th>\n",
       "      <th>cat</th>\n",
       "    </tr>\n",
       "  </thead>\n",
       "  <tbody>\n",
       "    <tr>\n",
       "      <th>885</th>\n",
       "      <td>1fcfc386acd8</td>\n",
       "      <td>814d6b</td>\n",
       "      <td>Once he gave control to the kids they toke it ...</td>\n",
       "      <td>-0.687288</td>\n",
       "      <td>Background \\r\\nThe Third Wave experiment took ...</td>\n",
       "      <td>Summarize how the Third Wave developed over su...</td>\n",
       "      <td>33</td>\n",
       "      <td>673</td>\n",
       "      <td>0.049034</td>\n",
       "      <td>24</td>\n",
       "      <td>10</td>\n",
       "      <td>2</td>\n",
       "      <td>0</td>\n",
       "      <td>0</td>\n",
       "      <td>0.040134</td>\n",
       "      <td>0.262403</td>\n",
       "      <td>mauvais</td>\n",
       "    </tr>\n",
       "  </tbody>\n",
       "</table>\n",
       "</div>"
      ],
      "text/plain": [
       "       student_id prompt_id  \\\n",
       "885  1fcfc386acd8    814d6b   \n",
       "\n",
       "                                                  text   content  \\\n",
       "885  Once he gave control to the kids they toke it ... -0.687288   \n",
       "\n",
       "                                           prompt_text  \\\n",
       "885  Background \\r\\nThe Third Wave experiment took ...   \n",
       "\n",
       "                                       prompt_question  reponse_longueur  \\\n",
       "885  Summarize how the Third Wave developed over su...                33   \n",
       "\n",
       "     prompt_longueur  rep/prompt_ratio  vocabulaire_taille  unigram_overlap  \\\n",
       "885              673          0.049034                  24               10   \n",
       "\n",
       "     bigram_overlap  trigram_overlap  citation  jaccard_similarité  \\\n",
       "885               2                0         0            0.040134   \n",
       "\n",
       "     similarité_sémantique      cat  \n",
       "885               0.262403  mauvais  "
      ]
     },
     "execution_count": 25,
     "metadata": {},
     "output_type": "execute_result"
    }
   ],
   "source": [
    "r_random"
   ]
  },
  {
   "cell_type": "code",
   "execution_count": 26,
   "id": "0660554f",
   "metadata": {},
   "outputs": [],
   "source": [
    "# feature_extrait + similarite_cosinus\n",
    "def extract_features_features(df):\n",
    "    feature_columns = ['reponse_longueur', 'rep/prompt_ratio', 'vocabulaire_taille', 'unigram_overlap', 'bigram_overlap','trigram_overlap','citation','jaccard_similarité','similarité_sémantique']\n",
    "    feature_data = df[feature_columns]\n",
    "    return feature_data\n",
    "    \n",
    "def normalization(feature_data):\n",
    "    scaler = StandardScaler()\n",
    "    scaled_features = scaler.fit_transform(feature_data)\n",
    "    return scaled_features\n",
    "\n",
    "features = extract_features_features(merged_df_featured)\n",
    "features_normalise = normalization(features)\n"
   ]
  },
  {
   "cell_type": "code",
   "execution_count": 27,
   "id": "fe9b222d",
   "metadata": {},
   "outputs": [
    {
     "data": {
      "text/html": [
       "<div>\n",
       "<style scoped>\n",
       "    .dataframe tbody tr th:only-of-type {\n",
       "        vertical-align: middle;\n",
       "    }\n",
       "\n",
       "    .dataframe tbody tr th {\n",
       "        vertical-align: top;\n",
       "    }\n",
       "\n",
       "    .dataframe thead th {\n",
       "        text-align: right;\n",
       "    }\n",
       "</style>\n",
       "<table border=\"1\" class=\"dataframe\">\n",
       "  <thead>\n",
       "    <tr style=\"text-align: right;\">\n",
       "      <th>student_id</th>\n",
       "      <th>000e8c3c7ddb</th>\n",
       "      <th>0020ae56ffbf</th>\n",
       "      <th>004e978e639e</th>\n",
       "      <th>005ab0199905</th>\n",
       "      <th>0070c9e7af47</th>\n",
       "      <th>0071d51dab6d</th>\n",
       "      <th>0072b649a88c</th>\n",
       "      <th>00746c7c79c3</th>\n",
       "      <th>00791789cc1f</th>\n",
       "      <th>0086ef22de8f</th>\n",
       "      <th>...</th>\n",
       "      <th>ff53b94f7ce0</th>\n",
       "      <th>ff5b8d659ca6</th>\n",
       "      <th>ff5e9e6068da</th>\n",
       "      <th>ff66def9f97c</th>\n",
       "      <th>ff78813d4f7b</th>\n",
       "      <th>ff7c7e70df07</th>\n",
       "      <th>ffc34d056498</th>\n",
       "      <th>ffd1576d2e1b</th>\n",
       "      <th>ffe4a98093b2</th>\n",
       "      <th>fffbccfd8a08</th>\n",
       "    </tr>\n",
       "    <tr>\n",
       "      <th>student_id</th>\n",
       "      <th></th>\n",
       "      <th></th>\n",
       "      <th></th>\n",
       "      <th></th>\n",
       "      <th></th>\n",
       "      <th></th>\n",
       "      <th></th>\n",
       "      <th></th>\n",
       "      <th></th>\n",
       "      <th></th>\n",
       "      <th></th>\n",
       "      <th></th>\n",
       "      <th></th>\n",
       "      <th></th>\n",
       "      <th></th>\n",
       "      <th></th>\n",
       "      <th></th>\n",
       "      <th></th>\n",
       "      <th></th>\n",
       "      <th></th>\n",
       "      <th></th>\n",
       "    </tr>\n",
       "  </thead>\n",
       "  <tbody>\n",
       "    <tr>\n",
       "      <th>000e8c3c7ddb</th>\n",
       "      <td>1.000000</td>\n",
       "      <td>0.258301</td>\n",
       "      <td>-0.335868</td>\n",
       "      <td>0.708100</td>\n",
       "      <td>-0.267739</td>\n",
       "      <td>0.661757</td>\n",
       "      <td>0.766215</td>\n",
       "      <td>0.447414</td>\n",
       "      <td>0.410018</td>\n",
       "      <td>0.729418</td>\n",
       "      <td>...</td>\n",
       "      <td>-0.949879</td>\n",
       "      <td>-0.423251</td>\n",
       "      <td>0.786972</td>\n",
       "      <td>0.550805</td>\n",
       "      <td>-0.146959</td>\n",
       "      <td>-0.377198</td>\n",
       "      <td>0.341692</td>\n",
       "      <td>0.897721</td>\n",
       "      <td>0.622286</td>\n",
       "      <td>-0.447499</td>\n",
       "    </tr>\n",
       "    <tr>\n",
       "      <th>0020ae56ffbf</th>\n",
       "      <td>0.258301</td>\n",
       "      <td>1.000000</td>\n",
       "      <td>-0.897235</td>\n",
       "      <td>0.724503</td>\n",
       "      <td>-0.798580</td>\n",
       "      <td>0.818707</td>\n",
       "      <td>0.364231</td>\n",
       "      <td>0.907894</td>\n",
       "      <td>0.911107</td>\n",
       "      <td>0.757809</td>\n",
       "      <td>...</td>\n",
       "      <td>-0.253993</td>\n",
       "      <td>-0.932159</td>\n",
       "      <td>0.600190</td>\n",
       "      <td>-0.252404</td>\n",
       "      <td>-0.495881</td>\n",
       "      <td>0.082465</td>\n",
       "      <td>0.825228</td>\n",
       "      <td>0.548295</td>\n",
       "      <td>0.789763</td>\n",
       "      <td>-0.372859</td>\n",
       "    </tr>\n",
       "    <tr>\n",
       "      <th>004e978e639e</th>\n",
       "      <td>-0.335868</td>\n",
       "      <td>-0.897235</td>\n",
       "      <td>1.000000</td>\n",
       "      <td>-0.832465</td>\n",
       "      <td>0.894785</td>\n",
       "      <td>-0.810627</td>\n",
       "      <td>-0.232261</td>\n",
       "      <td>-0.877658</td>\n",
       "      <td>-0.814302</td>\n",
       "      <td>-0.828908</td>\n",
       "      <td>...</td>\n",
       "      <td>0.393991</td>\n",
       "      <td>0.925585</td>\n",
       "      <td>-0.792976</td>\n",
       "      <td>0.325044</td>\n",
       "      <td>0.487834</td>\n",
       "      <td>-0.153964</td>\n",
       "      <td>-0.713581</td>\n",
       "      <td>-0.585085</td>\n",
       "      <td>-0.688382</td>\n",
       "      <td>0.564824</td>\n",
       "    </tr>\n",
       "    <tr>\n",
       "      <th>005ab0199905</th>\n",
       "      <td>0.708100</td>\n",
       "      <td>0.724503</td>\n",
       "      <td>-0.832465</td>\n",
       "      <td>1.000000</td>\n",
       "      <td>-0.632883</td>\n",
       "      <td>0.946628</td>\n",
       "      <td>0.590524</td>\n",
       "      <td>0.875134</td>\n",
       "      <td>0.800826</td>\n",
       "      <td>0.979815</td>\n",
       "      <td>...</td>\n",
       "      <td>-0.737773</td>\n",
       "      <td>-0.875095</td>\n",
       "      <td>0.941406</td>\n",
       "      <td>0.096317</td>\n",
       "      <td>-0.228785</td>\n",
       "      <td>0.018824</td>\n",
       "      <td>0.760731</td>\n",
       "      <td>0.904334</td>\n",
       "      <td>0.828342</td>\n",
       "      <td>-0.512281</td>\n",
       "    </tr>\n",
       "    <tr>\n",
       "      <th>0070c9e7af47</th>\n",
       "      <td>-0.267739</td>\n",
       "      <td>-0.798580</td>\n",
       "      <td>0.894785</td>\n",
       "      <td>-0.632883</td>\n",
       "      <td>1.000000</td>\n",
       "      <td>-0.601320</td>\n",
       "      <td>-0.207727</td>\n",
       "      <td>-0.692194</td>\n",
       "      <td>-0.711773</td>\n",
       "      <td>-0.642367</td>\n",
       "      <td>...</td>\n",
       "      <td>0.381345</td>\n",
       "      <td>0.762608</td>\n",
       "      <td>-0.678570</td>\n",
       "      <td>0.185917</td>\n",
       "      <td>0.784856</td>\n",
       "      <td>0.189939</td>\n",
       "      <td>-0.548980</td>\n",
       "      <td>-0.439657</td>\n",
       "      <td>-0.556731</td>\n",
       "      <td>0.782219</td>\n",
       "    </tr>\n",
       "  </tbody>\n",
       "</table>\n",
       "<p>5 rows × 7165 columns</p>\n",
       "</div>"
      ],
      "text/plain": [
       "student_id    000e8c3c7ddb  0020ae56ffbf  004e978e639e  005ab0199905  \\\n",
       "student_id                                                             \n",
       "000e8c3c7ddb      1.000000      0.258301     -0.335868      0.708100   \n",
       "0020ae56ffbf      0.258301      1.000000     -0.897235      0.724503   \n",
       "004e978e639e     -0.335868     -0.897235      1.000000     -0.832465   \n",
       "005ab0199905      0.708100      0.724503     -0.832465      1.000000   \n",
       "0070c9e7af47     -0.267739     -0.798580      0.894785     -0.632883   \n",
       "\n",
       "student_id    0070c9e7af47  0071d51dab6d  0072b649a88c  00746c7c79c3  \\\n",
       "student_id                                                             \n",
       "000e8c3c7ddb     -0.267739      0.661757      0.766215      0.447414   \n",
       "0020ae56ffbf     -0.798580      0.818707      0.364231      0.907894   \n",
       "004e978e639e      0.894785     -0.810627     -0.232261     -0.877658   \n",
       "005ab0199905     -0.632883      0.946628      0.590524      0.875134   \n",
       "0070c9e7af47      1.000000     -0.601320     -0.207727     -0.692194   \n",
       "\n",
       "student_id    00791789cc1f  0086ef22de8f  ...  ff53b94f7ce0  ff5b8d659ca6  \\\n",
       "student_id                                ...                               \n",
       "000e8c3c7ddb      0.410018      0.729418  ...     -0.949879     -0.423251   \n",
       "0020ae56ffbf      0.911107      0.757809  ...     -0.253993     -0.932159   \n",
       "004e978e639e     -0.814302     -0.828908  ...      0.393991      0.925585   \n",
       "005ab0199905      0.800826      0.979815  ...     -0.737773     -0.875095   \n",
       "0070c9e7af47     -0.711773     -0.642367  ...      0.381345      0.762608   \n",
       "\n",
       "student_id    ff5e9e6068da  ff66def9f97c  ff78813d4f7b  ff7c7e70df07  \\\n",
       "student_id                                                             \n",
       "000e8c3c7ddb      0.786972      0.550805     -0.146959     -0.377198   \n",
       "0020ae56ffbf      0.600190     -0.252404     -0.495881      0.082465   \n",
       "004e978e639e     -0.792976      0.325044      0.487834     -0.153964   \n",
       "005ab0199905      0.941406      0.096317     -0.228785      0.018824   \n",
       "0070c9e7af47     -0.678570      0.185917      0.784856      0.189939   \n",
       "\n",
       "student_id    ffc34d056498  ffd1576d2e1b  ffe4a98093b2  fffbccfd8a08  \n",
       "student_id                                                            \n",
       "000e8c3c7ddb      0.341692      0.897721      0.622286     -0.447499  \n",
       "0020ae56ffbf      0.825228      0.548295      0.789763     -0.372859  \n",
       "004e978e639e     -0.713581     -0.585085     -0.688382      0.564824  \n",
       "005ab0199905      0.760731      0.904334      0.828342     -0.512281  \n",
       "0070c9e7af47     -0.548980     -0.439657     -0.556731      0.782219  \n",
       "\n",
       "[5 rows x 7165 columns]"
      ]
     },
     "execution_count": 27,
     "metadata": {},
     "output_type": "execute_result"
    }
   ],
   "source": [
    "import numpy as np\n",
    "\n",
    "cosine_sim = cosine_similarity(features_normalise)\n",
    "cosine_sim_df = pd.DataFrame(cosine_sim, index=merged_df_featured['student_id'], columns=merged_df_featured['student_id'])\n",
    "cosine_sim_df.head()"
   ]
  },
  {
   "cell_type": "code",
   "execution_count": 29,
   "id": "2c139c97",
   "metadata": {},
   "outputs": [
    {
     "name": "stdout",
     "output_type": "stream",
     "text": [
      "-0.687287542029713 2.5075224356314\n",
      "-0.8007613915131694\n"
     ]
    }
   ],
   "source": [
    "# reponse_id\n",
    "R_id = r_random['student_id'].iloc[0]\n",
    "R_star_id = r_star['student_id'].iloc[0]\n",
    "\n",
    "\n",
    "# obtenir la similarite cosinus entre R et R*\n",
    "cos_sim_value = cosine_sim_df.loc[R_id, R_star_id]\n",
    "\n",
    "# Vérifier leur score et leur similarité cosinus\n",
    "content_1 = merged_df_featured.loc[merged_df_featured['student_id'] == R_id, 'content'].values[0]\n",
    "content_2 = merged_df_featured.loc[merged_df_featured['student_id'] == R_star_id, 'content'].values[0]\n",
    "print(content_1,content_2)\n",
    "print(cos_sim_value)"
   ]
  },
  {
   "cell_type": "code",
   "execution_count": 30,
   "id": "224ac0d6",
   "metadata": {},
   "outputs": [
    {
     "name": "stderr",
     "output_type": "stream",
     "text": [
      "/var/folders/sl/dmcfd6sn2xz848jw02554ty40000gn/T/ipykernel_47867/3554557130.py:19: FutureWarning: The behavior of DataFrame concatenation with empty or all-NA entries is deprecated. In a future version, this will no longer exclude empty or all-NA columns when determining the result dtypes. To retain the old behavior, exclude the relevant entries before the concat operation.\n",
      "  results_df = pd.concat([results_df, pd.DataFrame([{\n"
     ]
    }
   ],
   "source": [
    "sample_size = 500\n",
    "\n",
    "\n",
    "# Init d'un Dataframe\n",
    "results_df = pd.DataFrame(columns=['student_id_1', 'student_id_2', 'content_diff', 'cosine_similarity'])\n",
    "\n",
    "sampled_pairs = merged_df_featured.sample(n=sample_size, replace=False)\n",
    "\n",
    "for _, row in sampled_pairs.iterrows():\n",
    "    student_id_1 = row['student_id']\n",
    "    student_id_2 = merged_df_featured[merged_df_featured['student_id'] != student_id_1].sample(n=1)['student_id'].values[0]\n",
    "    \n",
    "    content_1 = row['content']\n",
    "    content_2 = merged_df_featured[merged_df_featured['student_id'] == student_id_2]['content'].values[0]\n",
    "    content_diff = abs(content_1 - content_2)\n",
    "    \n",
    "    cos_sim_value = cosine_sim_df.loc[student_id_1, student_id_2]\n",
    "    \n",
    "    results_df = pd.concat([results_df, pd.DataFrame([{\n",
    "        'student_id_1': student_id_1,\n",
    "        'student_id_2': student_id_2,\n",
    "        'content_diff': content_diff,\n",
    "        'cosine_similarity': cos_sim_value\n",
    "    }])], ignore_index=True)\n",
    "\n",
    "# Maintenant, results_df contient les différences de contenu et les similarités cosinus des paires d'échantillons sélectionnées au hasard.\n",
    "\n",
    "\n"
   ]
  },
  {
   "cell_type": "code",
   "execution_count": 31,
   "id": "94a1adde",
   "metadata": {},
   "outputs": [
    {
     "data": {
      "text/html": [
       "<div>\n",
       "<style scoped>\n",
       "    .dataframe tbody tr th:only-of-type {\n",
       "        vertical-align: middle;\n",
       "    }\n",
       "\n",
       "    .dataframe tbody tr th {\n",
       "        vertical-align: top;\n",
       "    }\n",
       "\n",
       "    .dataframe thead th {\n",
       "        text-align: right;\n",
       "    }\n",
       "</style>\n",
       "<table border=\"1\" class=\"dataframe\">\n",
       "  <thead>\n",
       "    <tr style=\"text-align: right;\">\n",
       "      <th></th>\n",
       "      <th>student_id_1</th>\n",
       "      <th>student_id_2</th>\n",
       "      <th>content_diff</th>\n",
       "      <th>cosine_similarity</th>\n",
       "    </tr>\n",
       "  </thead>\n",
       "  <tbody>\n",
       "    <tr>\n",
       "      <th>0</th>\n",
       "      <td>ab68fb5f5174</td>\n",
       "      <td>de4f698c6429</td>\n",
       "      <td>0.000000</td>\n",
       "      <td>0.544338</td>\n",
       "    </tr>\n",
       "    <tr>\n",
       "      <th>1</th>\n",
       "      <td>3523c0ba3c12</td>\n",
       "      <td>e1c3eaefc66d</td>\n",
       "      <td>0.373321</td>\n",
       "      <td>0.764393</td>\n",
       "    </tr>\n",
       "    <tr>\n",
       "      <th>2</th>\n",
       "      <td>e29cfbfad6fb</td>\n",
       "      <td>cf4922ceb9a2</td>\n",
       "      <td>1.250720</td>\n",
       "      <td>0.648835</td>\n",
       "    </tr>\n",
       "    <tr>\n",
       "      <th>3</th>\n",
       "      <td>270d803c6678</td>\n",
       "      <td>63665b54b197</td>\n",
       "      <td>0.827811</td>\n",
       "      <td>0.052917</td>\n",
       "    </tr>\n",
       "    <tr>\n",
       "      <th>4</th>\n",
       "      <td>17dc198b7950</td>\n",
       "      <td>514deb5126f8</td>\n",
       "      <td>0.795336</td>\n",
       "      <td>-0.488175</td>\n",
       "    </tr>\n",
       "    <tr>\n",
       "      <th>5</th>\n",
       "      <td>564f0f73c022</td>\n",
       "      <td>9d7968a03dc2</td>\n",
       "      <td>0.231181</td>\n",
       "      <td>0.732807</td>\n",
       "    </tr>\n",
       "    <tr>\n",
       "      <th>6</th>\n",
       "      <td>fe6fac61dc49</td>\n",
       "      <td>4a400ed198ed</td>\n",
       "      <td>1.646337</td>\n",
       "      <td>0.240180</td>\n",
       "    </tr>\n",
       "    <tr>\n",
       "      <th>7</th>\n",
       "      <td>8a942183a881</td>\n",
       "      <td>69cb24f05107</td>\n",
       "      <td>1.554222</td>\n",
       "      <td>0.889042</td>\n",
       "    </tr>\n",
       "    <tr>\n",
       "      <th>8</th>\n",
       "      <td>0f83c392285f</td>\n",
       "      <td>5349444caa08</td>\n",
       "      <td>2.954954</td>\n",
       "      <td>-0.716892</td>\n",
       "    </tr>\n",
       "    <tr>\n",
       "      <th>9</th>\n",
       "      <td>338540fbcbb8</td>\n",
       "      <td>e168326d0df4</td>\n",
       "      <td>0.598993</td>\n",
       "      <td>-0.441133</td>\n",
       "    </tr>\n",
       "  </tbody>\n",
       "</table>\n",
       "</div>"
      ],
      "text/plain": [
       "   student_id_1  student_id_2  content_diff  cosine_similarity\n",
       "0  ab68fb5f5174  de4f698c6429      0.000000           0.544338\n",
       "1  3523c0ba3c12  e1c3eaefc66d      0.373321           0.764393\n",
       "2  e29cfbfad6fb  cf4922ceb9a2      1.250720           0.648835\n",
       "3  270d803c6678  63665b54b197      0.827811           0.052917\n",
       "4  17dc198b7950  514deb5126f8      0.795336          -0.488175\n",
       "5  564f0f73c022  9d7968a03dc2      0.231181           0.732807\n",
       "6  fe6fac61dc49  4a400ed198ed      1.646337           0.240180\n",
       "7  8a942183a881  69cb24f05107      1.554222           0.889042\n",
       "8  0f83c392285f  5349444caa08      2.954954          -0.716892\n",
       "9  338540fbcbb8  e168326d0df4      0.598993          -0.441133"
      ]
     },
     "execution_count": 31,
     "metadata": {},
     "output_type": "execute_result"
    }
   ],
   "source": [
    "results_df.head(10)"
   ]
  },
  {
   "cell_type": "code",
   "execution_count": 32,
   "id": "ce484121",
   "metadata": {},
   "outputs": [
    {
     "data": {
      "image/png": "[encoded data removed]",
      "text/plain": [
       "<Figure size 1000x600 with 1 Axes>"
      ]
     },
     "metadata": {},
     "output_type": "display_data"
    }
   ],
   "source": [
    "# Visualisation des rapport entre scores_diff et cos_sim\n",
    "import matplotlib.pyplot as plt\n",
    "import seaborn as sns\n",
    "\n",
    "correlation = results_df['content_diff'].corr(results_df['cosine_similarity'])\n",
    "\n",
    "\n",
    "plt.figure(figsize=(10, 6))\n",
    "sns.scatterplot(x='content_diff', y='cosine_similarity', data=results_df)\n",
    "\n",
    "plt.title(f'Score Difference vs. Cosinus Similarity (Correlation: {correlation:.2f})')\n",
    "plt.xlabel('Score Difference')\n",
    "plt.ylabel('Cosinus Similarity')\n",
    "\n",
    "plt.show()\n"
   ]
  },
  {
   "cell_type": "markdown",
   "id": "50d73cb7",
   "metadata": {},
   "source": [
    "---"
   ]
  },
  {
   "cell_type": "markdown",
   "id": "72ca016c",
   "metadata": {},
   "source": [
    "## 6️⃣ Combiner les deux réponses"
   ]
  },
  {
   "cell_type": "code",
   "execution_count": 34,
   "id": "1131d4aa",
   "metadata": {},
   "outputs": [],
   "source": [
    "# Extraire les textes de R et R*, les convertir en format JSON\n",
    "\n",
    "# Extraction\n",
    "good_answer_text = r_star['text'].iloc[0]\n",
    "random_answer_text = r_random['text'].iloc[0]\n",
    "\n",
    "# Conversion des textes en format JSON\n",
    "combined_Rs = f'''{{\n",
    "    \"A\": \"{good_answer_text}\",\n",
    "    \"B\": \"{random_answer_text}\"\n",
    "}}'''\n"
   ]
  },
  {
   "cell_type": "code",
   "execution_count": 35,
   "id": "03b7b237",
   "metadata": {},
   "outputs": [
    {
     "data": {
      "text/plain": [
       "'{\\n    \"A\": \"The third wave was an experiment that Ron Jones conducted as a social experiment at Cubberley High school in Palo Alto, CA. This lasted only five days because it got very out of control and developed way too fast.  originally, Jones stated he was starting a movement to illuminate democracy. The third wave was a symbol of strength. The movement went from 30 participants to 44 on the first day , he taught the students how to initiate new members, and by the end of the day there were over 200 members. The students were all very loyal to Jones,   \"Jones was surprised that some of the students started reporting to him when other members of the movement failed to abide by the rules\" This was a sign to him that students would do anything for power, and to move up and get superior to other students. He knew something must be done. The  experiment ended because people took this very srriously and they were very loyal to this and this was the students developing ba sense of superiority over one another, he felt it was slipping out of control.  Jones toled the students, \"they had been a part of an experiment to demonstrate how people willingly create a sense of superiority4 over others, and how this can lead people to justify doing horrible things in the name of the state’s honor\" He felt the experiment growing out of his reach,  he ended it for the sake of the students and their future loyalty to eachother.   \",\\n    \"B\": \"Once he gave control to the kids they toke it ran with it. It was ended because it was growing too fast and they were taking too far.\"\\n}'"
      ]
     },
     "execution_count": 35,
     "metadata": {},
     "output_type": "execute_result"
    }
   ],
   "source": [
    "combined_Rs"
   ]
  },
  {
   "cell_type": "code",
   "execution_count": 36,
   "id": "3c0f4e66",
   "metadata": {},
   "outputs": [
    {
     "name": "stdout",
     "output_type": "stream",
     "text": [
      "OpenAI API key: ········\n"
     ]
    }
   ],
   "source": [
    "api_key = getpass('OpenAI API key: ')"
   ]
  },
  {
   "cell_type": "code",
   "execution_count": 37,
   "id": "57da0525",
   "metadata": {},
   "outputs": [],
   "source": [
    "os.environ[\"OPENAI_API_KEY\"] = api_key\n",
    "\n",
    "client = OpenAI()"
   ]
  },
  {
   "cell_type": "code",
   "execution_count": 40,
   "id": "3f084b94",
   "metadata": {},
   "outputs": [],
   "source": [
    "\n",
    "# utiliser json pour former le prompt\n",
    "texts = combined_Rs\n",
    "\n",
    "completion = client.chat.completions.create(\n",
    "  model=\"gpt-3.5-turbo-0301\",\n",
    "  messages=[\n",
    "    {\"role\": \"system\", \"content\": \n",
    "     \"Given 2 texts: A and B in a json format . You need to intergrate the key points of A into B without changing too much B's content, in order to return a new text.\"},\n",
    "    {\"role\": \"system\", \"content\": \n",
    "     \"The length of the new text created should be less than the sum of the lengths of two texts. Your output should be in a correct json format, with the key 'combined_text' and the value as the new text.\"},\n",
    "    {\"role\": \"system\", \"content\": \n",
    "     \"You should focus on the contenu\"},\n",
    "    {\"role\": \"user\", \n",
    "     \"content\": texts}\n",
    "  ],\n",
    "    temperature=0.3\n",
    "    )\n",
    "# print(completion.choices[0].message)\n",
    "# print(dict(completion).get('usage'))\n",
    "\n",
    "retour = completion.model_dump_json(indent=2)\n",
    "retour_json = json.loads(retour)\n",
    "retour_texte = json.loads(retour_json['choices'][0]['message']['content'])[\"combined_text\"]"
   ]
  },
  {
   "cell_type": "code",
   "execution_count": 41,
   "id": "def009f6",
   "metadata": {},
   "outputs": [
    {
     "name": "stdout",
     "output_type": "stream",
     "text": [
      "Once he gave control to the kids they took it and ran with it. The third wave was an experiment that Ron Jones conducted as a social experiment at Cubberley High school in Palo Alto, CA. This lasted only five days because it got very out of control and developed way too fast. Originally, Jones stated he was starting a movement to illuminate democracy. The third wave was a symbol of strength. The movement went from 30 participants to 44 on the first day, he taught the students how to initiate new members, and by the end of the day there were over 200 members. The students were all very loyal to Jones, 'Jones was surprised that some of the students started reporting to him when other members of the movement failed to abide by the rules.' This was a sign to him that students would do anything for power, and to move up and get superior to other students. He knew something must be done. The experiment ended because people took this very seriously and they were very loyal to this and this was the students developing a sense of superiority over one another, he felt it was slipping out of control. Jones told the students, 'they had been a part of an experiment to demonstrate how people willingly create a sense of superiority over others, and how this can lead people to justify doing horrible things in the name of the state’s honor.' He felt the experiment growing out of his reach, he ended it for the sake of the students and their future loyalty to each other.\n"
     ]
    }
   ],
   "source": [
    "print(retour_texte)"
   ]
  },
  {
   "cell_type": "code",
   "execution_count": 42,
   "id": "d5465ffc",
   "metadata": {},
   "outputs": [
    {
     "name": "stdout",
     "output_type": "stream",
     "text": [
      "1476\n",
      "1584\n"
     ]
    }
   ],
   "source": [
    "print(len(retour_texte))\n",
    "print(len(texts))\n"
   ]
  },
  {
   "cell_type": "code",
   "execution_count": 43,
   "id": "9f634f66",
   "metadata": {},
   "outputs": [
    {
     "data": {
      "text/html": [
       "<div>\n",
       "<style scoped>\n",
       "    .dataframe tbody tr th:only-of-type {\n",
       "        vertical-align: middle;\n",
       "    }\n",
       "\n",
       "    .dataframe tbody tr th {\n",
       "        vertical-align: top;\n",
       "    }\n",
       "\n",
       "    .dataframe thead th {\n",
       "        text-align: right;\n",
       "    }\n",
       "</style>\n",
       "<table border=\"1\" class=\"dataframe\">\n",
       "  <thead>\n",
       "    <tr style=\"text-align: right;\">\n",
       "      <th></th>\n",
       "      <th>student_id</th>\n",
       "      <th>prompt_id</th>\n",
       "      <th>text</th>\n",
       "    </tr>\n",
       "  </thead>\n",
       "  <tbody>\n",
       "    <tr>\n",
       "      <th>0</th>\n",
       "      <td>000000ffffff</td>\n",
       "      <td>def789</td>\n",
       "      <td>Once he gave control to the kids they took it ...</td>\n",
       "    </tr>\n",
       "  </tbody>\n",
       "</table>\n",
       "</div>"
      ],
      "text/plain": [
       "     student_id prompt_id                                               text\n",
       "0  000000ffffff    def789  Once he gave control to the kids they took it ..."
      ]
     },
     "execution_count": 43,
     "metadata": {},
     "output_type": "execute_result"
    }
   ],
   "source": [
    "# créer un enregistrement\n",
    "\n",
    "stu_id= '000000ffffff'\n",
    "prompt_id = 'def789'\n",
    "text_test = retour_texte\n",
    "\n",
    "data_4_test = {\n",
    "    'student_id': [stu_id],\n",
    "    'prompt_id': [prompt_id],\n",
    "    'text': [text_test]\n",
    "}\n",
    "\n",
    "test_data = pd.DataFrame(data_4_test)\n",
    "# Jusqu'à ici, on a combiné les deux réponses.\n",
    "\n",
    "test_data"
   ]
  },
  {
   "cell_type": "markdown",
   "id": "40bc94aa",
   "metadata": {},
   "source": [
    "---"
   ]
  },
  {
   "cell_type": "markdown",
   "id": "02f5c8ac",
   "metadata": {},
   "source": [
    "## 7️⃣ Modélisation et prédiction"
   ]
  },
  {
   "cell_type": "code",
   "execution_count": 45,
   "id": "da989c2f",
   "metadata": {},
   "outputs": [
    {
     "data": {
      "text/plain": [
       "(7163, 17)"
      ]
     },
     "execution_count": 45,
     "metadata": {},
     "output_type": "execute_result"
    }
   ],
   "source": [
    "# Suppression des deux enregistrements du DataFrame pour éviter le surapprentissage\n",
    "\n",
    "merged_df_featured = merged_df_featured.drop(r_star.index)\n",
    "merged_df_featured = merged_df_featured.drop(r_random.index)\n",
    "merged_df_featured.shape"
   ]
  },
  {
   "cell_type": "code",
   "execution_count": 50,
   "id": "3d1c816d",
   "metadata": {},
   "outputs": [],
   "source": [
    "import pickle\n",
    "\n",
    "\n",
    "def preprocess_text(text):\n",
    "    tokens = nltk.word_tokenize(text)\n",
    "    \n",
    "    tokens = [token.lower() for token in tokens]\n",
    "    \n",
    "    tokens = [token for token in tokens if token.isalnum()]\n",
    "    \n",
    "    stop_words = set(stopwords.words('english'))\n",
    "    tokens = [token for token in tokens if token not in stop_words]\n",
    "    \n",
    "    preprocessed_text = ' '.join(tokens)\n",
    "    \n",
    "    return preprocessed_text\n",
    "\n",
    "\n",
    "def extract_features_tfidf(texts):\n",
    "    tfidf_vectorizer = TfidfVectorizer()\n",
    "    \n",
    "    features = tfidf_vectorizer.fit_transform(texts)\n",
    "    with open('tfidf_vectorizer.pkl', 'wb') as f:\n",
    "        pickle.dump(tfidf_vectorizer, f)\n",
    "    \n",
    "    return features"
   ]
  },
  {
   "cell_type": "code",
   "execution_count": 55,
   "id": "f3748124",
   "metadata": {},
   "outputs": [
    {
     "data": {
      "text/plain": [
       "0       The third wave was an experimentto see how peo...\n",
       "1       They would rub it up with soda to make the sme...\n",
       "2       In Egypt, there were many occupations and soci...\n",
       "3       The highest class was Pharaohs these people we...\n",
       "4       The Third Wave developed  rapidly because the ...\n",
       "                              ...                        \n",
       "7160    They used all sorts of chemical concoctions to...\n",
       "7161    The lowest classes are slaves and farmers slav...\n",
       "7162               they sorta made people start workin...\n",
       "7163    An ideal tragety has three elements that make ...\n",
       "7164    The meat would smell sour but the would \"rub i...\n",
       "Name: text, Length: 7163, dtype: object"
      ]
     },
     "execution_count": 55,
     "metadata": {},
     "output_type": "execute_result"
    }
   ],
   "source": [
    "# importer les données\n",
    "train_text = merged_df_featured.text\n",
    "test_text = test_data.text\n",
    "train_text"
   ]
  },
  {
   "cell_type": "code",
   "execution_count": 56,
   "id": "b4f3475b",
   "metadata": {},
   "outputs": [],
   "source": [
    "# pretraitement\n",
    "pretraite_train_text = [preprocess_text(reponse) for reponse in train_text]\n",
    "pretraite_text_text = [preprocess_text(reponse) for reponse in test_text]"
   ]
  },
  {
   "cell_type": "code",
   "execution_count": 57,
   "id": "fc89de82",
   "metadata": {},
   "outputs": [],
   "source": [
    "train_tfidf_features = extract_features_tfidf(pretraite_train_text)\n",
    "\n",
    "with open('tfidf_vectorizer.pkl', 'rb') as f:\n",
    "    loaded_tfidf_vectorizer = pickle.load(f)\n",
    "\n",
    "test_tfidf_features = loaded_tfidf_vectorizer.transform(pretraite_text_text)"
   ]
  },
  {
   "cell_type": "code",
   "execution_count": 58,
   "id": "82df5544",
   "metadata": {},
   "outputs": [
    {
     "data": {
      "text/plain": [
       "(7163, 11985)"
      ]
     },
     "execution_count": 58,
     "metadata": {},
     "output_type": "execute_result"
    }
   ],
   "source": [
    "train_tfidf_features.shape"
   ]
  },
  {
   "cell_type": "code",
   "execution_count": 59,
   "id": "1a0d6bd6",
   "metadata": {},
   "outputs": [
    {
     "data": {
      "text/plain": [
       "(1, 11985)"
      ]
     },
     "execution_count": 59,
     "metadata": {},
     "output_type": "execute_result"
    }
   ],
   "source": [
    "test_tfidf_features.shape\n"
   ]
  },
  {
   "cell_type": "code",
   "execution_count": 61,
   "id": "741b0494",
   "metadata": {},
   "outputs": [],
   "source": [
    "target_labels = merged_df_featured[['content']]\n",
    "X_train, X_test, y_train, y_test = train_test_split(train_tfidf_features, target_labels, test_size=0.1, random_state=42)\n",
    "\n",
    "# X_train = train_tfidf_features\n",
    "# y_train = target_labels"
   ]
  },
  {
   "cell_type": "code",
   "execution_count": 62,
   "id": "e1055db3",
   "metadata": {},
   "outputs": [],
   "source": [
    "# entraînement\n",
    "regressor = XGBRegressor()\n",
    "regressor.fit(X_train, y_train)\n",
    "predictions = regressor.predict(X_test)"
   ]
  },
  {
   "cell_type": "code",
   "execution_count": 63,
   "id": "52bdea8f",
   "metadata": {},
   "outputs": [
    {
     "name": "stdout",
     "output_type": "stream",
     "text": [
      "mse: 0.2913474277806825\n"
     ]
    }
   ],
   "source": [
    "mse = mean_squared_error(y_test, predictions)\n",
    "print(f\"mse: {mse}\")"
   ]
  },
  {
   "cell_type": "code",
   "execution_count": 66,
   "id": "c97fc4b3",
   "metadata": {},
   "outputs": [
    {
     "name": "stdout",
     "output_type": "stream",
     "text": [
      "Predictions on new data: [2.6601431]\n"
     ]
    }
   ],
   "source": [
    "# Prédire\n",
    "new_predictions = regressor.predict(test_tfidf_features)\n",
    "print(f\"Predictions on new data: {new_predictions}\")"
   ]
  },
  {
   "cell_type": "code",
   "execution_count": null,
   "id": "557e0eb4",
   "metadata": {},
   "outputs": [],
   "source": []
  },
  {
   "cell_type": "code",
   "execution_count": null,
   "id": "0341f0ad",
   "metadata": {},
   "outputs": [],
   "source": []
  },
  {
   "cell_type": "markdown",
   "id": "4eef5309",
   "metadata": {},
   "source": [
    "---"
   ]
  }
 ],
 "metadata": {
  "kernelspec": {
   "display_name": "Python 3 (ipykernel)",
   "language": "python",
   "name": "python3"
  },
  "language_info": {
   "codemirror_mode": {
    "name": "ipython",
    "version": 3
   },
   "file_extension": ".py",
   "mimetype": "text/x-python",
   "name": "python",
   "nbconvert_exporter": "python",
   "pygments_lexer": "ipython3",
   "version": "3.9.16"
  }
 },
 "nbformat": 4,
 "nbformat_minor": 5
}
